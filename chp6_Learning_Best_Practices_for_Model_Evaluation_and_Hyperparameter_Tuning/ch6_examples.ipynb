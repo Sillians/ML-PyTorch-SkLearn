{
 "cells": [
  {
   "cell_type": "markdown",
   "id": "d77618b1",
   "metadata": {},
   "source": [
    "# **Learning Best Practices for Model Evaluation and Hyperparameter Tuning**\n",
    "\n",
    "**Outline**\n",
    "\n",
    "- Streamlining workflows with pipelines\n",
    "    - Loading the Breast Cancer Wisconsin dataset\n",
    "    - Combining transformers and estimators in a pipeline\n",
    "\n",
    "- Using k-fold cross-validation to assess model performance\n",
    "    - The holdout method\n",
    "    - K-fold cross-validation\n",
    "\n",
    "- Debugging algorithms with learning and validation curves\n",
    "    - Diagnosing bias and variance problems with learning curves\n",
    "    - Addressing over- and underfitting with validation curves\n",
    "\n",
    "- Fine-tuning machine learning models via grid search\n",
    "    - Tuning hyperparameters via grid search\n",
    "    - Exploring hyperparameter configurations more widely with randomized search\n",
    "    - More resource-efficient hyperparameter search with successive halving\n",
    "    - Algorithm selection with nested cross-validation\n",
    "\n",
    "- Looking at different performance evaluation metrics\n",
    "    - Reading a confusion matrix\n",
    "    - Optimizing the precision and recall of a classification model\n",
    "    - Plotting a receiver operating characteristic\n",
    "    - Scoring metrics for multiclass classification\n",
    "\n",
    "- Dealing with class imbalance"
   ]
  },
  {
   "cell_type": "markdown",
   "id": "3c8b3811",
   "metadata": {},
   "source": [
    "## **Streamlining workflows with pipelines**\n",
    "\n",
    "- Pipeline class in scikit-learn, which allows us to fit a model including an arbitrary number of transformation steps and apply it to make predictions about new data\n",
    "\n",
    "---\n"
   ]
  },
  {
   "cell_type": "code",
   "execution_count": 1,
   "id": "2cac16a0",
   "metadata": {},
   "outputs": [],
   "source": [
    "from IPython.display import Image\n",
    "%matplotlib inline"
   ]
  },
  {
   "cell_type": "markdown",
   "id": "2a6364df",
   "metadata": {},
   "source": [
    "### **Loading the Breast Cancer Wisconsin dataset**"
   ]
  },
  {
   "cell_type": "markdown",
   "id": "cd91bbbb",
   "metadata": {},
   "source": [
    "- We will be working with the `Breast Cancer Wisconsin` dataset, which contains `569` examples of `malignant` and `benign` tumor cells. The first two columns in the dataset store the unique ID numbers of the examples and the corresponding diagnoses (M = malignant, B = benign), respectivey. \n",
    "\n",
    "- Columns 3-32 contain 30 real-valued features that have been computed from digitized images of the cell nuclei, which can be used to build a model to predict whether a tumor is benign or malignant."
   ]
  },
  {
   "cell_type": "code",
   "execution_count": 18,
   "id": "f2caf2df",
   "metadata": {},
   "outputs": [
    {
     "data": {
      "text/html": [
       "<div>\n",
       "<style scoped>\n",
       "    .dataframe tbody tr th:only-of-type {\n",
       "        vertical-align: middle;\n",
       "    }\n",
       "\n",
       "    .dataframe tbody tr th {\n",
       "        vertical-align: top;\n",
       "    }\n",
       "\n",
       "    .dataframe thead th {\n",
       "        text-align: right;\n",
       "    }\n",
       "</style>\n",
       "<table border=\"1\" class=\"dataframe\">\n",
       "  <thead>\n",
       "    <tr style=\"text-align: right;\">\n",
       "      <th></th>\n",
       "      <th>Unnamed: 0</th>\n",
       "      <th>x.radius_mean</th>\n",
       "      <th>x.texture_mean</th>\n",
       "      <th>x.perimeter_mean</th>\n",
       "      <th>x.area_mean</th>\n",
       "      <th>x.smoothness_mean</th>\n",
       "      <th>x.compactness_mean</th>\n",
       "      <th>x.concavity_mean</th>\n",
       "      <th>x.concave_pts_mean</th>\n",
       "      <th>x.symmetry_mean</th>\n",
       "      <th>...</th>\n",
       "      <th>x.texture_worst</th>\n",
       "      <th>x.perimeter_worst</th>\n",
       "      <th>x.area_worst</th>\n",
       "      <th>x.smoothness_worst</th>\n",
       "      <th>x.compactness_worst</th>\n",
       "      <th>x.concavity_worst</th>\n",
       "      <th>x.concave_pts_worst</th>\n",
       "      <th>x.symmetry_worst</th>\n",
       "      <th>x.fractal_dim_worst</th>\n",
       "      <th>y</th>\n",
       "    </tr>\n",
       "  </thead>\n",
       "  <tbody>\n",
       "    <tr>\n",
       "      <th>0</th>\n",
       "      <td>1</td>\n",
       "      <td>13.540</td>\n",
       "      <td>14.36</td>\n",
       "      <td>87.46</td>\n",
       "      <td>566.3</td>\n",
       "      <td>0.09779</td>\n",
       "      <td>0.08129</td>\n",
       "      <td>0.06664</td>\n",
       "      <td>0.047810</td>\n",
       "      <td>0.1885</td>\n",
       "      <td>...</td>\n",
       "      <td>19.26</td>\n",
       "      <td>99.70</td>\n",
       "      <td>711.2</td>\n",
       "      <td>0.14400</td>\n",
       "      <td>0.17730</td>\n",
       "      <td>0.23900</td>\n",
       "      <td>0.12880</td>\n",
       "      <td>0.2977</td>\n",
       "      <td>0.07259</td>\n",
       "      <td>B</td>\n",
       "    </tr>\n",
       "    <tr>\n",
       "      <th>1</th>\n",
       "      <td>2</td>\n",
       "      <td>13.080</td>\n",
       "      <td>15.71</td>\n",
       "      <td>85.63</td>\n",
       "      <td>520.0</td>\n",
       "      <td>0.10750</td>\n",
       "      <td>0.12700</td>\n",
       "      <td>0.04568</td>\n",
       "      <td>0.031100</td>\n",
       "      <td>0.1967</td>\n",
       "      <td>...</td>\n",
       "      <td>20.49</td>\n",
       "      <td>96.09</td>\n",
       "      <td>630.5</td>\n",
       "      <td>0.13120</td>\n",
       "      <td>0.27760</td>\n",
       "      <td>0.18900</td>\n",
       "      <td>0.07283</td>\n",
       "      <td>0.3184</td>\n",
       "      <td>0.08183</td>\n",
       "      <td>B</td>\n",
       "    </tr>\n",
       "    <tr>\n",
       "      <th>2</th>\n",
       "      <td>3</td>\n",
       "      <td>9.504</td>\n",
       "      <td>12.44</td>\n",
       "      <td>60.34</td>\n",
       "      <td>273.9</td>\n",
       "      <td>0.10240</td>\n",
       "      <td>0.06492</td>\n",
       "      <td>0.02956</td>\n",
       "      <td>0.020760</td>\n",
       "      <td>0.1815</td>\n",
       "      <td>...</td>\n",
       "      <td>15.66</td>\n",
       "      <td>65.13</td>\n",
       "      <td>314.9</td>\n",
       "      <td>0.13240</td>\n",
       "      <td>0.11480</td>\n",
       "      <td>0.08867</td>\n",
       "      <td>0.06227</td>\n",
       "      <td>0.2450</td>\n",
       "      <td>0.07773</td>\n",
       "      <td>B</td>\n",
       "    </tr>\n",
       "    <tr>\n",
       "      <th>3</th>\n",
       "      <td>4</td>\n",
       "      <td>13.030</td>\n",
       "      <td>18.42</td>\n",
       "      <td>82.61</td>\n",
       "      <td>523.8</td>\n",
       "      <td>0.08983</td>\n",
       "      <td>0.03766</td>\n",
       "      <td>0.02562</td>\n",
       "      <td>0.029230</td>\n",
       "      <td>0.1467</td>\n",
       "      <td>...</td>\n",
       "      <td>22.81</td>\n",
       "      <td>84.46</td>\n",
       "      <td>545.9</td>\n",
       "      <td>0.09701</td>\n",
       "      <td>0.04619</td>\n",
       "      <td>0.04833</td>\n",
       "      <td>0.05013</td>\n",
       "      <td>0.1987</td>\n",
       "      <td>0.06169</td>\n",
       "      <td>B</td>\n",
       "    </tr>\n",
       "    <tr>\n",
       "      <th>4</th>\n",
       "      <td>5</td>\n",
       "      <td>8.196</td>\n",
       "      <td>16.84</td>\n",
       "      <td>51.71</td>\n",
       "      <td>201.9</td>\n",
       "      <td>0.08600</td>\n",
       "      <td>0.05943</td>\n",
       "      <td>0.01588</td>\n",
       "      <td>0.005917</td>\n",
       "      <td>0.1769</td>\n",
       "      <td>...</td>\n",
       "      <td>21.96</td>\n",
       "      <td>57.26</td>\n",
       "      <td>242.2</td>\n",
       "      <td>0.12970</td>\n",
       "      <td>0.13570</td>\n",
       "      <td>0.06880</td>\n",
       "      <td>0.02564</td>\n",
       "      <td>0.3105</td>\n",
       "      <td>0.07409</td>\n",
       "      <td>B</td>\n",
       "    </tr>\n",
       "  </tbody>\n",
       "</table>\n",
       "<p>5 rows × 32 columns</p>\n",
       "</div>"
      ],
      "text/plain": [
       "   Unnamed: 0  x.radius_mean  x.texture_mean  x.perimeter_mean  x.area_mean  \\\n",
       "0           1         13.540           14.36             87.46        566.3   \n",
       "1           2         13.080           15.71             85.63        520.0   \n",
       "2           3          9.504           12.44             60.34        273.9   \n",
       "3           4         13.030           18.42             82.61        523.8   \n",
       "4           5          8.196           16.84             51.71        201.9   \n",
       "\n",
       "   x.smoothness_mean  x.compactness_mean  x.concavity_mean  \\\n",
       "0            0.09779             0.08129           0.06664   \n",
       "1            0.10750             0.12700           0.04568   \n",
       "2            0.10240             0.06492           0.02956   \n",
       "3            0.08983             0.03766           0.02562   \n",
       "4            0.08600             0.05943           0.01588   \n",
       "\n",
       "   x.concave_pts_mean  x.symmetry_mean  ...  x.texture_worst  \\\n",
       "0            0.047810           0.1885  ...            19.26   \n",
       "1            0.031100           0.1967  ...            20.49   \n",
       "2            0.020760           0.1815  ...            15.66   \n",
       "3            0.029230           0.1467  ...            22.81   \n",
       "4            0.005917           0.1769  ...            21.96   \n",
       "\n",
       "   x.perimeter_worst  x.area_worst  x.smoothness_worst  x.compactness_worst  \\\n",
       "0              99.70         711.2             0.14400              0.17730   \n",
       "1              96.09         630.5             0.13120              0.27760   \n",
       "2              65.13         314.9             0.13240              0.11480   \n",
       "3              84.46         545.9             0.09701              0.04619   \n",
       "4              57.26         242.2             0.12970              0.13570   \n",
       "\n",
       "   x.concavity_worst  x.concave_pts_worst  x.symmetry_worst  \\\n",
       "0            0.23900              0.12880            0.2977   \n",
       "1            0.18900              0.07283            0.3184   \n",
       "2            0.08867              0.06227            0.2450   \n",
       "3            0.04833              0.05013            0.1987   \n",
       "4            0.06880              0.02564            0.3105   \n",
       "\n",
       "   x.fractal_dim_worst  y  \n",
       "0              0.07259  B  \n",
       "1              0.08183  B  \n",
       "2              0.07773  B  \n",
       "3              0.06169  B  \n",
       "4              0.07409  B  \n",
       "\n",
       "[5 rows x 32 columns]"
      ]
     },
     "execution_count": 18,
     "metadata": {},
     "output_type": "execute_result"
    }
   ],
   "source": [
    "import pandas as pd\n",
    "\n",
    "breast_cancer_wisconsin_dataset_path = \"../data/brca.csv\"\n",
    "\n",
    "df = pd.read_csv(breast_cancer_wisconsin_dataset_path)\n",
    "df.head()"
   ]
  },
  {
   "cell_type": "code",
   "execution_count": 19,
   "id": "017ac9c7",
   "metadata": {},
   "outputs": [
    {
     "data": {
      "text/plain": [
       "Index(['Unnamed: 0', 'x.radius_mean', 'x.texture_mean', 'x.perimeter_mean',\n",
       "       'x.area_mean', 'x.smoothness_mean', 'x.compactness_mean',\n",
       "       'x.concavity_mean', 'x.concave_pts_mean', 'x.symmetry_mean',\n",
       "       'x.fractal_dim_mean', 'x.radius_se', 'x.texture_se', 'x.perimeter_se',\n",
       "       'x.area_se', 'x.smoothness_se', 'x.compactness_se', 'x.concavity_se',\n",
       "       'x.concave_pts_se', 'x.symmetry_se', 'x.fractal_dim_se',\n",
       "       'x.radius_worst', 'x.texture_worst', 'x.perimeter_worst',\n",
       "       'x.area_worst', 'x.smoothness_worst', 'x.compactness_worst',\n",
       "       'x.concavity_worst', 'x.concave_pts_worst', 'x.symmetry_worst',\n",
       "       'x.fractal_dim_worst', 'y'],\n",
       "      dtype='object')"
      ]
     },
     "execution_count": 19,
     "metadata": {},
     "output_type": "execute_result"
    }
   ],
   "source": [
    "df.columns"
   ]
  },
  {
   "cell_type": "code",
   "execution_count": 20,
   "id": "62151bef",
   "metadata": {},
   "outputs": [
    {
     "data": {
      "text/plain": [
       "(569, 32)"
      ]
     },
     "execution_count": 20,
     "metadata": {},
     "output_type": "execute_result"
    }
   ],
   "source": [
    "df.shape"
   ]
  },
  {
   "cell_type": "code",
   "execution_count": 22,
   "id": "17ee29e5",
   "metadata": {},
   "outputs": [
    {
     "data": {
      "text/plain": [
       "(569, 31)"
      ]
     },
     "execution_count": 22,
     "metadata": {},
     "output_type": "execute_result"
    }
   ],
   "source": [
    "df.drop(columns=['Unnamed: 0'],inplace=True)\n",
    "df.shape"
   ]
  },
  {
   "cell_type": "code",
   "execution_count": 44,
   "id": "3c4f48d6",
   "metadata": {},
   "outputs": [
    {
     "data": {
      "text/html": [
       "<div>\n",
       "<style scoped>\n",
       "    .dataframe tbody tr th:only-of-type {\n",
       "        vertical-align: middle;\n",
       "    }\n",
       "\n",
       "    .dataframe tbody tr th {\n",
       "        vertical-align: top;\n",
       "    }\n",
       "\n",
       "    .dataframe thead th {\n",
       "        text-align: right;\n",
       "    }\n",
       "</style>\n",
       "<table border=\"1\" class=\"dataframe\">\n",
       "  <thead>\n",
       "    <tr style=\"text-align: right;\">\n",
       "      <th></th>\n",
       "      <th>x.radius_mean</th>\n",
       "      <th>x.texture_mean</th>\n",
       "      <th>x.perimeter_mean</th>\n",
       "      <th>x.area_mean</th>\n",
       "      <th>x.smoothness_mean</th>\n",
       "      <th>x.compactness_mean</th>\n",
       "      <th>x.concavity_mean</th>\n",
       "      <th>x.concave_pts_mean</th>\n",
       "      <th>x.symmetry_mean</th>\n",
       "      <th>x.fractal_dim_mean</th>\n",
       "      <th>...</th>\n",
       "      <th>x.texture_worst</th>\n",
       "      <th>x.perimeter_worst</th>\n",
       "      <th>x.area_worst</th>\n",
       "      <th>x.smoothness_worst</th>\n",
       "      <th>x.compactness_worst</th>\n",
       "      <th>x.concavity_worst</th>\n",
       "      <th>x.concave_pts_worst</th>\n",
       "      <th>x.symmetry_worst</th>\n",
       "      <th>x.fractal_dim_worst</th>\n",
       "      <th>y</th>\n",
       "    </tr>\n",
       "  </thead>\n",
       "  <tbody>\n",
       "    <tr>\n",
       "      <th>0</th>\n",
       "      <td>13.540</td>\n",
       "      <td>14.36</td>\n",
       "      <td>87.46</td>\n",
       "      <td>566.3</td>\n",
       "      <td>0.09779</td>\n",
       "      <td>0.08129</td>\n",
       "      <td>0.06664</td>\n",
       "      <td>0.047810</td>\n",
       "      <td>0.1885</td>\n",
       "      <td>0.05766</td>\n",
       "      <td>...</td>\n",
       "      <td>19.26</td>\n",
       "      <td>99.70</td>\n",
       "      <td>711.2</td>\n",
       "      <td>0.14400</td>\n",
       "      <td>0.17730</td>\n",
       "      <td>0.23900</td>\n",
       "      <td>0.12880</td>\n",
       "      <td>0.2977</td>\n",
       "      <td>0.07259</td>\n",
       "      <td>B</td>\n",
       "    </tr>\n",
       "    <tr>\n",
       "      <th>1</th>\n",
       "      <td>13.080</td>\n",
       "      <td>15.71</td>\n",
       "      <td>85.63</td>\n",
       "      <td>520.0</td>\n",
       "      <td>0.10750</td>\n",
       "      <td>0.12700</td>\n",
       "      <td>0.04568</td>\n",
       "      <td>0.031100</td>\n",
       "      <td>0.1967</td>\n",
       "      <td>0.06811</td>\n",
       "      <td>...</td>\n",
       "      <td>20.49</td>\n",
       "      <td>96.09</td>\n",
       "      <td>630.5</td>\n",
       "      <td>0.13120</td>\n",
       "      <td>0.27760</td>\n",
       "      <td>0.18900</td>\n",
       "      <td>0.07283</td>\n",
       "      <td>0.3184</td>\n",
       "      <td>0.08183</td>\n",
       "      <td>B</td>\n",
       "    </tr>\n",
       "    <tr>\n",
       "      <th>2</th>\n",
       "      <td>9.504</td>\n",
       "      <td>12.44</td>\n",
       "      <td>60.34</td>\n",
       "      <td>273.9</td>\n",
       "      <td>0.10240</td>\n",
       "      <td>0.06492</td>\n",
       "      <td>0.02956</td>\n",
       "      <td>0.020760</td>\n",
       "      <td>0.1815</td>\n",
       "      <td>0.06905</td>\n",
       "      <td>...</td>\n",
       "      <td>15.66</td>\n",
       "      <td>65.13</td>\n",
       "      <td>314.9</td>\n",
       "      <td>0.13240</td>\n",
       "      <td>0.11480</td>\n",
       "      <td>0.08867</td>\n",
       "      <td>0.06227</td>\n",
       "      <td>0.2450</td>\n",
       "      <td>0.07773</td>\n",
       "      <td>B</td>\n",
       "    </tr>\n",
       "    <tr>\n",
       "      <th>3</th>\n",
       "      <td>13.030</td>\n",
       "      <td>18.42</td>\n",
       "      <td>82.61</td>\n",
       "      <td>523.8</td>\n",
       "      <td>0.08983</td>\n",
       "      <td>0.03766</td>\n",
       "      <td>0.02562</td>\n",
       "      <td>0.029230</td>\n",
       "      <td>0.1467</td>\n",
       "      <td>0.05863</td>\n",
       "      <td>...</td>\n",
       "      <td>22.81</td>\n",
       "      <td>84.46</td>\n",
       "      <td>545.9</td>\n",
       "      <td>0.09701</td>\n",
       "      <td>0.04619</td>\n",
       "      <td>0.04833</td>\n",
       "      <td>0.05013</td>\n",
       "      <td>0.1987</td>\n",
       "      <td>0.06169</td>\n",
       "      <td>B</td>\n",
       "    </tr>\n",
       "    <tr>\n",
       "      <th>4</th>\n",
       "      <td>8.196</td>\n",
       "      <td>16.84</td>\n",
       "      <td>51.71</td>\n",
       "      <td>201.9</td>\n",
       "      <td>0.08600</td>\n",
       "      <td>0.05943</td>\n",
       "      <td>0.01588</td>\n",
       "      <td>0.005917</td>\n",
       "      <td>0.1769</td>\n",
       "      <td>0.06503</td>\n",
       "      <td>...</td>\n",
       "      <td>21.96</td>\n",
       "      <td>57.26</td>\n",
       "      <td>242.2</td>\n",
       "      <td>0.12970</td>\n",
       "      <td>0.13570</td>\n",
       "      <td>0.06880</td>\n",
       "      <td>0.02564</td>\n",
       "      <td>0.3105</td>\n",
       "      <td>0.07409</td>\n",
       "      <td>B</td>\n",
       "    </tr>\n",
       "  </tbody>\n",
       "</table>\n",
       "<p>5 rows × 31 columns</p>\n",
       "</div>"
      ],
      "text/plain": [
       "   x.radius_mean  x.texture_mean  x.perimeter_mean  x.area_mean  \\\n",
       "0         13.540           14.36             87.46        566.3   \n",
       "1         13.080           15.71             85.63        520.0   \n",
       "2          9.504           12.44             60.34        273.9   \n",
       "3         13.030           18.42             82.61        523.8   \n",
       "4          8.196           16.84             51.71        201.9   \n",
       "\n",
       "   x.smoothness_mean  x.compactness_mean  x.concavity_mean  \\\n",
       "0            0.09779             0.08129           0.06664   \n",
       "1            0.10750             0.12700           0.04568   \n",
       "2            0.10240             0.06492           0.02956   \n",
       "3            0.08983             0.03766           0.02562   \n",
       "4            0.08600             0.05943           0.01588   \n",
       "\n",
       "   x.concave_pts_mean  x.symmetry_mean  x.fractal_dim_mean  ...  \\\n",
       "0            0.047810           0.1885             0.05766  ...   \n",
       "1            0.031100           0.1967             0.06811  ...   \n",
       "2            0.020760           0.1815             0.06905  ...   \n",
       "3            0.029230           0.1467             0.05863  ...   \n",
       "4            0.005917           0.1769             0.06503  ...   \n",
       "\n",
       "   x.texture_worst  x.perimeter_worst  x.area_worst  x.smoothness_worst  \\\n",
       "0            19.26              99.70         711.2             0.14400   \n",
       "1            20.49              96.09         630.5             0.13120   \n",
       "2            15.66              65.13         314.9             0.13240   \n",
       "3            22.81              84.46         545.9             0.09701   \n",
       "4            21.96              57.26         242.2             0.12970   \n",
       "\n",
       "   x.compactness_worst  x.concavity_worst  x.concave_pts_worst  \\\n",
       "0              0.17730            0.23900              0.12880   \n",
       "1              0.27760            0.18900              0.07283   \n",
       "2              0.11480            0.08867              0.06227   \n",
       "3              0.04619            0.04833              0.05013   \n",
       "4              0.13570            0.06880              0.02564   \n",
       "\n",
       "   x.symmetry_worst  x.fractal_dim_worst  y  \n",
       "0            0.2977              0.07259  B  \n",
       "1            0.3184              0.08183  B  \n",
       "2            0.2450              0.07773  B  \n",
       "3            0.1987              0.06169  B  \n",
       "4            0.3105              0.07409  B  \n",
       "\n",
       "[5 rows x 31 columns]"
      ]
     },
     "execution_count": 44,
     "metadata": {},
     "output_type": "execute_result"
    }
   ],
   "source": [
    "df.head()"
   ]
  },
  {
   "cell_type": "code",
   "execution_count": 47,
   "id": "fece0a5a",
   "metadata": {},
   "outputs": [
    {
     "data": {
      "text/plain": [
       "array(['B', 'M'], dtype=object)"
      ]
     },
     "execution_count": 47,
     "metadata": {},
     "output_type": "execute_result"
    }
   ],
   "source": [
    "df['y'].unique()"
   ]
  },
  {
   "cell_type": "markdown",
   "id": "a5781ad9",
   "metadata": {},
   "source": [
    "- Next, we will assign the `30 features` to a NumPy array, `X`. Using a `LabelEncoder` object, we will transform the class labels from their original string representation ('M' and 'B') into integers:"
   ]
  },
  {
   "cell_type": "code",
   "execution_count": 56,
   "id": "f71161d9",
   "metadata": {},
   "outputs": [
    {
     "data": {
      "text/plain": [
       "((569, 30), (569,))"
      ]
     },
     "execution_count": 56,
     "metadata": {},
     "output_type": "execute_result"
    }
   ],
   "source": [
    "from sklearn.preprocessing import LabelEncoder\n",
    "\n",
    "X = df.drop('y', axis=1).values\n",
    "y = df['y'].values\n",
    "\n",
    "X.shape, y.shape"
   ]
  },
  {
   "cell_type": "code",
   "execution_count": 57,
   "id": "2c600cdf",
   "metadata": {},
   "outputs": [
    {
     "data": {
      "text/plain": [
       "(array([[1.354e+01, 1.436e+01, 8.746e+01, ..., 1.288e-01, 2.977e-01,\n",
       "         7.259e-02],\n",
       "        [1.308e+01, 1.571e+01, 8.563e+01, ..., 7.283e-02, 3.184e-01,\n",
       "         8.183e-02],\n",
       "        [9.504e+00, 1.244e+01, 6.034e+01, ..., 6.227e-02, 2.450e-01,\n",
       "         7.773e-02],\n",
       "        ...,\n",
       "        [2.013e+01, 2.825e+01, 1.312e+02, ..., 1.628e-01, 2.572e-01,\n",
       "         6.637e-02],\n",
       "        [1.660e+01, 2.808e+01, 1.083e+02, ..., 1.418e-01, 2.218e-01,\n",
       "         7.820e-02],\n",
       "        [2.060e+01, 2.933e+01, 1.401e+02, ..., 2.650e-01, 4.087e-01,\n",
       "         1.240e-01]]),\n",
       " array(['B', 'B', 'B', 'B', 'B', 'B', 'B', 'B', 'B', 'B', 'B', 'B', 'B',\n",
       "        'B', 'B', 'B', 'B', 'B', 'B', 'B', 'B', 'B', 'B', 'B', 'B', 'B',\n",
       "        'B', 'B', 'B', 'B', 'B', 'B', 'B', 'B', 'B', 'B', 'B', 'B', 'B',\n",
       "        'B', 'B', 'B', 'B', 'B', 'B', 'B', 'B', 'B', 'B', 'B', 'B', 'B',\n",
       "        'B', 'B', 'B', 'B', 'B', 'B', 'B', 'B', 'B', 'B', 'B', 'B', 'B',\n",
       "        'B', 'B', 'B', 'B', 'B', 'B', 'B', 'B', 'B', 'B', 'B', 'B', 'B',\n",
       "        'B', 'B', 'B', 'B', 'B', 'B', 'B', 'B', 'B', 'B', 'B', 'B', 'B',\n",
       "        'B', 'B', 'B', 'B', 'B', 'B', 'B', 'B', 'B', 'B', 'B', 'B', 'B',\n",
       "        'B', 'B', 'B', 'B', 'B', 'B', 'B', 'B', 'B', 'B', 'B', 'B', 'B',\n",
       "        'B', 'B', 'B', 'B', 'B', 'B', 'B', 'B', 'B', 'B', 'B', 'B', 'B',\n",
       "        'B', 'B', 'B', 'B', 'B', 'B', 'B', 'B', 'B', 'B', 'B', 'B', 'B',\n",
       "        'B', 'B', 'B', 'B', 'B', 'B', 'B', 'B', 'B', 'B', 'B', 'B', 'B',\n",
       "        'B', 'B', 'B', 'B', 'B', 'B', 'B', 'B', 'B', 'B', 'B', 'B', 'B',\n",
       "        'B', 'B', 'B', 'B', 'B', 'B', 'B', 'B', 'B', 'B', 'B', 'B', 'B',\n",
       "        'B', 'B', 'B', 'B', 'B', 'B', 'B', 'B', 'B', 'B', 'B', 'B', 'B',\n",
       "        'B', 'B', 'B', 'B', 'B', 'B', 'B', 'B', 'B', 'B', 'B', 'B', 'B',\n",
       "        'B', 'B', 'B', 'B', 'B', 'B', 'B', 'B', 'B', 'B', 'B', 'B', 'B',\n",
       "        'B', 'B', 'B', 'B', 'B', 'B', 'B', 'B', 'B', 'B', 'B', 'B', 'B',\n",
       "        'B', 'B', 'B', 'B', 'B', 'B', 'B', 'B', 'B', 'B', 'B', 'B', 'B',\n",
       "        'B', 'B', 'B', 'B', 'B', 'B', 'B', 'B', 'B', 'B', 'B', 'B', 'B',\n",
       "        'B', 'B', 'B', 'B', 'B', 'B', 'B', 'B', 'B', 'B', 'B', 'B', 'B',\n",
       "        'B', 'B', 'B', 'B', 'B', 'B', 'B', 'B', 'B', 'B', 'B', 'B', 'B',\n",
       "        'B', 'B', 'B', 'B', 'B', 'B', 'B', 'B', 'B', 'B', 'B', 'B', 'B',\n",
       "        'B', 'B', 'B', 'B', 'B', 'B', 'B', 'B', 'B', 'B', 'B', 'B', 'B',\n",
       "        'B', 'B', 'B', 'B', 'B', 'B', 'B', 'B', 'B', 'B', 'B', 'B', 'B',\n",
       "        'B', 'B', 'B', 'B', 'B', 'B', 'B', 'B', 'B', 'B', 'B', 'B', 'B',\n",
       "        'B', 'B', 'B', 'B', 'B', 'B', 'B', 'B', 'B', 'B', 'B', 'B', 'B',\n",
       "        'B', 'B', 'B', 'B', 'B', 'B', 'M', 'M', 'M', 'M', 'M', 'M', 'M',\n",
       "        'M', 'M', 'M', 'M', 'M', 'M', 'M', 'M', 'M', 'M', 'M', 'M', 'M',\n",
       "        'M', 'M', 'M', 'M', 'M', 'M', 'M', 'M', 'M', 'M', 'M', 'M', 'M',\n",
       "        'M', 'M', 'M', 'M', 'M', 'M', 'M', 'M', 'M', 'M', 'M', 'M', 'M',\n",
       "        'M', 'M', 'M', 'M', 'M', 'M', 'M', 'M', 'M', 'M', 'M', 'M', 'M',\n",
       "        'M', 'M', 'M', 'M', 'M', 'M', 'M', 'M', 'M', 'M', 'M', 'M', 'M',\n",
       "        'M', 'M', 'M', 'M', 'M', 'M', 'M', 'M', 'M', 'M', 'M', 'M', 'M',\n",
       "        'M', 'M', 'M', 'M', 'M', 'M', 'M', 'M', 'M', 'M', 'M', 'M', 'M',\n",
       "        'M', 'M', 'M', 'M', 'M', 'M', 'M', 'M', 'M', 'M', 'M', 'M', 'M',\n",
       "        'M', 'M', 'M', 'M', 'M', 'M', 'M', 'M', 'M', 'M', 'M', 'M', 'M',\n",
       "        'M', 'M', 'M', 'M', 'M', 'M', 'M', 'M', 'M', 'M', 'M', 'M', 'M',\n",
       "        'M', 'M', 'M', 'M', 'M', 'M', 'M', 'M', 'M', 'M', 'M', 'M', 'M',\n",
       "        'M', 'M', 'M', 'M', 'M', 'M', 'M', 'M', 'M', 'M', 'M', 'M', 'M',\n",
       "        'M', 'M', 'M', 'M', 'M', 'M', 'M', 'M', 'M', 'M', 'M', 'M', 'M',\n",
       "        'M', 'M', 'M', 'M', 'M', 'M', 'M', 'M', 'M', 'M', 'M', 'M', 'M',\n",
       "        'M', 'M', 'M', 'M', 'M', 'M', 'M', 'M', 'M', 'M', 'M', 'M', 'M',\n",
       "        'M', 'M', 'M', 'M', 'M', 'M', 'M', 'M', 'M', 'M'], dtype=object))"
      ]
     },
     "execution_count": 57,
     "metadata": {},
     "output_type": "execute_result"
    }
   ],
   "source": [
    "X, y"
   ]
  },
  {
   "cell_type": "code",
   "execution_count": 58,
   "id": "16c40217",
   "metadata": {},
   "outputs": [
    {
     "data": {
      "text/plain": [
       "array(['B', 'M'], dtype=object)"
      ]
     },
     "execution_count": 58,
     "metadata": {},
     "output_type": "execute_result"
    }
   ],
   "source": [
    "le = LabelEncoder()\n",
    "y = le.fit_transform(y)\n",
    "le.classes_"
   ]
  },
  {
   "cell_type": "markdown",
   "id": "78ce929c",
   "metadata": {},
   "source": [
    "- After encoding the class labels (diagnosis) in an array, y, the `malignant` tumors are now represented as `class 1`, and the benign tumors are represented as `class 0`, respectively. We can double-check this mapping by calling the transform method of the fitted `LabelEncoder` on two dummy class labels:"
   ]
  },
  {
   "cell_type": "code",
   "execution_count": 59,
   "id": "3fb2ddc0",
   "metadata": {},
   "outputs": [
    {
     "data": {
      "text/plain": [
       "array([1, 0])"
      ]
     },
     "execution_count": 59,
     "metadata": {},
     "output_type": "execute_result"
    }
   ],
   "source": [
    "le.transform(['M', 'B'])"
   ]
  },
  {
   "cell_type": "markdown",
   "id": "7313d5a1",
   "metadata": {},
   "source": [
    "- Let's divide the dataset into a separate training dataset (80 percent of the data) and a separate test dataset (20 percent of the data):"
   ]
  },
  {
   "cell_type": "code",
   "execution_count": 60,
   "id": "3ddb0c90",
   "metadata": {},
   "outputs": [],
   "source": [
    "from sklearn.model_selection import train_test_split\n",
    "\n",
    "X_train, X_test, y_train, y_test = \\\n",
    "    train_test_split(X, y, \n",
    "                     test_size=0.20,\n",
    "                     stratify=y,\n",
    "                     random_state=1)"
   ]
  },
  {
   "cell_type": "code",
   "execution_count": 61,
   "id": "b2c3d5e7",
   "metadata": {},
   "outputs": [
    {
     "data": {
      "text/plain": [
       "((455, 30), (114, 30))"
      ]
     },
     "execution_count": 61,
     "metadata": {},
     "output_type": "execute_result"
    }
   ],
   "source": [
    "X_train.shape, X_test.shape"
   ]
  },
  {
   "cell_type": "markdown",
   "id": "fe880e01",
   "metadata": {},
   "source": [
    "### **Combining transformers and estimators in a pipeline**\n",
    "\n",
    "- Standardize the columns in the Breast Cancer Wisconsin dataset before we feed them to a linear classifier, such as logistic regression.\n",
    "\n",
    "- Let's assume we want to compress our data from the initial `30` dimensions into a lower two-dimensional subspace via `principal component analysis (PCA)`, a feature extraction technique for dimensionality reduction.\n",
    "\n",
    "- Instead of going through the model fitting and data transformation steps for the training and test datasets separately, we can chain the `StandardScaler`, `PCA`, and `LogisticRegression` objects in a Pipeline:"
   ]
  },
  {
   "cell_type": "code",
   "execution_count": 63,
   "id": "79e810f3",
   "metadata": {},
   "outputs": [
    {
     "name": "stdout",
     "output_type": "stream",
     "text": [
      "Test accuracy: 0.956\n"
     ]
    }
   ],
   "source": [
    "from sklearn.preprocessing import StandardScaler\n",
    "from sklearn.decomposition import PCA\n",
    "from sklearn.linear_model import LogisticRegression\n",
    "from sklearn.pipeline import make_pipeline\n",
    "\n",
    "pipe_lr = make_pipeline(StandardScaler(),\n",
    "                        PCA(n_components=2),\n",
    "                        LogisticRegression())\n",
    "\n",
    "pipe_lr.fit(X_train, y_train)\n",
    "y_pred = pipe_lr.predict(X_test)\n",
    "test_acc = pipe_lr.score(X_test, y_test)\n",
    "print(f'Test accuracy: {test_acc:.3f}')"
   ]
  },
  {
   "cell_type": "markdown",
   "id": "2ad3b5fa",
   "metadata": {},
   "source": [
    "- The `make_pipeline` function takes an arbitrary number of scikit-learn transformers (objects that support the fit and transform methods as input), followed by a scikit-learn estimator that implements the fit and predict methods.\n",
    "\n",
    "- In our preceding code example, we provided two scikit-learn transformers, `StandardScaler` and `PCA`, and a `LogisticRegression` estimator as inputs to the `make_pipeline` function, which constructs a scikit-learn Pipeline object from these objects.\n",
    "\n",
    "- We can think of a scikit-learn Pipeline as a meta-estimator or wrapper around those individual transformers and estimators. If we call the fit method of Pipeline, the data will be passed down a series of transformers via fit and transform calls on these intermediate steps until it arrives at the estimator object (the final element in a pipeline). The estimator will then be fitted to the transformed training data.\n",
    "\n",
    "- When we executed the fit method on the `pipe_lr` pipeline in the preceding code example, `StandardScaler` first performed fit and transform calls on the training data. Second, the transformed training data was passed on to the next object in the pipeline, PCA. Similar to the previous step, `PCA` also executed fit and transform on the scaled input data and passed it to the final element of the pipeline, the estimator.\n",
    "\n",
    "- Finally, the `LogisticRegression` estimator was fit to the training data after it underwent transformations via `StandardScaler` and `PCA`. Again, we should note that there is no limit to the number of intermediate steps in a pipeline; however, if we want to use the pipeline for prediction tasks, the last pipeline element has to be an estimator.\n",
    "\n",
    "\n",
    "![Pipeline Object](./figures/pipeline-object.png)"
   ]
  },
  {
   "cell_type": "markdown",
   "id": "a0fa93e6",
   "metadata": {},
   "source": [
    "## **Using k-fold cross validation to assess model performance**\n",
    "\n",
    "- common cross-validation techniques `holdout cross-validation` and `k-fold cross-validation`, which can help us to obtain reliable estimates of the model's generalization performance, that is, how well the model performs on unseen data.\n",
    "\n",
    "--"
   ]
  },
  {
   "cell_type": "markdown",
   "id": "fc420438",
   "metadata": {},
   "source": [
    "### **The holdout method**\n",
    "\n",
    "- A classic and popular approach for estimating the generalization performance of machine learning models is the `holdout method`. Using the `holdout method`, we split our initial dataset into separate training and test datasets—the former is used for model training, and the latter is used to estimate its generalization performance. However, in typical machine learning applications, we are also interested in tuning and comparing different parameter settings to further improve the performance for making predictions on unseen data. This process is called `model selection`, with the name referring to a given classification problem for which we want to select the optimal values of tuning parameters (also called hyperparameters). However, if we reuse the same test dataset over and over again during model selection, it will become part of our training data and thus the model will be more likely to\n",
    "overfit. Despite this issue, many people still use the test dataset for model selection, which is not a good machine learning practice.\n",
    "\n",
    "\n",
    "- A better way of using the holdout method for model selection is to separate the data into three parts:\n",
    "    - a training dataset, \n",
    "    - a validation dataset, and \n",
    "    - a test dataset. \n",
    "\n",
    "The training dataset is used to fit the different models, and the performance on the validation dataset is then used for model selection. The advantage of having a test dataset that the model hasn’t seen before during the training and model selection steps is that we can obtain a less biased estimate of its ability to generalize to new data. \n",
    "\n",
    "The figure below illustrates the concept of holdout cross-validation, where we use a validation dataset to repeatedly evaluate the performance of the model after training using different hyperparameter values. Once we are satisfied with the tuning of hyperparameter values, we estimate the model’s generalization performance on the test dataset:\n",
    "\n",
    "\n",
    "![Training, validation and test datasets](./figures/training-validation-test-dataset.png)\n",
    "\n",
    "- A disadvantage of the holdout method is that the performance estimate may be very sensitive to how we partition the training dataset into the training and validation subsets; the estimate will vary for different examples of the data."
   ]
  },
  {
   "cell_type": "markdown",
   "id": "31f7bd64",
   "metadata": {},
   "source": [
    "### **K-fold cross-validation**\n",
    "\n",
    "- In `k-fold cross-validation`, we randomly split the training dataset into `k` folds without replacement. Here, `k - 1` folds, the so-called training folds, are used for the model training, and one fold, the so-called test fold, is used for performance evaluation. This procedure is repeated `k` times so that we obtain `k` models and performance estimates.\n",
    "\n",
    "\n",
    "- We then calculate the average performance of the models based on the different, independent test folds to obtain a performance estimate that is less sensitive to the sub-partitioning of the training data compared to the holdout method. Typically, we use k-fold cross-validation for model tuning, that is, finding the optimal hyperparameter values that yield a satisfying generalization performance, which is estimated from evaluating the model performance on the test folds.\n",
    "\n",
    "\n",
    "- Once we have found satisfactory hyperparameter values, we can retrain the model on the complete training dataset and obtain a final performance estimate using the independent test dataset. The rationale behind fitting a model to the whole training dataset after `k-fold cross-validation` is that first, we are typically interested in a single, final model (versus k individual models), and second, providing more training examples to a learning algorithm usually results in a more accurate and robust model.\n",
    "\n",
    "\n",
    "- Since `k-fold cross-validation` is a resampling technique without replacement, the advantage of this approach is that in each iteration, each example will be used exactly once, and the training and test folds are disjoint. Furthermore, all test folds are disjoint; that is, there is no overlap between the test folds. \n",
    "\n",
    "- The figure below summarizes the concept behind k-fold cross-validation with `k = 1`. The training dataset is divided into `10 folds`, and during the 10 iterations, 9 folds are used for training, and 1 fold will be used as the test dataset for model evaluation.\n",
    "\n",
    "Also, the estimated performance, $E_{i}$ (classification accuracy or error), for each fold are then used to calculate the estimated average performance, $E$, of the model.\n",
    "\n",
    "\n",
    "![k-fold cross-validation](./figures/k-fold-cross-validation.png)\n",
    "\n",
    "\n",
    "- In summary, `k-fold cross-validation` makes better use of the dataset than the holdout method with a validation set, since in `k-fold cross validation` all data points are being used for evaluation.\n",
    "\n",
    "- A good standard value for `k` in `k-fold cross-validation` is `10`, as empirical evidence shows. For instance, experiments by Ron Kohavi on various real-world datasets suggest that 10-fold cross-validation offers the best tradeoff between bias and variance.\n",
    "\n",
    "- However, if we are working with relatively small training sets, it can be useful to increase the number of folds. On the other hand, if we are working with large datasets, we can choose a smaller value for `k`, for example, `k = 5`, and still obtain an accurate estimate of the avergae performance of the model while reducing the computational cost of refitting and evaluating the model on the different folds. "
   ]
  },
  {
   "cell_type": "markdown",
   "id": "9b5db262",
   "metadata": {},
   "source": [
    "- A slight improvement over the standard `k-fold cross-validation` approach is `stratified k-fold cross-validation`, which can yield better bias and variance estimates, especially in cases of unequal class proportions.\n",
    "\n",
    "- In stratified cross-validation, the class label proportions are preserved in each fold to ensure that each fold is representative of the class proportions in the training dataset, which we will illustrate by using the `StratifiedKFold` iterator in scikit-learn:"
   ]
  },
  {
   "cell_type": "code",
   "execution_count": 73,
   "id": "3d7f5115",
   "metadata": {},
   "outputs": [
    {
     "name": "stdout",
     "output_type": "stream",
     "text": [
      "Fold: 01, Class distr.: [256 153], Acc.: 0.935\n",
      "Fold: 02, Class distr.: [256 153], Acc.: 0.935\n",
      "Fold: 03, Class distr.: [256 153], Acc.: 0.957\n",
      "Fold: 04, Class distr.: [256 153], Acc.: 0.957\n",
      "Fold: 05, Class distr.: [256 153], Acc.: 0.935\n",
      "Fold: 06, Class distr.: [257 153], Acc.: 0.956\n",
      "Fold: 07, Class distr.: [257 153], Acc.: 0.978\n",
      "Fold: 08, Class distr.: [257 153], Acc.: 0.933\n",
      "Fold: 09, Class distr.: [257 153], Acc.: 0.956\n",
      "Fold: 10, Class distr.: [257 153], Acc.: 0.956\n"
     ]
    }
   ],
   "source": [
    "import numpy as np\n",
    "from sklearn.model_selection import StratifiedKFold\n",
    "\n",
    "kfold = StratifiedKFold(n_splits=10).split(X_train, y_train)\n",
    "scores = []\n",
    "for k, (train, test) in enumerate(kfold):\n",
    "    pipe_lr.fit(X_train[train], y_train[train])\n",
    "    score = pipe_lr.score(X_train[test], y_train[test])\n",
    "    scores.append(score)\n",
    "    \n",
    "    print(f'Fold: {k+1:02d}, '\n",
    "        f'Class distr.: {np.bincount(y_train[train])}, '\n",
    "        f'Acc.: {score:.3f}')"
   ]
  },
  {
   "cell_type": "code",
   "execution_count": 74,
   "id": "e4888e1a",
   "metadata": {},
   "outputs": [
    {
     "name": "stdout",
     "output_type": "stream",
     "text": [
      "\n",
      "CV accuracy: 0.950 +/- 0.014\n"
     ]
    }
   ],
   "source": [
    "mean_acc = np.mean(scores)\n",
    "std_acc = np.std(scores)\n",
    "print(f'\\nCV accuracy: {mean_acc:.3f} +/- {std_acc:.3f}')"
   ]
  },
  {
   "cell_type": "markdown",
   "id": "210a79d1",
   "metadata": {},
   "source": [
    "- First, we initialized the `StratifiedKFold` iterator from the `sklearn.model_selection` module with the `y_train` class labels in the training dataset, and we specified the number of folds via the `n_splits` parameter. When we used the kfold iterator to loop through the k folds, we used the returned indices in train to fit the `logistic regression` pipeline that we set up at the beginning. Using the `pipe_lr pipeline`, we ensured that the examples were scaled properly (for instance, standardized) in each iteration. We then used the test indices to calculate the accuracy score of the model, which we collected in the scores list to calculate the average accuracy and the standard deviation of the estimate."
   ]
  },
  {
   "cell_type": "markdown",
   "id": "4b5647c7",
   "metadata": {},
   "source": [
    "- Although the previous code example was useful to illustrate how k-fold cross-validation works, scikit- learn also implements a `k-fold cross-validation scorer`, which allows us to evaluate our model using stratified k-fold cross-validation less verbosely:"
   ]
  },
  {
   "cell_type": "code",
   "execution_count": 75,
   "id": "835d3093",
   "metadata": {},
   "outputs": [
    {
     "name": "stdout",
     "output_type": "stream",
     "text": [
      "CV accuracy scores: [0.93478261 0.93478261 0.95652174 0.95652174 0.93478261 0.95555556\n",
      " 0.97777778 0.93333333 0.95555556 0.95555556]\n"
     ]
    }
   ],
   "source": [
    "from sklearn.model_selection import cross_val_score\n",
    "\n",
    "scores = cross_val_score(estimator=pipe_lr,\n",
    "                         X=X_train,\n",
    "                         y=y_train,\n",
    "                         cv=10,\n",
    "                         n_jobs=1)\n",
    "print(f'CV accuracy scores: {scores}')"
   ]
  },
  {
   "cell_type": "code",
   "execution_count": 76,
   "id": "f9e87911",
   "metadata": {},
   "outputs": [
    {
     "name": "stdout",
     "output_type": "stream",
     "text": [
      "CV accuracy: 0.950 +/- 0.014\n"
     ]
    }
   ],
   "source": [
    "print(f'CV accuracy: {np.mean(scores):.3f} '\n",
    "      f'+/- {np.std(scores):.3f}')"
   ]
  },
  {
   "cell_type": "markdown",
   "id": "1a131f70",
   "metadata": {},
   "source": [
    "- An extremely useful feature of the `cross_val_score` approach is that we can distribute the evaluation of the different folds across multiple `central processing units (CPUs)` on our machine. If we set the `n_jobs` parameter to 1, only one CPU will be used to evaluate the performances, just like in our `StratifiedKFold` example previously. However, by setting `n_jobs=2`, we could distribute the `10 rounds` of cross-validation to two CPUs (if available on our machine), and by setting `n_jobs=-1`, we can use\n",
    "all available CPUs on our machine to do the computation in parallel."
   ]
  },
  {
   "cell_type": "markdown",
   "id": "bb8e07dc",
   "metadata": {},
   "source": [
    "## **Debugging algorithms with learning and validation curves**\n",
    "\n",
    "In this section, we will take a look at two very simple yet powerful diagnostic tools that can help us to improve the performance of a learning algorithm: `learning curves` and `validation curves`. In the next subsections, we will discuss how we can use learning curves to diagnose whether a learning algorithm has a problem with `overfitting (high variance)` or `underfitting (high bias)`. Furthermore, we will take a look at validation curves, which can help us to address the common issues of learning algorithms.\n"
   ]
  },
  {
   "cell_type": "markdown",
   "id": "8ef8d172",
   "metadata": {},
   "source": [
    "### **Diagnosing bias and variance problems with learning curves**\n",
    "\n",
    "- If a model is too complex for a given training dataset—for example, think of a very deep decision tree—the model tends to overfit the training data and does not generalize well to unseen data. Often, it can help to collect more training examples to reduce the degree of overfitting.\n",
    "\n",
    "\n",
    "- However, in practice, it can often be very expensive or simply not feasible to collect more data. By plotting the model training and validation accuracies as functions of the training dataset size, we can easily detect whether the model suffers from `high variance` or `high bias`, and whether the collection of more data could help to address this problem."
   ]
  },
  {
   "cell_type": "markdown",
   "id": "0d0be3e7",
   "metadata": {},
   "source": [
    "![Common model issues](./figures/common-model-issues.png)\n",
    "\n",
    "\n",
    "- The graph in the upper left shows a model with a `high bias`. This model has both `low training` and `cross-validation accuracy`, which indicates that it underfits the training data. Common ways to address this issue are to increase the number of model parameters, for example, by collecting or constructing additional features, or by decreasing the degree of regularization, for example, in support vector machine (SVM) or logistic regression classifiers.\n",
    "\n",
    "\n",
    "- The graph in the upper-right shows a model that suffers from high variance, which is indicated by the large gap between the training and cross-validation accuracy. To address this problem of overfitting, we can collect more training data, reduce the complexity of the model, or increase the regularization parameter, for example.\n",
    "\n",
    "\n",
    "- For unregularized models, it can also help to decrease the number of features via `feature selection` or `feature extraction`  to decrease the degree of overfitting. While collecting more training data usually tends to decrease the chance of overfitting, it may not always help, for example, if the training data is extremely noisy or the model is already very close to optimal."
   ]
  },
  {
   "cell_type": "markdown",
   "id": "1c3d0308",
   "metadata": {},
   "source": [
    "- How we can use the learning curve function from scikit-learn to evaluate the model:"
   ]
  },
  {
   "cell_type": "code",
   "execution_count": 78,
   "id": "bc4992b9",
   "metadata": {},
   "outputs": [
    {
     "data": {
      "image/png": "[encoded data removed]",
      "text/plain": [
       "<Figure size 640x480 with 1 Axes>"
      ]
     },
     "metadata": {},
     "output_type": "display_data"
    }
   ],
   "source": [
    "import matplotlib.pyplot as plt\n",
    "from sklearn.model_selection import learning_curve\n",
    "\n",
    "pipe_lr = make_pipeline(StandardScaler(),\n",
    "                        LogisticRegression(penalty='l2',\n",
    "                                           max_iter=10000))\n",
    "\n",
    "train_sizes, train_scores, test_scores =\\\n",
    "                    learning_curve(estimator=pipe_lr,\n",
    "                                   X=X_train,\n",
    "                                   y=y_train,\n",
    "                                   train_sizes=np.linspace(\n",
    "                                       0.1, 1.0, 10\n",
    "                                   ),\n",
    "                                   cv=10,\n",
    "                                   n_jobs=1)\n",
    "\n",
    "train_mean = np.mean(train_scores, axis=1)\n",
    "train_std = np.std(train_scores, axis=1)\n",
    "test_mean = np.mean(test_scores, axis=1)\n",
    "test_std = np.std(test_scores, axis=1)\n",
    "\n",
    "plt.plot(train_sizes, train_mean, \n",
    "         color='blue', marker='o',\n",
    "         markersize=5, label='Training accuracy')\n",
    "\n",
    "plt.fill_between(train_sizes,\n",
    "                 train_mean + train_std,\n",
    "                 train_mean - train_std,\n",
    "                 alpha=0.15, color='blue')\n",
    "\n",
    "plt.plot(train_sizes, test_mean,\n",
    "         color='green', linestyle='--',\n",
    "         marker='s', markersize=5,\n",
    "         label='Validation accuracy')\n",
    "\n",
    "plt.fill_between(train_sizes,\n",
    "                 test_mean + test_std,\n",
    "                 test_mean - test_std,\n",
    "                 alpha=0.15, color='green')\n",
    "\n",
    "plt.grid()\n",
    "plt.xlabel('Number of training examples')\n",
    "plt.ylabel('Accuracy')\n",
    "plt.legend(loc='lower right')\n",
    "plt.ylim([0.8, 1.03])\n",
    "plt.tight_layout()\n",
    "# plt.savefig('figures/06_05.png', dpi=300)\n",
    "plt.show()"
   ]
  },
  {
   "cell_type": "markdown",
   "id": "90fbb291",
   "metadata": {},
   "source": [
    "- Note that we passed `max_iter=10000` as an additional argument when instantiating the `LogisticRegression` object (which uses 1,000 iterations as a default) to avoid convergence issues for the smaller dataset sizes or extreme regularization paramter values. "
   ]
  },
  {
   "cell_type": "markdown",
   "id": "98b444fa",
   "metadata": {},
   "source": [
    "- Via the `train_sizes` parameter in the learning_curve function, we can control the absolute or relative number of training examples that are used to generate the learning curves. Here, we set `train_sizes=np.linspace(0.1, 1.0, 10)` to use `10` evenly spaced, relative intervals for the training dataset sizes. By default, the `learning_curve` function uses stratified `k-fold cross-validation` to calculate the cross-validation accuracy of a classifier, and we set `k=10` via the cv parameter for 10-fold\n",
    "stratified cross-validation.\n",
    "\n",
    "\n",
    "- Then, we simply calculated the average accuracies from the returned `cross-validated` training and test scores for the different sizes of the training dataset, which we plotted using Matplotlib’s plot function. Furthermore, we added the standard deviation of the average accuracy to the plot using the `fill_between` function to indicate the variance of the estimate.\n",
    "\n",
    "\n",
    "- As we can see in the preceding learning curve plot, our model performs quite well on both the `training` and `validation` datasets if it has seen more than `250` examples during training. We can also see that the training accuracy increases for training datasets with fewer than `250` examples, and the gap between validation and training accuracy widens—an indicator of an increasing degree of overfitting."
   ]
  },
  {
   "cell_type": "markdown",
   "id": "5b10aa30",
   "metadata": {},
   "source": [
    "### **Addressing over- and underfitting with validation curves**\n",
    "\n",
    "- Validation curves are a useful tool for improving the performance of a model by addressing issues such as `overfitting` or `underfitting`. Validation curves are related to learning curves, but instead of plotting the training and test accuracies as functions of the sample size, we vary the values of the model parameters, for example, the `inverse regularization parameter`, C, in logistic regression."
   ]
  },
  {
   "cell_type": "code",
   "execution_count": 82,
   "id": "cfeb8a8c",
   "metadata": {},
   "outputs": [
    {
     "data": {
      "image/png": "[encoded data removed]",
      "text/plain": [
       "<Figure size 640x480 with 1 Axes>"
      ]
     },
     "metadata": {},
     "output_type": "display_data"
    }
   ],
   "source": [
    "from sklearn.model_selection import validation_curve\n",
    "\n",
    "param_range = [0.001, 0.01, 0.1, 1.0, 10.0, 100.0]\n",
    "train_scores, test_scores = validation_curve(\n",
    "                             estimator=pipe_lr,\n",
    "                             X=X_train,\n",
    "                             y=y_train,\n",
    "                             param_name='logisticregression__C',\n",
    "                             param_range=param_range,\n",
    "                             cv=10)\n",
    "\n",
    "train_mean = np.mean(train_scores, axis=1)\n",
    "train_std = np.std(train_scores, axis=1)\n",
    "test_mean = np.mean(test_scores, axis=1)\n",
    "test_std = np.std(test_scores, axis=1)\n",
    "\n",
    "plt.plot(param_range, train_mean,\n",
    "         color='blue', marker='o',\n",
    "         markersize=5, label='Training accuracy')\n",
    "\n",
    "plt.fill_between(param_range, \n",
    "                 train_mean + train_std,\n",
    "                 train_mean - train_std,\n",
    "                 alpha=0.15, color='blue')\n",
    "\n",
    "plt.plot(param_range, test_mean,\n",
    "         color='green', linestyle='--',\n",
    "         marker='s', markersize=5,\n",
    "         label='Validation accuracy')\n",
    "\n",
    "plt.fill_between(param_range,\n",
    "                 test_mean + test_std,\n",
    "                 test_mean - test_std,\n",
    "                 alpha=0.15, color='green')\n",
    "\n",
    "plt.grid()\n",
    "plt.xscale('log')\n",
    "plt.legend(loc='lower right')\n",
    "plt.xlabel('Parameter C')\n",
    "plt.ylabel('Accuracy')\n",
    "plt.ylim([0.8, 1.0])\n",
    "plt.tight_layout()\n",
    "# plt.savefig('figures/06_06.png', dpi=300)\n",
    "plt.show()"
   ]
  },
  {
   "cell_type": "markdown",
   "id": "8435a5bb",
   "metadata": {},
   "source": [
    "- Similar to the `learning_curve` function, the `validation_curve` function uses `stratified k-fold cross-validation` by default to estimate the performance of the classifier. Inside the `validation_curve` function, we specified the parameter that we wanted to evaluate. In this case, it is `C`, the inverse regularization parameter of the LogisticRegression classifier, which we wrote as `'logisticregression__C'` to access the LogisticRegression object inside the scikit-learn pipeline for a specified value range that we set via the `param_range` parameter. Similar to the learning curve example in the previous section, we plotted the `average training` and `cross-validation` accuracies and the corresponding standard deviations.\n",
    "\n",
    "\n",
    "- Although the differences in the accuracy for varying values of `C` are subtle, we can see that the model slightly underfits the data when we increase the regularization strength (small values of C). However, for large values of C, it means lowering the strength of regularization (large values of C), so the model tends to slightly overfit the data. In this case, the sweet spot appears to be between `0.01 and 0.1` of the C value."
   ]
  },
  {
   "cell_type": "markdown",
   "id": "d2b16b30",
   "metadata": {},
   "source": [
    "## **Fine-tuning machine learning models via grid search**\n",
    "\n",
    "- In machine learning, we have two types of parameters: those that we learned from the training data, for example, the `weights` in logistic regression, and the parameters of a learning algorithm that are optimized separately. The latter are the tuning parameters (or `hyperparameters`) of a model, for example, the regularization parameter in logistic regression or the maximum depth parameter of a decision tree.\n",
    "\n",
    "- In the previous section, we used `validation curves` to improve the performance of a model by tuning one of its `hyperparameters`. In this section, we will take a look at a popular hyperparameter optimization technique called `grid search`, which can further help to improve the performance of a model by finding the optimal combination of hyperparameter values."
   ]
  },
  {
   "cell_type": "markdown",
   "id": "8911b115",
   "metadata": {},
   "source": [
    "### **Tuning hyperparameters via grid search**\n",
    "\n",
    "- The `grid search` approach is quite simple: it's a brute-force exhaustive search paradigm where we specify a list of values for different hyperparameters, and the computer evaluates the model performance for each combination to obtain the optimal combination of values from this set:"
   ]
  },
  {
   "cell_type": "code",
   "execution_count": 83,
   "id": "a3ede3c8",
   "metadata": {},
   "outputs": [
    {
     "name": "stdout",
     "output_type": "stream",
     "text": [
      "0.9846859903381642\n"
     ]
    }
   ],
   "source": [
    "from sklearn.model_selection import GridSearchCV\n",
    "from sklearn.svm import SVC\n",
    "\n",
    "pipe_svc = make_pipeline(StandardScaler(),\n",
    "                         SVC(random_state=1))\n",
    "\n",
    "param_range = [0.0001, 0.001, 0.01, 0.1, 1.0, 10.0, 100.0, 1000.0]\n",
    "\n",
    "param_grid = [{'svc__C': param_range,\n",
    "               'svc__kernel': ['linear']},\n",
    "              {'svc__C': param_range,\n",
    "               'svc__gamma': param_range,\n",
    "               'svc__kernel': ['rbf']}]\n",
    "\n",
    "gs = GridSearchCV(estimator=pipe_svc,\n",
    "                  param_grid=param_grid,\n",
    "                  scoring='accuracy',\n",
    "                  cv=10, \n",
    "                  refit=True,\n",
    "                  n_jobs=-1)\n",
    "gs = gs.fit(X_train, y_train)\n",
    "print(gs.best_score_)"
   ]
  },
  {
   "cell_type": "code",
   "execution_count": 84,
   "id": "60ca8892",
   "metadata": {},
   "outputs": [
    {
     "name": "stdout",
     "output_type": "stream",
     "text": [
      "{'svc__C': 100.0, 'svc__gamma': 0.001, 'svc__kernel': 'rbf'}\n"
     ]
    }
   ],
   "source": [
    "print(gs.best_params_)"
   ]
  },
  {
   "cell_type": "markdown",
   "id": "56a5eae4",
   "metadata": {},
   "source": [
    "- Using the preceding code, we initialized a `GridSearchCV` object from the `sklearn.model_selection` module to train and tune an SVM pipeline. We set the `param_grid` parameter of `GridSearchCV` to a list of dictionaries to specify the parameters that we’d want to tune. For the linear SVM, we only evaluated the `inverse regularization parameter`, C; for the `radial basis function (RBF)` kernel SVM, we tuned both the `svc__C` and `svc__gamma` parameters. Note that the `svc__gamma` parameter is specific to kernel SVMs.\n",
    "\n",
    "\n",
    "- `GridSearchCV` uses `k-fold` cross-validation for comparing models trained with different hyperparameter settings. Via the `cv=10` setting, it will carry out `10-fold` cross-validation and compute the average accuracy `(via scoring='accuracy')` across these `10-folds` to assess the model performance. We set `n_jobs=-1` so that `GridSearchCV` can use all our processing cores to speed up the grid search by fitting models to the different folds in parallel, but if your machine has problems with this setting, you may change this setting to `n_jobs=None` for single processing.\n",
    "\n",
    "\n",
    "- After we used the training data to perform the grid search, we obtained the score of the best-performing model via the `best_score_` attribute and looked at its parameters, which can be accessed via the `best_params_` attribute. In this particular case, the `RBF kernel` SVM model with `svc__C = 100.0` yielded the best k-fold cross-validation accuracy: `98.5` percent."
   ]
  },
  {
   "cell_type": "code",
   "execution_count": 85,
   "id": "e97bb36f",
   "metadata": {},
   "outputs": [
    {
     "name": "stdout",
     "output_type": "stream",
     "text": [
      "Test accuracy: 0.974\n"
     ]
    }
   ],
   "source": [
    "clf = gs.best_estimator_\n",
    "print(f'Test accuracy: {clf.score(X_test, y_test):.3f}')"
   ]
  },
  {
   "cell_type": "markdown",
   "id": "6fb5ac1b",
   "metadata": {},
   "source": [
    "### **Exploring hyperparameter configurations more widely with randomized search**\n",
    "\n",
    "- Since grid search is an exhaustive search, it is guaranteed to find the optimal hyperparameter configuration if it is contained in the user-specified parameter grid. However, specifying large hyperparameter grids makes grid search very expensive in practice.\n",
    "\n",
    "- An alternative approach for sampling different parameter combinations is randomized search. In randomized search, we draw hyperparameter configurations randomly from distributions (or discrete sets).\n",
    "\n",
    "- In contrast to `grid search`, `randomized search` does not do an exhaustive search over the hyperparameter space. Still, it allows us to explore a wider range of hyperparameter value settings in a more cost-and time-effective manner.\n",
    "\n",
    "\n",
    "![Grid Search and Randomized Search](./figures/grid-randomized-search.png)\n",
    "\n",
    "\n",
    "- The main takeaway is that while `grid search` only explores discrete, user-specified choices, it may miss good hyperparameter configurations if the search space is too scarce.\n",
    "\n",
    "- Let’s look at how we can use randomized search for tuning an SVM. Scikit-learn implements a `RandomizedSearchCV` class, which is analogous to the `GridSearchCV` we used in the previous subsection. The main difference is that we can specify distributions as part of our parameter grid and specify the total number of hyperparameter configurations to be evaluated."
   ]
  },
  {
   "cell_type": "code",
   "execution_count": 102,
   "id": "ecc3edbe",
   "metadata": {},
   "outputs": [
    {
     "data": {
      "text/plain": [
       "array([8.30145146e-02, 1.10222804e+01, 1.00184520e-04, 1.30715777e-02,\n",
       "       1.06485687e-03, 4.42965766e-04, 2.01289666e-03, 2.62376594e-02,\n",
       "       5.98924832e-02, 5.91176467e-01])"
      ]
     },
     "execution_count": 102,
     "metadata": {},
     "output_type": "execute_result"
    }
   ],
   "source": [
    "# We can as well use this distribution for `RandomizedSearchCV`\n",
    "import scipy\n",
    "param_range = scipy.stats.loguniform(0.0001, 1000.0)\n",
    "param_range.rvs(10)"
   ]
  },
  {
   "cell_type": "code",
   "execution_count": 103,
   "id": "f4c2f568",
   "metadata": {},
   "outputs": [],
   "source": [
    "from sklearn.model_selection import RandomizedSearchCV\n",
    "import scipy\n",
    "\n",
    "\n",
    "pipe_svc = make_pipeline(\n",
    "    StandardScaler(),\n",
    "    SVC(random_state=1))\n",
    "\n",
    "# param_range = [0.0001, 0.001, 0.01, 0.1, 1.0, 10.0, 100.0, 1000.0]\n",
    "param_range = scipy.stats.loguniform(0.0001, 1000.0)\n",
    "param_range.rvs(10)\n",
    "\n",
    "\n",
    "param_grid = [{'svc__C': param_range,\n",
    "               'svc__kernel': ['linear']},\n",
    "              {'svc__C': param_range,\n",
    "               'svc__gamma': param_range,\n",
    "               'svc__kernel': ['rbf']}]\n",
    "\n",
    "\n",
    "rs = RandomizedSearchCV(estimator=pipe_svc,\n",
    "                        param_distributions=param_grid,\n",
    "                        scoring='accuracy',\n",
    "                        refit=True,\n",
    "                        n_iter=20,\n",
    "                        cv=10,\n",
    "                        random_state=1,\n",
    "                        n_jobs=-1)"
   ]
  },
  {
   "cell_type": "code",
   "execution_count": 104,
   "id": "34c823e5",
   "metadata": {},
   "outputs": [
    {
     "name": "stdout",
     "output_type": "stream",
     "text": [
      "0.9780676328502416\n"
     ]
    }
   ],
   "source": [
    "rs = rs.fit(X_train, y_train)\n",
    "print(rs.best_score_)"
   ]
  },
  {
   "cell_type": "code",
   "execution_count": 105,
   "id": "fd5bd4b0",
   "metadata": {},
   "outputs": [
    {
     "name": "stdout",
     "output_type": "stream",
     "text": [
      "{'svc__C': np.float64(0.05971247755848463), 'svc__kernel': 'linear'}\n"
     ]
    }
   ],
   "source": [
    "print(rs.best_params_)"
   ]
  },
  {
   "cell_type": "markdown",
   "id": "a709c4a8",
   "metadata": {},
   "source": [
    "- Based on the code example, we can see that the usage is very similar to `GridSearchCV`, except that we could use distributions for specifying parameter ranges and specified the number of iterations by setting `n_iter=20`.\n"
   ]
  },
  {
   "cell_type": "markdown",
   "id": "7568baf7",
   "metadata": {},
   "source": [
    "### **More resource-efficient hyperparameter search with successive halving**\n",
    "\n",
    "Taking the idea of randomized search one step further, scikit-learn implements a successive halving variant, `HalvingRandomSearchCV`, that makes finding suitable hyperparameter configurations more efficient. Successive halving, given a large set of candidate configurations, successively throws out unpromising hyperparameter configurations until only one configuration remains. We can summarize the procedure via the following steps:\n",
    "\n",
    "\n",
    "- Draw a large set of candidate configurations via random sampling\n",
    "- Train the models with limited resources, for example, a small subset of the training data (as opposed to using the entire training set).\n",
    "- Discard the bottom 50 percent based on predictive performance.\n",
    "- Go back to `step 2` with an increased amount of available resources.\n",
    "\n",
    "The steps are repeated until only one hyperparameter configuration remains. Note that there is also a successive halving implementation for the grid search variant called `HalvingGridSearchCV`, where all specified hyperparameter configurations are used in `step 1` instead of random samples."
   ]
  },
  {
   "cell_type": "code",
   "execution_count": 106,
   "id": "18741faa",
   "metadata": {},
   "outputs": [],
   "source": [
    "from sklearn.experimental import enable_halving_search_cv\n",
    "from sklearn.model_selection import HalvingRandomSearchCV"
   ]
  },
  {
   "cell_type": "code",
   "execution_count": 107,
   "id": "cc308130",
   "metadata": {},
   "outputs": [],
   "source": [
    "hs = HalvingRandomSearchCV(\n",
    "    pipe_svc,\n",
    "    param_distributions=param_grid,\n",
    "    n_candidates='exhaust',\n",
    "    resource='n_samples',\n",
    "    factor=1.5,\n",
    "    random_state=1,\n",
    "    n_jobs=-1)"
   ]
  },
  {
   "cell_type": "markdown",
   "id": "12e116bb",
   "metadata": {},
   "source": [
    "- The `resource='n_samples' (default)` setting specifies that we consider the training set size as the resource we vary between the rounds. Via the factor parameter, we can determine how many candidates are eliminated in each round. For example, setting `factor=2` eliminates half of the candidates, and setting `factor=1.5` means that only `100%/1.5 ≈ 66%` of the candidates make it into the next round. \n",
    "\n",
    "\n",
    "- Instead of choosing a fixed number of iterations as in `RandomizedSearchCV`, we set `n_candidates='exhaust' (default)`, which will sample the number of hyperparameter configurations such that the maximum number of resources (here: training examples) are used in the last round.\n",
    "\n",
    "\n",
    "- We can then carry out the search similar to `RandomizedSearchCV`:"
   ]
  },
  {
   "cell_type": "code",
   "execution_count": 108,
   "id": "6bf1217e",
   "metadata": {},
   "outputs": [
    {
     "name": "stdout",
     "output_type": "stream",
     "text": [
      "0.9617647058823529\n",
      "{'svc__C': np.float64(4.934834261073333), 'svc__kernel': 'linear'}\n"
     ]
    }
   ],
   "source": [
    "hs = hs.fit(X_train, y_train)\n",
    "print(hs.best_score_)\n",
    "print(hs.best_params_)"
   ]
  },
  {
   "cell_type": "code",
   "execution_count": 109,
   "id": "0d235e50",
   "metadata": {},
   "outputs": [
    {
     "name": "stdout",
     "output_type": "stream",
     "text": [
      "Test accuracy: 0.982\n"
     ]
    }
   ],
   "source": [
    "clf = hs.best_estimator_\n",
    "print(f'Test accuracy: {hs.score(X_test, y_test):.3f}')"
   ]
  },
  {
   "cell_type": "markdown",
   "id": "da9a68ff",
   "metadata": {},
   "source": [
    "- If we compare the results from `GridSearchCV` and `RandomizedSearchCV` from the previous two subsections with the model from `HalvingRandomSearchCV`, we can see that the latter yields a model that performs slightly better on the test set (`98.2 percent` accuracy as opposed to `97.4 percent`)."
   ]
  },
  {
   "cell_type": "markdown",
   "id": "a48869b0",
   "metadata": {},
   "source": [
    "### **Algorithm selection with nested cross-validation**\n",
    "\n",
    "- Using `k-fold` cross-validation in combination with grid search or randomized search is a useful approach for fine-tuning the performance of a machine learning model by varing its hyperparameter values. \n",
    "\n",
    "- If we want to select among different machine learning algorithms, though, another recommended approach is `nested cross-validation`.\n",
    "\n",
    "- In nested cross-validation, we have an outer `k-fold cross-validation` loop to split the data into training and test folds, and an inner loop is used to select the model using `k-fold cross-validation` on the training fold.\n",
    "\n",
    "- After model selection, the test fold is then used to evaluate the model performance. The figure below explains the concept of nested cross-validation with only five outer and two inner folds, which can be useful for large datasets where computational performance is important; this particular type of nested cross-validation is also known as `5x2 cross-validation`:\n",
    "\n",
    "\n",
    "![Nested Cross-Validation](./figures/nested-cross-validation.png)\n"
   ]
  },
  {
   "cell_type": "markdown",
   "id": "327bb2df",
   "metadata": {},
   "source": [
    "- In scikit-learn, we can perform nested cross-validation with grid search as follows:"
   ]
  },
  {
   "cell_type": "code",
   "execution_count": 110,
   "id": "dae7a957",
   "metadata": {},
   "outputs": [
    {
     "name": "stdout",
     "output_type": "stream",
     "text": [
      "CV accuracy: 0.974 +/- 0.015\n"
     ]
    }
   ],
   "source": [
    "param_range = [0.0001, 0.001, 0.01, 0.1,\n",
    "               1.0, 10.0, 100.0, 1000.0]\n",
    "\n",
    "param_grid = [{'svc__C': param_range,\n",
    "               'svc__kernel': ['linear']},\n",
    "              {'svc__C': param_range,\n",
    "               'svc__gamma': param_range,\n",
    "               'svc__kernel': ['rbf']}]\n",
    "\n",
    "gs = GridSearchCV(estimator=pipe_svc,\n",
    "                  param_grid=param_grid,\n",
    "                  scoring='accuracy',\n",
    "                  cv=2)\n",
    "\n",
    "scores = cross_val_score(gs, X_train, y_train, \n",
    "                         scoring='accuracy', cv=5)\n",
    "print(f'CV accuracy: {np.mean(scores):.3f} '\n",
    "      f'+/- {np.std(scores):.3f}')"
   ]
  },
  {
   "cell_type": "markdown",
   "id": "eaf0d057",
   "metadata": {},
   "source": [
    "- The returned average cross-validation accuracy gives us a good estimate of what to expect if we tune the hyperparameters of a model and use it on unseen data.\n",
    "\n",
    "- For example, we can use the nested `cross-validation` approach to compare an `SVM model` to a simple decision tree classifier; for simplicity, we will only tune its depth parameter:"
   ]
  },
  {
   "cell_type": "code",
   "execution_count": 111,
   "id": "c30c5218",
   "metadata": {},
   "outputs": [
    {
     "name": "stdout",
     "output_type": "stream",
     "text": [
      "CV accuracy: 0.934 +/- 0.016\n"
     ]
    }
   ],
   "source": [
    "from sklearn.tree import DecisionTreeClassifier\n",
    "\n",
    "gs = GridSearchCV(estimator=DecisionTreeClassifier(random_state=0),\n",
    "                  param_grid=[{'max_depth': [1, 2, 3, 4, 5, 6, 7, None]}],\n",
    "                  scoring='accuracy',\n",
    "                  cv=2)\n",
    "\n",
    "scores = cross_val_score(gs, X_train, y_train, \n",
    "                         scoring='accuracy', cv=5)\n",
    "print(f'CV accuracy: {np.mean(scores):.3f} '\n",
    "      f'+/- {np.std(scores):.3f}')"
   ]
  },
  {
   "cell_type": "markdown",
   "id": "49b9ad26",
   "metadata": {},
   "source": [
    "- As we can see, the nested cross-validation performance of the `SVM model (97.4 percent)` is notably better than the performance of the `decision tree (93.4 percent)`, and thus, we’d expect that it might be the better choice to classify new data that comes from the same population as this particular dataset."
   ]
  },
  {
   "cell_type": "markdown",
   "id": "0dee8f08",
   "metadata": {},
   "source": [
    "## **Looking at different performance evaluation metrics**\n",
    "\n",
    "In the previous sections, we evaluated different machine learning models using prediction accuracy, which is a useful metric with which to quantify the performance of a model in general. However, there are several other performance metrics that can be used to measure a model's relevance, such as `precision`, `recall`, the `F1 score`, and `Matthews correlation coefficient (MCC)`."
   ]
  },
  {
   "cell_type": "markdown",
   "id": "2d1efa70",
   "metadata": {},
   "source": [
    "### **Reading a confusion matrix**\n",
    "\n",
    "Before we get into the details of different scoring metrics, let’s take a look at a `confusion matrix`, a matrix that lays out the performance of a learning algorithm.\n",
    "\n",
    "- A `confusion matrix` is simply a square matrix that reports the counts of the `true positive (TP)`, `true negative (TN)`, `false positive (FP)`, and `false negative (FN)` predictions of a classifier.\n",
    "\n",
    "\n",
    "![The confusion matrix](./figures/confusion-matrix.png)\n",
    "\n",
    "\n",
    "- Although these metrics can be easily computed manually by comparing the `actual` and `predicted` class labels, scikit-learn provides a convenient `confusion_matrix` function that we can use, as follows:"
   ]
  },
  {
   "cell_type": "code",
   "execution_count": 112,
   "id": "171cdce4",
   "metadata": {},
   "outputs": [
    {
     "name": "stdout",
     "output_type": "stream",
     "text": [
      "[[71  1]\n",
      " [ 2 40]]\n"
     ]
    }
   ],
   "source": [
    "from sklearn.metrics import confusion_matrix\n",
    "\n",
    "pipe_svc.fit(X_train, y_train)\n",
    "y_pred = pipe_svc.predict(X_test)\n",
    "confmat = confusion_matrix(y_true=y_test, y_pred=y_pred)\n",
    "print(confmat)"
   ]
  },
  {
   "cell_type": "markdown",
   "id": "1bfaada4",
   "metadata": {},
   "source": [
    "- The array that was returned after executing the code provides us with information about the different types of error the classifier made on the test dataset. We can map this information onto the `confusion matrix` using `Matplotlib’s matshow` function:"
   ]
  },
  {
   "cell_type": "code",
   "execution_count": 121,
   "id": "55c892d8",
   "metadata": {},
   "outputs": [
    {
     "data": {
      "image/png": "[encoded data removed]",
      "text/plain": [
       "<Figure size 250x250 with 1 Axes>"
      ]
     },
     "metadata": {},
     "output_type": "display_data"
    }
   ],
   "source": [
    "fig, ax = plt.subplots(figsize=(2.5, 2.5))\n",
    "ax.matshow(confmat, cmap=plt.cm.Blues, alpha=0.3)\n",
    "for i in range(confmat.shape[0]):\n",
    "    for j in range(confmat.shape[1]):\n",
    "        ax.text(x=j, y=i, s=confmat[i, j], va='center', ha='center')\n",
    "\n",
    "ax.xaxis.set_ticks_position('bottom')\n",
    "\n",
    "plt.xlabel('Predicted label')\n",
    "plt.ylabel('True label')\n",
    "plt.title('A confusion matrix for our data')\n",
    "plt.tight_layout()\n",
    "#plt.savefig('figures/06_09.png', dpi=300)\n",
    "plt.show()"
   ]
  },
  {
   "cell_type": "markdown",
   "id": "bb7f10f2",
   "metadata": {},
   "source": [
    "**Additional Note**\n",
    "\n",
    "Remember that we previously encoded the class labels so that malignant examples are the `\"postive\" class (1)`, and benign examples are the `\"negative\" class (0)`:"
   ]
  },
  {
   "cell_type": "code",
   "execution_count": 122,
   "id": "6393397a",
   "metadata": {},
   "outputs": [
    {
     "data": {
      "text/plain": [
       "array([1, 0])"
      ]
     },
     "execution_count": 122,
     "metadata": {},
     "output_type": "execute_result"
    }
   ],
   "source": [
    "le.transform(['M', 'B'])"
   ]
  },
  {
   "cell_type": "code",
   "execution_count": 123,
   "id": "8dc827cd",
   "metadata": {},
   "outputs": [
    {
     "name": "stdout",
     "output_type": "stream",
     "text": [
      "[[71  1]\n",
      " [ 2 40]]\n"
     ]
    }
   ],
   "source": [
    "confmat = confusion_matrix(y_true=y_test, y_pred=y_pred)\n",
    "print(confmat)"
   ]
  },
  {
   "cell_type": "markdown",
   "id": "1dd52e42",
   "metadata": {},
   "source": [
    "Note that the (true) class 0 examples that are correctly predicted as class 0 (true negatives) are now in the upper left corner of the matrix (index 0, 0). In order to change the ordering so that the true negatives are in the lower right corner (index 1,1) and the true positves are in the upper left, we can use the labels argument like shown below:"
   ]
  },
  {
   "cell_type": "code",
   "execution_count": 124,
   "id": "4df029e7",
   "metadata": {},
   "outputs": [
    {
     "name": "stdout",
     "output_type": "stream",
     "text": [
      "[[40  2]\n",
      " [ 1 71]]\n"
     ]
    }
   ],
   "source": [
    "confmat = confusion_matrix(y_true=y_test, y_pred=y_pred, labels=[1, 0])\n",
    "print(confmat)"
   ]
  },
  {
   "cell_type": "markdown",
   "id": "5b880099",
   "metadata": {},
   "source": [
    "- Assuming that `class 1 (malignant)` is the positive class in this example, our model correctly classified `71` of the examples that belong to `class 0 (TN)` and `40` examples that belong to `class 1 (TP)`, respectively.\n",
    "\n",
    "- However, our model also incorrectly misclassified two examples from `class 1` as `class 0 (FN)`, and it predicted that one example is malignant although it is a `benign tumor (FP)`. In the next subsection, we will learn how we can use this information to calculate various error metrics."
   ]
  },
  {
   "cell_type": "markdown",
   "id": "48795140",
   "metadata": {},
   "source": [
    "## **Optimizing the precision and recall of a classification model**"
   ]
  },
  {
   "cell_type": "markdown",
   "id": "28feb73e",
   "metadata": {},
   "source": [
    "### **Precision, Recall, and F1-Score**\n",
    "\n",
    "These are fundamental metrics used to evaluate **classification models**, especially in **imbalanced datasets** or scenarios where false positives and false negatives have different consequences.\n",
    "\n",
    "\n",
    "### **1. Fundamental Definitions**\n",
    "\n",
    "Given a **confusion matrix**:\n",
    "\n",
    "|                     | Predicted Positive  | Predicted Negative  |\n",
    "| ------------------- | ------------------- | ------------------- |\n",
    "| **Actual Positive** | True Positive (TP)  | False Negative (FN) |\n",
    "| **Actual Negative** | False Positive (FP) | True Negative (TN)  |\n",
    "\n",
    "\n",
    "\n",
    "#### **Precision (Positive Predictive Value)**\n",
    "\n",
    "`Precision` measures the proportion of correctly predicted positive observations among all predicted positives.\n",
    "\n",
    "$$\\mathrm{Precision} = \\frac{TP}{TP + FP}$$\n",
    "\n",
    "**Interpretation:**\n",
    "Out of all instances the model predicted as positive, how many were truly positive?\n",
    "\n",
    "**Use case:**\n",
    "When the **cost of false positives** is high — e.g., spam detection (avoid flagging legitimate emails).\n",
    "\n",
    "\n",
    "\n",
    "#### **Recall (Sensitivity or True Positive Rate)**\n",
    "\n",
    "`Recall` measures the proportion of correctly predicted positives among all actual positives.\n",
    "\n",
    "$$\\mathrm{Recall} = \\frac{TP}{TP + FN}$$\n",
    "\n",
    "**Interpretation:**\n",
    "Out of all actual positive cases, how many did the model correctly identify?\n",
    "\n",
    "**Use case:**\n",
    "When the **cost of false negatives** is high — e.g., disease detection (don’t miss any real patients).\n",
    "\n",
    "\n",
    "\n",
    "#### **F1-Score (Harmonic Mean of Precision and Recall)**\n",
    "\n",
    "`F1` balances `precision` and `recall` by taking their harmonic mean.\n",
    "\n",
    "$$\\mathrm{F1} = 2 \\times \\frac{\\mathrm{Precision} \\times \\mathrm{Recall}}{\\mathrm{Precision} + \\mathrm{Recall}}$$\n",
    "\n",
    "**Interpretation:**\n",
    "A single metric to evaluate performance when precision and recall are both important.\n",
    "\n",
    "**Use case:**\n",
    "When both false positives and false negatives are critical — e.g., fraud detection, information retrieval.\n",
    "\n",
    "\n",
    "\n",
    "### **2. Mathematical Intuition**\n",
    "\n",
    "* **Precision** favors models with **fewer false positives**.\n",
    "* **Recall** favors models with **fewer false negatives**.\n",
    "* **F1** penalizes extreme imbalances — if either precision or recall is low, F1 will also be low.\n",
    "\n",
    "\n",
    "\n",
    "### **3. Trade-off Visualization**\n",
    "\n",
    "A model’s **decision threshold** affects precision and recall:\n",
    "\n",
    "* Increasing threshold → higher precision, lower recall.\n",
    "* Decreasing threshold → higher recall, lower precision.\n",
    "\n",
    "The **Precision-Recall Curve** visualizes this trade-off.\n",
    "\n",
    "\n",
    "\n",
    "### **4. Extensions**\n",
    "\n",
    "* **Macro F1:** Average F1 across all classes equally.\n",
    "* **Micro F1:** Aggregate TP, FP, FN globally before computing.\n",
    "* **Weighted F1:** Weighted average by support (number of samples per class).\n",
    "\n",
    "\n",
    "\n",
    "### **5. When to Use**\n",
    "\n",
    "| Metric        | When to Use                | Example                     |\n",
    "| ------------- | -------------------------- | --------------------------- |\n",
    "| **Precision** | False positives are costly | Email spam detection        |\n",
    "| **Recall**    | False negatives are costly | Cancer screening            |\n",
    "| **F1-score**  | Balance between both       | Credit card fraud detection |\n",
    "\n",
    "\n",
    "\n",
    "#### **Key Takeaway**\n",
    "\n",
    "Precision, Recall, and F1-score complement **Accuracy**, offering deeper insight into **imbalanced** or **cost-sensitive** classification problems.\n",
    "They ensure evaluation focuses on **correctly identifying important classes** rather than overall correctness.\n",
    "\n",
    "---"
   ]
  },
  {
   "cell_type": "markdown",
   "id": "d1807ef3",
   "metadata": {},
   "source": [
    "### **Matthews Correlation Coefficient (MCC)**\n",
    "\n",
    "The **Matthews Correlation Coefficient (MCC)** is a robust metric that summarizes the quality of **binary classifications**, especially when dealing with **imbalanced datasets**. It measures the correlation between observed and predicted classifications.\n",
    "\n",
    "\n",
    "\n",
    "### **1. Mathematical Definition**\n",
    "\n",
    "Given a confusion matrix with:\n",
    "\n",
    "* True Positives (TP)\n",
    "* True Negatives (TN)\n",
    "* False Positives (FP)\n",
    "* False Negatives (FN)\n",
    "\n",
    "The MCC is defined as:\n",
    "\n",
    "$$\\mathrm{MCC} = \\frac{(TP \\times TN) - (FP \\times FN)}{\\sqrt{(TP + FP)(TP + FN)(TN + FP)(TN + FN)}}$$\n",
    "\n",
    "\n",
    "\n",
    "### **2. Interpretation**\n",
    "\n",
    "* **Range:** $$-1 \\leq \\mathrm{MCC} \\leq 1$$\n",
    "\n",
    "  * $`\\mathrm{MCC} = 1`$: Perfect prediction\n",
    "  * $`\\mathrm{MCC} = 0`$: Random prediction\n",
    "  * $`\\mathrm{MCC} = -1`$: Total disagreement between prediction and reality\n",
    "\n",
    "\n",
    "\n",
    "### **3. Why MCC is Valuable**\n",
    "\n",
    "Unlike accuracy or F1-score, MCC considers **all four components** `(TP, TN, FP, FN)`, giving a **balanced measure** even when classes are of very different sizes.\n",
    "\n",
    "It behaves like a **correlation coefficient** between the predicted and actual binary labels.\n",
    "\n",
    "\n",
    "\n",
    "### **4. Use Cases**\n",
    "\n",
    "| Domain                | Application                                           | Why MCC is Preferred                              |\n",
    "| --------------------- | ----------------------------------------------------- | ------------------------------------------------- |\n",
    "| **Bioinformatics**    | Protein interaction or gene expression classification | Handles class imbalance effectively               |\n",
    "| **Medical diagnosis** | Rare disease detection                                | Balances both positive and negative cases         |\n",
    "| **Fraud detection**   | Transaction classification                            | Reflects true model quality even with skewed data |\n",
    "\n",
    "\n",
    "\n",
    "### **5. Key Takeaway**\n",
    "\n",
    "MCC provides a **single, interpretable score** summarizing model performance, capturing the balance between all outcomes.\n",
    "It is **superior to accuracy or F1** when data is **imbalanced**, as it measures the **true correlation** between predicted and actual classifications.\n"
   ]
  },
  {
   "cell_type": "markdown",
   "id": "23d4bdba",
   "metadata": {},
   "source": [
    "- In contrast to `PRE`, `REC`, and the `F1` score, the `MCC` ranges between `–1` and `1`, and it takes all elements of a confusion matrix into account—for instance, the `F1` score does not involve the `TN`. While the `MCC` values are harder to interpret than the `F1` score, it is regarded as a superior metric\n",
    "\n",
    "\n",
    "- Those scoring metrics are all implemented in scikit-learn and can be imported from the `sklearn.metrics` module as shown in the following snippet:"
   ]
  },
  {
   "cell_type": "code",
   "execution_count": 125,
   "id": "c04ef542",
   "metadata": {},
   "outputs": [
    {
     "name": "stdout",
     "output_type": "stream",
     "text": [
      "Precision: 0.976\n"
     ]
    }
   ],
   "source": [
    "from sklearn.metrics import precision_score\n",
    "from sklearn.metrics import recall_score, f1_score, matthews_corrcoef\n",
    "\n",
    "pre_val = precision_score(y_true=y_test, y_pred=y_pred)\n",
    "print(f'Precision: {pre_val:.3f}')"
   ]
  },
  {
   "cell_type": "code",
   "execution_count": 126,
   "id": "3f753f4b",
   "metadata": {},
   "outputs": [
    {
     "name": "stdout",
     "output_type": "stream",
     "text": [
      "Recall: 0.952\n"
     ]
    }
   ],
   "source": [
    "rec_val = recall_score(y_true=y_test, y_pred=y_pred)\n",
    "print(f'Recall: {rec_val:.3f}')"
   ]
  },
  {
   "cell_type": "code",
   "execution_count": 127,
   "id": "28c94cd6",
   "metadata": {},
   "outputs": [
    {
     "name": "stdout",
     "output_type": "stream",
     "text": [
      "F1: 0.964\n"
     ]
    }
   ],
   "source": [
    "f1_val = f1_score(y_true=y_test, y_pred=y_pred)\n",
    "print(f'F1: {f1_val:.3f}')"
   ]
  },
  {
   "cell_type": "code",
   "execution_count": 128,
   "id": "89e40ba1",
   "metadata": {},
   "outputs": [
    {
     "name": "stdout",
     "output_type": "stream",
     "text": [
      "MCC: 0.943\n"
     ]
    }
   ],
   "source": [
    "mcc_val = matthews_corrcoef(y_true=y_test, y_pred=y_pred)\n",
    "print(f'MCC: {mcc_val:.3f}')"
   ]
  },
  {
   "cell_type": "markdown",
   "id": "c51e25a4",
   "metadata": {},
   "source": [
    "- Furthermore, we can use a different scoring metric than accuracy in the `GridSearchCV` via the scoring parameter. A complete list of the different values that are accepted by the scoring parameter can be found at [Metrics and scoring: quantifying the quality of predictions](https://scikit-learn.org/stable/modules/model_evaluation.html)"
   ]
  },
  {
   "cell_type": "markdown",
   "id": "41a75745",
   "metadata": {},
   "source": [
    "- Remember that the positive class in scikit-learn is the class that is labeled as `class 1`. If we want to specify a different positive label, we can construct our own scorer via the `make_scorer` function, which we can then directly provide as an argument to the scoring parameter in `GridSearchCV` (in this example, using the f1_score as a metric):"
   ]
  },
  {
   "cell_type": "code",
   "execution_count": 129,
   "id": "663c0cb8",
   "metadata": {},
   "outputs": [
    {
     "name": "stdout",
     "output_type": "stream",
     "text": [
      "0.9861994953378878\n",
      "{'svc__C': 10.0, 'svc__gamma': 0.01, 'svc__kernel': 'rbf'}\n"
     ]
    }
   ],
   "source": [
    "from sklearn.metrics import make_scorer\n",
    "\n",
    "scorer = make_scorer(f1_score, pos_label=0)\n",
    "\n",
    "c_gamma_range = [0.01, 0.1, 1.0, 10.0]\n",
    "\n",
    "param_grid = [{'svc__C': c_gamma_range,\n",
    "               'svc__kernel': ['linear']},\n",
    "              {'svc__C': c_gamma_range,\n",
    "               'svc__gamma': c_gamma_range,\n",
    "               'svc__kernel': ['rbf']}]\n",
    "\n",
    "gs = GridSearchCV(estimator=pipe_svc,\n",
    "                  param_grid=param_grid,\n",
    "                  scoring=scorer,\n",
    "                  cv=10,\n",
    "                  n_jobs=-1)\n",
    "gs = gs.fit(X_train, y_train)\n",
    "print(gs.best_score_)\n",
    "print(gs.best_params_)"
   ]
  },
  {
   "cell_type": "markdown",
   "id": "e9532957",
   "metadata": {},
   "source": [
    "### **Plotting a receiver operating characteristic**"
   ]
  },
  {
   "cell_type": "markdown",
   "id": "81ce7dc3",
   "metadata": {},
   "source": [
    "### **Receiver Operating Characteristic (ROC) and Area Under the Curve (AUC) — Deep Dive**\n",
    "\n",
    "\n",
    "#### **1. Overview**\n",
    "\n",
    "The **Receiver Operating Characteristic (ROC)** curve is a fundamental tool for evaluating **binary classification models**. It visualizes the **trade-off between sensitivity (recall)** and **specificity (true negative rate)** across different decision thresholds.\n",
    "\n",
    "The **Area Under the ROC Curve (AUC)** quantifies this trade-off into a **single scalar value**, representing the model’s overall ability to distinguish between positive and negative classes.\n",
    "\n",
    "\n",
    "\n",
    "#### **2. Core Concepts**\n",
    "\n",
    "Given a classifier’s output probabilities, we can define:\n",
    "\n",
    "* **True Positive Rate (TPR or Recall):**\n",
    "  $$\\mathrm{TPR} = \\frac{TP}{TP + FN}$$\n",
    "\n",
    "* **False Positive Rate (FPR):**\n",
    "  $$\\mathrm{FPR} = \\frac{FP}{FP + TN}$$\n",
    "\n",
    "The ROC curve plots:\n",
    "$`\\mathrm{TPR}`$(y-axis) **vs.** $`\\mathrm{FPR}`$(x-axis)\n",
    "for every possible classification threshold.\n",
    "\n",
    "\n",
    "\n",
    "#### **3. ROC Curve Interpretation**\n",
    "\n",
    "* The **closer the curve is to the top-left corner**, the better the classifier.\n",
    "* The **diagonal line** (from (0,0) to (1,1)) represents **random guessing**.\n",
    "* Curves below the diagonal indicate **inverse predictions** (worse than random).\n",
    "\n",
    "\n",
    "\n",
    "#### **4. Area Under the Curve (AUC)**\n",
    "\n",
    "The **ROC AUC** measures the **area under the ROC curve**, quantifying the overall model performance.\n",
    "\n",
    "$$\\mathrm{AUC} = \\int_0^1 \\mathrm{TPR(FPR)} \\, d(\\mathrm{FPR})$$\n",
    "\n",
    "**Interpretation:**\n",
    "\n",
    "* $`\\mathrm{AUC} = 1.0`$ → Perfect classifier\n",
    "* $`\\mathrm{AUC} = 0.5`$ → Random guessing\n",
    "* $`\\mathrm{AUC} < 0.5`$ → Inversely correlated predictions\n",
    "\n",
    "It can also be interpreted probabilistically as:\n",
    "\n",
    "> The probability that a randomly chosen positive instance has a higher predicted score than a randomly chosen negative instance.\n",
    "\n",
    "\n",
    "\n",
    "#### **5. Example**\n",
    "\n",
    "For a classifier outputting probabilities:\n",
    "\n",
    "| Threshold | TPR | FPR |\n",
    "| --------- | --- | --- |\n",
    "| 0.9       | 0.2 | 0.0 |\n",
    "| 0.7       | 0.6 | 0.1 |\n",
    "| 0.5       | 0.8 | 0.2 |\n",
    "| 0.3       | 0.9 | 0.4 |\n",
    "| 0.1       | 1.0 | 0.8 |\n",
    "\n",
    "Plotting (FPR, TPR) pairs gives the ROC curve.\n",
    "The AUC value would summarize the overall performance, with higher AUC indicating a better model.\n",
    "\n",
    "\n",
    "\n",
    "#### **6. Use Cases**\n",
    "\n",
    "| Domain                  | Application             | Why ROC–AUC is Used                                     |\n",
    "| ----------------------- | ----------------------- | ------------------------------------------------------- |\n",
    "| **Medical diagnostics** | Disease classification  | Measures ability to balance sensitivity and specificity |\n",
    "| **Credit scoring**      | Predicting loan default | Captures ranking quality across thresholds              |\n",
    "| **Spam detection**      | Classifying emails      | Evaluates true vs. false positive trade-offs            |\n",
    "| **Fraud detection**     | Transaction analysis    | Works well with imbalanced datasets                     |\n",
    "\n",
    "\n",
    "\n",
    "#### **7. Key Takeaways**\n",
    "\n",
    "* ROC curves **illustrate threshold-independent performance**.\n",
    "* AUC **summarizes model separability** — how well the model distinguishes classes.\n",
    "* Useful when comparing models or when class distributions are **imbalanced**.\n",
    "* Best used when **probabilistic outputs** are available (e.g., logistic regression, SVM with `probability=True`).\n",
    "\n",
    "\n",
    "\n",
    "**In summary:**\n",
    "ROC and ROC AUC provide a **comprehensive and threshold-independent** view of a model’s classification power, crucial for assessing real-world trade-offs between sensitivity and false alarms.\n"
   ]
  },
  {
   "cell_type": "markdown",
   "id": "741da6a9",
   "metadata": {},
   "source": [
    "- Executing the following code example, we will plot a `ROC curve` of a classifier that only uses two features from the `Breast Cancer Wisconsin` dataset to predict whether a tumor is `benign` or `malignant`. Although we are going to use the same logistic regression pipeline that we defined previously, we are only using two features this time. This is to make the classification task more challenging for the classifier, by withholding useful information contained in the other features, so that the resulting\n",
    "`ROC curve` becomes visually more interesting. For similar reasons, we are also reducing the number of folds in the `StratifiedKFold` validator to three. The code is as follows:"
   ]
  },
  {
   "cell_type": "code",
   "execution_count": 132,
   "id": "36256e18",
   "metadata": {},
   "outputs": [
    {
     "data": {
      "image/png": "[encoded data removed]",
      "text/plain": [
       "<Figure size 700x500 with 1 Axes>"
      ]
     },
     "metadata": {},
     "output_type": "display_data"
    }
   ],
   "source": [
    "from sklearn.metrics import roc_curve, auc\n",
    "from numpy import interp\n",
    "\n",
    "\n",
    "pipe_lr = make_pipeline(StandardScaler(),\n",
    "                        PCA(n_components=2),\n",
    "                        LogisticRegression(penalty='l2', \n",
    "                                           random_state=1,\n",
    "                                           solver='lbfgs',\n",
    "                                           C=100.0))\n",
    "\n",
    "X_train2 = X_train[:, [4, 14]]\n",
    "\n",
    "\n",
    "cv = list(StratifiedKFold(n_splits=3).split(X_train, y_train))\n",
    "\n",
    "fig = plt.figure(figsize=(7, 5))\n",
    "\n",
    "mean_tpr = 0.0\n",
    "mean_fpr = np.linspace(0, 1, 100)\n",
    "all_tpr = []\n",
    "\n",
    "for i, (train, test) in enumerate(cv):\n",
    "    probas = pipe_lr.fit(X_train2[train],\n",
    "                         y_train[train]).predict_proba(X_train2[test])\n",
    "\n",
    "    fpr, tpr, thresholds = roc_curve(y_train[test],\n",
    "                                     probas[:, 1],\n",
    "                                     pos_label=1)\n",
    "    mean_tpr += interp(mean_fpr, fpr, tpr)\n",
    "    mean_tpr[0] = 0.0\n",
    "    roc_auc = auc(fpr, tpr)\n",
    "    plt.plot(fpr,\n",
    "             tpr,\n",
    "             label=f'ROC fold {i+1} (area = {roc_auc:.2f})')\n",
    "\n",
    "plt.plot([0, 1],\n",
    "         [0, 1],\n",
    "         linestyle='--',\n",
    "         color=(0.6, 0.6, 0.6),\n",
    "         label='Random guessing (area = 0.5)')\n",
    "\n",
    "mean_tpr /= len(cv)\n",
    "mean_tpr[-1] = 1.0\n",
    "mean_auc = auc(mean_fpr, mean_tpr)\n",
    "plt.plot(mean_fpr, mean_tpr, 'k--',\n",
    "         label=f'Mean ROC (area = {mean_auc:.2f})', lw=2)\n",
    "plt.plot([0, 0, 1],\n",
    "         [0, 1, 1],\n",
    "         linestyle=':',\n",
    "         color='black',\n",
    "         label='Perfect performance (area = 1.0)')\n",
    "\n",
    "plt.xlim([-0.05, 1.05])\n",
    "plt.ylim([-0.05, 1.05])\n",
    "plt.xlabel('False positive rate')\n",
    "plt.ylabel('True positive rate')\n",
    "plt.legend(loc='lower right')\n",
    "\n",
    "plt.tight_layout()\n",
    "# plt.savefig('figures/06_10.png', dpi=300)\n",
    "plt.show()"
   ]
  },
  {
   "cell_type": "markdown",
   "id": "e8ae7c59",
   "metadata": {},
   "source": [
    "### **Scoring metrics for multiclass classification**\n",
    "\n",
    "- Scikit-learn implements macro and micro averaging methods to extend those scoring metrics to multiclass problems via `one-vs-all (OvA)` classification. The micro-average is calculated from the individual `TPs`, `TNs`, `FPs`, and `FNs` of the system.\n"
   ]
  },
  {
   "cell_type": "markdown",
   "id": "2f2b2515",
   "metadata": {},
   "source": [
    "Here’s a **clear distinction** between **Micro Precision** and **Macro Precision**, including their **mathematical formulations**, **interpretations**, and **use cases** in multi-class classification.\n",
    "\n",
    "\n",
    "### **1. Micro-Averaged Precision**\n",
    "\n",
    "#### **Formula**\n",
    "\n",
    "$$\\mathrm{Precision_{micro}} = \\frac{\\sum_{i=1}^{k} TP_i}{\\sum_{i=1}^{k} (TP_i + FP_i)}$$\n",
    "\n",
    "where\n",
    "\n",
    "* $`TP_i`$ = True Positives for class *i*\n",
    "* $`FP_i`$ = False Positives for class *i*\n",
    "* $`k`$ = Number of classes\n",
    "\n",
    "\n",
    "\n",
    "#### **Explanation**\n",
    "\n",
    "* Aggregates **all true positives and false positives** across every class before computing precision.\n",
    "* Treats **each instance equally**, regardless of which class it belongs to.\n",
    "\n",
    "\n",
    "\n",
    "#### **Interpretation**\n",
    "\n",
    "* Focuses on **overall performance** of the classifier.\n",
    "* Dominated by **majority classes** in imbalanced datasets since it gives more weight to classes with more samples.\n",
    "\n",
    "\n",
    "#### **Use Cases**\n",
    "\n",
    "* When **class imbalance** exists and you want to measure **global accuracy**.\n",
    "* Common in **multi-label** or **imbalanced multi-class** problems (e.g., medical diagnosis, fraud detection).\n",
    "\n",
    "\n",
    "\n",
    "### **2. Macro-Averaged Precision**\n",
    "\n",
    "#### **Formula**\n",
    "\n",
    "$$\\mathrm{Precision_{macro}} = \\frac{1}{k} \\sum_{i=1}^{k} \\frac{TP_i}{TP_i + FP_i}$$\n",
    "\n",
    "where\n",
    "\n",
    "* $`k`$ = Number of classes\n",
    "\n",
    "\n",
    "\n",
    "#### **Explanation**\n",
    "\n",
    "* Computes precision **independently for each class**, then averages the results.\n",
    "* Each class contributes **equally**, regardless of its frequency in the dataset.\n",
    "\n",
    "\n",
    "\n",
    "#### **Interpretation**\n",
    "\n",
    "* Evaluates the model’s ability to perform well **across all classes**.\n",
    "* Sensitive to **minority classes** — if one class performs poorly, the macro score drops significantly.\n",
    "\n",
    "\n",
    "\n",
    "#### **Use Cases**\n",
    "\n",
    "* When **all classes are equally important** (e.g., sentiment analysis: positive, neutral, negative).\n",
    "* Ideal for **balanced datasets** or when performance across classes matters equally.\n",
    "\n",
    "\n",
    "\n",
    "### **Summary Table**\n",
    "\n",
    "| Metric              | Formula                                      | Weighting    | Best For                  | Sensitivity                  |\n",
    "| ------------------- | -------------------------------------------- | ------------ | ------------------------- | ---------------------------- |\n",
    "| **Micro Precision** | $`\\frac{\\sum TP_i}{\\sum (TP_i + FP_i)}`$     | By instances | Global performance        | Biased toward majority class |\n",
    "| **Macro Precision** | $`\\frac{1}{k}\\sum \\frac{TP_i}{TP_i + FP_i}`$ | By class     | Balanced class importance | Sensitive to minority class  |\n",
    "\n",
    "\n",
    "\n",
    "#### **Key Insight**\n",
    "\n",
    "* **Micro Precision** → “Overall how many of my positive predictions were correct?”\n",
    "* **Macro Precision** → “On average, how well did I perform across each class?”\n"
   ]
  },
  {
   "cell_type": "code",
   "execution_count": 133,
   "id": "b8d606f9",
   "metadata": {},
   "outputs": [],
   "source": [
    "pre_scorer = make_scorer(score_func=precision_score, \n",
    "                         pos_label=1, \n",
    "                         greater_is_better=True, \n",
    "                         average='micro')"
   ]
  },
  {
   "cell_type": "markdown",
   "id": "8bf1e2e0",
   "metadata": {},
   "source": [
    "### **Dealing with class imbalance**"
   ]
  },
  {
   "cell_type": "markdown",
   "id": "dfe0b4cd",
   "metadata": {},
   "source": [
    "Class imbalance occurs when one class (majority) significantly outnumbers others (minority), leading to biased models that favor the dominant class. This issue is common in **fraud detection**, **medical diagnosis**, **spam filtering**, and **rare event prediction**.\n",
    "\n",
    "\n",
    "### **1. Understanding the Problem**\n",
    "\n",
    "Let the dataset contain:\n",
    "\n",
    "* Majority class $`C_0`$\n",
    "* Minority class $`C_1`$\n",
    "\n",
    "with counts:\n",
    "$`N_0 \\gg N_1`$\n",
    "\n",
    "A classifier trained on this data may minimize overall error by predicting only $`C_0`$, achieving high accuracy but **poor recall** for $`C_1`$.\n",
    "Hence, **accuracy becomes misleading**, requiring alternative evaluation and mitigation strategies.\n",
    "\n",
    "\n",
    "\n",
    "### **2. Evaluation Metrics for Imbalanced Data**\n",
    "\n",
    "Accuracy fails; instead, use **metrics sensitive to class distribution**:\n",
    "\n",
    "| Metric                   | Formula                                                                     | Focus                                 |\n",
    "| ------------------------ | --------------------------------------------------------------------------- | ------------------------------------- |\n",
    "| **Precision**            | $`\\frac{TP}{TP + FP}`$                                                      | Reliability of positive predictions   |\n",
    "| **Recall (Sensitivity)** | $`\\frac{TP}{TP + FN}`$                                                      | Ability to detect positive class      |\n",
    "| **F1-score**             | $`2 \\cdot \\frac{Precision \\cdot Recall}{Precision + Recall}`$               | Harmonic mean of precision and recall |\n",
    "| **ROC-AUC**              | Area under ROC curve                                                        | Threshold-independent separability    |\n",
    "| **PR-AUC**               | Area under Precision–Recall curve                                           | Better for skewed distributions       |\n",
    "| **MCC**                  | $`\\frac{TP \\times TN - FP \\times FN}{\\sqrt{(TP+FP)(TP+FN)(TN+FP)(TN+FN)}}`$ | Balanced correlation metric           |\n",
    "\n",
    "\n",
    "\n",
    "### **3. Data-Level Approaches**\n",
    "\n",
    "**(a) Random Undersampling**\n",
    "\n",
    "* Remove samples from the majority class to balance distribution.\n",
    "* **Pros:** Simple, quick.\n",
    "* **Cons:** May discard valuable data, reducing generalization.\n",
    "\n",
    "\n",
    "**(b) Random Oversampling**\n",
    "\n",
    "* Replicate minority class samples.\n",
    "* **Pros:** Preserves minority signal.\n",
    "* **Cons:** Risk of overfitting due to duplication.\n",
    "\n",
    "\n",
    "**(c) SMOTE (Synthetic Minority Oversampling Technique)**\n",
    "\n",
    "* Generates synthetic minority samples using interpolation:\n",
    "  $`x_{new} = x_i + \\lambda (x_{nn} - x_i), \\, \\lambda \\in [0,1]`$\n",
    "* **Pros:** Creates diverse synthetic samples.\n",
    "* **Cons:** May create noisy or overlapping samples if classes are not well separated.\n",
    "\n",
    "\n",
    "**(d) ADASYN (Adaptive Synthetic Sampling)**\n",
    "\n",
    "* Variant of SMOTE that generates more samples where minority data is harder to learn.\n",
    "\n",
    "\n",
    "**(e) Hybrid Methods**\n",
    "\n",
    "* Combine oversampling (SMOTE) with undersampling to optimize balance.\n",
    "\n",
    "\n",
    "\n",
    "### **4. Algorithm-Level Approaches**\n",
    "\n",
    "**(a) Class Weighting**\n",
    "\n",
    "* Modify loss functions to penalize misclassification of minority class more heavily:\n",
    "  $`\\mathrm{Loss} = - w_1 y \\log(\\hat{y}) - w_0 (1 - y) \\log(1 - \\hat{y})`$\n",
    "* Example: `LogisticRegression(class_weight='balanced')`\n",
    "* **Pros:** No data modification.\n",
    "* **Cons:** Requires tuning of weight ratios.\n",
    "\n",
    "**(b) Cost-Sensitive Learning**\n",
    "\n",
    "* Introduce **cost matrix** assigning higher penalties for minority misclassifications.\n",
    "* Used in algorithms like **SVM**, **Decision Trees**, **XGBoost**.\n",
    "\n",
    "**(c) Ensemble Methods**\n",
    "\n",
    "* **Balanced Random Forests:** Each tree trained on balanced bootstrap samples.\n",
    "* **EasyEnsemble / RUSBoost:** Use multiple undersampled subsets to preserve minority information.\n",
    "\n",
    "\n",
    "\n",
    "### **5. Advanced Techniques**\n",
    "\n",
    "| Approach                     | Description                                                                        | Example                                        |\n",
    "| ---------------------------- | ---------------------------------------------------------------------------------- | ---------------------------------------------- |\n",
    "| **Threshold Tuning**         | Adjust decision threshold from 0.5 to a lower value to favor minority predictions. | `y_pred = (model.predict_proba(X)[:,1] > 0.3)` |\n",
    "| **Anomaly Detection Models** | Model minority class as anomaly.                                                   | One-Class SVM, Isolation Forest                |\n",
    "| **Generative Models**        | Use VAEs or GANs to synthesize realistic minority data.                            | `CTGAN`, `SMOTE-GAN`                           |\n",
    "| **Meta-Learning Approaches** | Train models aware of imbalance through adaptive reweighting.                      | Focal Loss in deep learning                    |\n",
    "\n",
    "\n",
    "\n",
    "### **6. Model Evaluation Strategies**\n",
    "\n",
    "**(a) Stratified Cross-Validation**\n",
    "\n",
    "Ensures class proportions are preserved across folds.\n",
    "\n",
    "**(b) Confusion Matrix Inspection**\n",
    "\n",
    "Helps visualize how imbalance affects classification outcomes.\n",
    "\n",
    "**(c) PR Curve vs. ROC Curve**\n",
    "\n",
    "* **PR curve** preferred when **positive class is rare**, as it focuses on minority precision-recall trade-offs.\n",
    "\n",
    "\n",
    "\n",
    "### **7. Example Workflow**\n",
    "\n",
    "1. **Diagnose imbalance:**\n",
    "\n",
    "   ```python\n",
    "   df['label'].value_counts(normalize=True)\n",
    "   ```\n",
    "\n",
    "2. **Apply SMOTE:**\n",
    "\n",
    "   ```python\n",
    "   from imblearn.over_sampling import SMOTE\n",
    "   X_res, y_res = SMOTE().fit_resample(X, y)\n",
    "   ```\n",
    "\n",
    "3. **Train weighted model:**\n",
    "\n",
    "   ```python\n",
    "   model = LogisticRegression(class_weight='balanced')\n",
    "   model.fit(X_res, y_res)\n",
    "   ```\n",
    "\n",
    "4. **Evaluate with F1 and ROC-AUC:**\n",
    "\n",
    "   ```python\n",
    "   from sklearn.metrics import f1_score, roc_auc_score\n",
    "   f1_score(y_test, y_pred), roc_auc_score(y_test, y_prob)\n",
    "   ```\n",
    "\n",
    "\n",
    "\n",
    "### **8. Key Takeaways**\n",
    "\n",
    "| Strategy                                    | Ideal When                      | Goal                                |\n",
    "| ------------------------------------------- | ------------------------------- | ----------------------------------- |\n",
    "| **Resampling (SMOTE/Under/Over)**           | Data imbalance is severe        | Adjust data distribution            |\n",
    "| **Class weights / Cost-sensitive learning** | Model supports weighting        | Penalize wrong minority predictions |\n",
    "| **Threshold tuning**                        | Precision–recall balance needed | Shift bias toward minority          |\n",
    "| **PR-AUC evaluation**                       | Minority class is rare          | Measure actual minority performance |\n",
    "\n",
    "\n",
    "\n",
    "#### **Final Insight**\n",
    "\n",
    "Dealing with class imbalance requires combining **proper evaluation metrics**, **resampling**, and **cost-sensitive modeling**.\n",
    "The key is **not to force equal class sizes**, but to **balance the learning influence** of each class so the model can generalize effectively to both majority and minority instances.\n",
    "\n",
    "--"
   ]
  },
  {
   "cell_type": "markdown",
   "id": "ed03edf2",
   "metadata": {},
   "source": [
    "- let’s create an imbalanced dataset from our dataset, which originally consisted of `357 benign tumors (class 0)` and `212 malignant tumors (class 1)`:"
   ]
  },
  {
   "cell_type": "code",
   "execution_count": 134,
   "id": "e899a797",
   "metadata": {},
   "outputs": [],
   "source": [
    "X_imb = np.vstack((X[y == 0], X[y == 1][:40]))\n",
    "y_imb = np.hstack((y[y == 0], y[y == 1][:40]))"
   ]
  },
  {
   "cell_type": "code",
   "execution_count": 136,
   "id": "cea866ab",
   "metadata": {},
   "outputs": [
    {
     "data": {
      "text/plain": [
       "((397, 30), (397,))"
      ]
     },
     "execution_count": 136,
     "metadata": {},
     "output_type": "execute_result"
    }
   ],
   "source": [
    "X_imb.shape, y_imb.shape"
   ]
  },
  {
   "cell_type": "code",
   "execution_count": 171,
   "id": "24ce19f5",
   "metadata": {},
   "outputs": [
    {
     "data": {
      "text/plain": [
       "y\n",
       "B    357\n",
       "M    212\n",
       "Name: count, dtype: int64"
      ]
     },
     "execution_count": 171,
     "metadata": {},
     "output_type": "execute_result"
    }
   ],
   "source": [
    "df['y'].value_counts()"
   ]
  },
  {
   "cell_type": "code",
   "execution_count": 176,
   "id": "c50c1754",
   "metadata": {},
   "outputs": [
    {
     "name": "stdout",
     "output_type": "stream",
     "text": [
      "Counter({np.int64(0): 357, np.int64(1): 40})\n"
     ]
    }
   ],
   "source": [
    "from collections import Counter\n",
    "\n",
    "counts = Counter(y_imb)\n",
    "print(counts)"
   ]
  },
  {
   "cell_type": "code",
   "execution_count": 184,
   "id": "b0612278",
   "metadata": {},
   "outputs": [
    {
     "data": {
      "text/plain": [
       "(40, 357)"
      ]
     },
     "execution_count": 184,
     "metadata": {},
     "output_type": "execute_result"
    }
   ],
   "source": [
    "X_imb[y_imb == 1].shape[0], X_imb[y_imb == 0].shape[0]"
   ]
  },
  {
   "cell_type": "markdown",
   "id": "221d76d5",
   "metadata": {},
   "source": [
    "- In this code snippet, we took all `357 benign` tumor examples and stacked them with the first `40 malignant` examples to create a stark class imbalance. If we were to compute the accuracy of a model that always predicts the majority class `(benign, class 0)`, we would achieve a prediction accuracy of approximately 90 percent:"
   ]
  },
  {
   "cell_type": "code",
   "execution_count": 178,
   "id": "b86d5871",
   "metadata": {},
   "outputs": [
    {
     "name": "stdout",
     "output_type": "stream",
     "text": [
      "89.92443324937027\n"
     ]
    }
   ],
   "source": [
    "y_pred = np.zeros(y_imb.shape[0])\n",
    "print(np.mean(y_pred == y_imb) * 100)"
   ]
  },
  {
   "cell_type": "markdown",
   "id": "be590fb4",
   "metadata": {},
   "source": [
    "- Thus, when we fit classifiers on such datasets, it would make sense to focus on other metrics than accuracy when comparing different models, such as `precision`, `recall`, the `ROC curve`—whatever we care most about in our application. For instance, our priority might be to identify the majority of patients with malignant cancer to recommend an additional screening, so recall should be our metric of choice. In spam filtering, where we don’t want to label emails as spam if the system is not very certain,\n",
    "precision might be a more appropriate metric.\n",
    "\n",
    "\n",
    "- Aside from evaluating machine learning models, `class imbalance` influences a learning algorithm during model fitting itself. Since machine learning algorithms typically optimize a reward or loss function that is computed as a sum over the training examples that it sees during fitting, the decision rule is likely going to be biased toward the majority class.\n",
    "\n",
    "\n",
    "- In other words, the algorithm implicitly learns a model that optimizes the predictions based on the most abundant class in the dataset to minimize the loss or maximize the reward during training.\n",
    "\n",
    "\n",
    "- One way to deal with imbalanced class proportions during model fitting is to assign a larger penalty to wrong predictions on the minority class. Via scikit-learn, adjusting such a penalty is as convenient as setting the `class_weight` parameter to `class_weight='balanced'`, which is implemented for most classifiers.\n",
    "\n",
    "\n",
    "- Other popular strategies for dealing with class imbalance include `upsampling` the minority class, `downsampling` the majority class, and the `generation of synthetic training examples`. Unfortunately, there’s no universally best solution or technique that works best across different problem domains. Thus, in practice, it is recommended to try out different strategies on a given problem, evaluate the results, and choose the technique that seems most appropriate."
   ]
  },
  {
   "cell_type": "markdown",
   "id": "1f4666ce",
   "metadata": {},
   "source": [
    "- The scikit-learn library implements a simple resample function that can help with the upsampling of the minority class by drawing new samples from the dataset with replacement. The following code will take the minority class from our imbalanced Breast Cancer Wisconsin dataset (here, `class 1`) and repeatedly draw new samples from it until it contains the same number of examples as `class label 0`:"
   ]
  },
  {
   "cell_type": "code",
   "execution_count": 179,
   "id": "d2b1656f",
   "metadata": {},
   "outputs": [
    {
     "name": "stdout",
     "output_type": "stream",
     "text": [
      "Number of class 1 examples before: 40\n",
      "Number of class 1 examples after: 357\n"
     ]
    }
   ],
   "source": [
    "from sklearn.utils import resample\n",
    "\n",
    "print('Number of class 1 examples before:', X_imb[y_imb == 1].shape[0])\n",
    "\n",
    "X_upsampled, y_upsampled = resample(X_imb[y_imb == 1],\n",
    "                                    y_imb[y_imb == 1],\n",
    "                                    replace=True,\n",
    "                                    n_samples=X_imb[y_imb == 0].shape[0],\n",
    "                                    random_state=123)\n",
    "\n",
    "print('Number of class 1 examples after:', X_upsampled.shape[0])"
   ]
  },
  {
   "cell_type": "markdown",
   "id": "84282ed8",
   "metadata": {},
   "source": [
    "- After resampling, we can then stack the original `class 0` samples with the upsampled `class 1` subset to obtain a balanced dataset as follows:"
   ]
  },
  {
   "cell_type": "code",
   "execution_count": 185,
   "id": "ce6522b3",
   "metadata": {},
   "outputs": [],
   "source": [
    "X_bal = np.vstack((X[y == 0], X_upsampled))\n",
    "y_bal = np.hstack((y[y == 0], y_upsampled))"
   ]
  },
  {
   "cell_type": "code",
   "execution_count": 187,
   "id": "6fd91231",
   "metadata": {},
   "outputs": [
    {
     "data": {
      "text/plain": [
       "((714, 30), (714,))"
      ]
     },
     "execution_count": 187,
     "metadata": {},
     "output_type": "execute_result"
    }
   ],
   "source": [
    "X_bal.shape, y_bal.shape"
   ]
  },
  {
   "cell_type": "markdown",
   "id": "c1b79758",
   "metadata": {},
   "source": [
    "- Consequently, a majority vote prediction rule would only achieve 50 percent accuracy:"
   ]
  },
  {
   "cell_type": "code",
   "execution_count": 189,
   "id": "02a81f74",
   "metadata": {},
   "outputs": [
    {
     "name": "stdout",
     "output_type": "stream",
     "text": [
      "50.0\n"
     ]
    }
   ],
   "source": [
    "y_pred = np.zeros(y_bal.shape[0])\n",
    "print(np.mean(y_pred == y_bal) * 100)"
   ]
  },
  {
   "cell_type": "markdown",
   "id": "f8a6a2db",
   "metadata": {},
   "source": [
    "- Similarly, we could downsample the majority class by removing training examples from the dataset. To perform downsampling using the resample function, we could simply swap the `class 1` label with `class 0` in the previous code example and vice versa."
   ]
  },
  {
   "cell_type": "code",
   "execution_count": null,
   "id": "772ffe7e",
   "metadata": {},
   "outputs": [],
   "source": []
  }
 ],
 "metadata": {
  "kernelspec": {
   "display_name": "venv (3.9.12)",
   "language": "python",
   "name": "python3"
  },
  "language_info": {
   "codemirror_mode": {
    "name": "ipython",
    "version": 3
   },
   "file_extension": ".py",
   "mimetype": "text/x-python",
   "name": "python",
   "nbconvert_exporter": "python",
   "pygments_lexer": "ipython3",
   "version": "3.9.12"
  }
 },
 "nbformat": 4,
 "nbformat_minor": 5
}
