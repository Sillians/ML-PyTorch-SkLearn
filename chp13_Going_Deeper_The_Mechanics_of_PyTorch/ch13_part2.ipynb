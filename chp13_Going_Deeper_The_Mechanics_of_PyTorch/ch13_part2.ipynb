{
 "cells": [
  {
   "cell_type": "markdown",
   "id": "0c7f1414",
   "metadata": {},
   "source": [
    "# **Going Deeper -- the Mechanics of PyTorch (Part 2/3)**"
   ]
  },
  {
   "cell_type": "markdown",
   "id": "dd4a2107",
   "metadata": {},
   "source": [
    "## **Project one - predicting the fuel efficiency of a car**\n",
    "\n",
    "- Real-world project of predicting the fuel efficiency of a car in miles per gallon (MPG).\n",
    "- Cover;\n",
    "  - Data pre-processing\n",
    "  - feature engineering\n",
    "  - training\n",
    "  - prediction (inference), and \n",
    "  - evaluation."
   ]
  },
  {
   "cell_type": "markdown",
   "id": "7190630b",
   "metadata": {},
   "source": [
    "**Working with feature columns**\n",
    "\n",
    "- `Numeric` data in PyTorch specifically refers to continuous data of floating point type.\n",
    "- `feature sets` are comprised of a mixture of different feature type.\n",
    "\n",
    "\n",
    "![Auto MPG Data Structure](./figures/Auto-MPG.png)"
   ]
  },
  {
   "cell_type": "markdown",
   "id": "30939158",
   "metadata": {},
   "source": [
    "- The features shown in the figure `(model year, cylinders, displacement, horsepower, weight, acceleration, and origin)` were obtained from the `Auto MPG` dataset, which is a common machine learning benchmark dataset for predicting the fuel efficiency of a car in MPG. The full dataset and its description are available from UCI’s machine learning repository at https://archive.ics.uci.edu/ml/datasets/auto+mpg.\n",
    "\n",
    "- We are going to treat five features from the `Auto MPG` dataset (number of cylinders, displacement, horsepower, weight, and acceleration) as `“numeric”` (here, continuous) features. The model year can be regarded as an `ordered categorical (ordinal)` feature. Lastly, the manufacturing origin can be regarded as an `unordered categorical (nominal)` feature with three possible discrete values, `1, 2, and 3`, which correspond to the `US, Europe, and Japan`, respectively.\n"
   ]
  },
  {
   "cell_type": "markdown",
   "id": "0f7269ad",
   "metadata": {},
   "source": [
    "- **Data Preprocessing**\n",
    "  - Dropping the incomplete rows\n",
    "  - partitioning the dataset into training and test datasets\n",
    "  - standardizing the continuous features."
   ]
  },
  {
   "cell_type": "code",
   "execution_count": 1,
   "id": "93b76f4e",
   "metadata": {},
   "outputs": [],
   "source": [
    "import numpy as np\n",
    "import torch\n",
    "import torch.nn as nn\n",
    "import pandas as pd\n",
    "\n",
    "from IPython.display import Image"
   ]
  },
  {
   "cell_type": "code",
   "execution_count": 2,
   "id": "61c0ab73",
   "metadata": {},
   "outputs": [
    {
     "data": {
      "text/html": [
       "<div>\n",
       "<style scoped>\n",
       "    .dataframe tbody tr th:only-of-type {\n",
       "        vertical-align: middle;\n",
       "    }\n",
       "\n",
       "    .dataframe tbody tr th {\n",
       "        vertical-align: top;\n",
       "    }\n",
       "\n",
       "    .dataframe thead th {\n",
       "        text-align: right;\n",
       "    }\n",
       "</style>\n",
       "<table border=\"1\" class=\"dataframe\">\n",
       "  <thead>\n",
       "    <tr style=\"text-align: right;\">\n",
       "      <th></th>\n",
       "      <th>mpg</th>\n",
       "      <th>cylinders</th>\n",
       "      <th>displacement</th>\n",
       "      <th>horsepower</th>\n",
       "      <th>weight</th>\n",
       "      <th>acceleration</th>\n",
       "      <th>model year</th>\n",
       "      <th>origin</th>\n",
       "    </tr>\n",
       "  </thead>\n",
       "  <tbody>\n",
       "    <tr>\n",
       "      <th>0</th>\n",
       "      <td>18.0</td>\n",
       "      <td>8</td>\n",
       "      <td>307.0</td>\n",
       "      <td>130.0</td>\n",
       "      <td>3504</td>\n",
       "      <td>12.0</td>\n",
       "      <td>70</td>\n",
       "      <td>1</td>\n",
       "    </tr>\n",
       "    <tr>\n",
       "      <th>1</th>\n",
       "      <td>15.0</td>\n",
       "      <td>8</td>\n",
       "      <td>350.0</td>\n",
       "      <td>165.0</td>\n",
       "      <td>3693</td>\n",
       "      <td>11.5</td>\n",
       "      <td>70</td>\n",
       "      <td>1</td>\n",
       "    </tr>\n",
       "    <tr>\n",
       "      <th>2</th>\n",
       "      <td>18.0</td>\n",
       "      <td>8</td>\n",
       "      <td>318.0</td>\n",
       "      <td>150.0</td>\n",
       "      <td>3436</td>\n",
       "      <td>11.0</td>\n",
       "      <td>70</td>\n",
       "      <td>1</td>\n",
       "    </tr>\n",
       "    <tr>\n",
       "      <th>3</th>\n",
       "      <td>16.0</td>\n",
       "      <td>8</td>\n",
       "      <td>304.0</td>\n",
       "      <td>150.0</td>\n",
       "      <td>3433</td>\n",
       "      <td>12.0</td>\n",
       "      <td>70</td>\n",
       "      <td>1</td>\n",
       "    </tr>\n",
       "    <tr>\n",
       "      <th>4</th>\n",
       "      <td>17.0</td>\n",
       "      <td>8</td>\n",
       "      <td>302.0</td>\n",
       "      <td>140.0</td>\n",
       "      <td>3449</td>\n",
       "      <td>10.5</td>\n",
       "      <td>70</td>\n",
       "      <td>1</td>\n",
       "    </tr>\n",
       "  </tbody>\n",
       "</table>\n",
       "</div>"
      ],
      "text/plain": [
       "    mpg  cylinders  displacement  horsepower  weight  acceleration  \\\n",
       "0  18.0          8         307.0       130.0    3504          12.0   \n",
       "1  15.0          8         350.0       165.0    3693          11.5   \n",
       "2  18.0          8         318.0       150.0    3436          11.0   \n",
       "3  16.0          8         304.0       150.0    3433          12.0   \n",
       "4  17.0          8         302.0       140.0    3449          10.5   \n",
       "\n",
       "   model year  origin  \n",
       "0          70       1  \n",
       "1          70       1  \n",
       "2          70       1  \n",
       "3          70       1  \n",
       "4          70       1  "
      ]
     },
     "execution_count": 2,
     "metadata": {},
     "output_type": "execute_result"
    }
   ],
   "source": [
    "data_path = \"../data/auto-mpg.csv\"\n",
    "column_names = ['mpg', 'cylinders', 'displacement', 'horsepower', 'weight',\n",
    "                'acceleration', 'model year', 'origin']\n",
    "\n",
    "\n",
    "df = pd.read_csv(data_path, usecols=column_names, \n",
    "                 na_values= \"?\", comment='\\t')\n",
    "df.head()"
   ]
  },
  {
   "cell_type": "code",
   "execution_count": 3,
   "id": "a6e69dcd",
   "metadata": {},
   "outputs": [
    {
     "data": {
      "text/html": [
       "<div>\n",
       "<style scoped>\n",
       "    .dataframe tbody tr th:only-of-type {\n",
       "        vertical-align: middle;\n",
       "    }\n",
       "\n",
       "    .dataframe tbody tr th {\n",
       "        vertical-align: top;\n",
       "    }\n",
       "\n",
       "    .dataframe thead th {\n",
       "        text-align: right;\n",
       "    }\n",
       "</style>\n",
       "<table border=\"1\" class=\"dataframe\">\n",
       "  <thead>\n",
       "    <tr style=\"text-align: right;\">\n",
       "      <th></th>\n",
       "      <th>mpg</th>\n",
       "      <th>cylinders</th>\n",
       "      <th>displacement</th>\n",
       "      <th>horsepower</th>\n",
       "      <th>weight</th>\n",
       "      <th>acceleration</th>\n",
       "      <th>model year</th>\n",
       "      <th>origin</th>\n",
       "    </tr>\n",
       "  </thead>\n",
       "  <tbody>\n",
       "    <tr>\n",
       "      <th>393</th>\n",
       "      <td>27.0</td>\n",
       "      <td>4</td>\n",
       "      <td>140.0</td>\n",
       "      <td>86.0</td>\n",
       "      <td>2790</td>\n",
       "      <td>15.6</td>\n",
       "      <td>82</td>\n",
       "      <td>1</td>\n",
       "    </tr>\n",
       "    <tr>\n",
       "      <th>394</th>\n",
       "      <td>44.0</td>\n",
       "      <td>4</td>\n",
       "      <td>97.0</td>\n",
       "      <td>52.0</td>\n",
       "      <td>2130</td>\n",
       "      <td>24.6</td>\n",
       "      <td>82</td>\n",
       "      <td>2</td>\n",
       "    </tr>\n",
       "    <tr>\n",
       "      <th>395</th>\n",
       "      <td>32.0</td>\n",
       "      <td>4</td>\n",
       "      <td>135.0</td>\n",
       "      <td>84.0</td>\n",
       "      <td>2295</td>\n",
       "      <td>11.6</td>\n",
       "      <td>82</td>\n",
       "      <td>1</td>\n",
       "    </tr>\n",
       "    <tr>\n",
       "      <th>396</th>\n",
       "      <td>28.0</td>\n",
       "      <td>4</td>\n",
       "      <td>120.0</td>\n",
       "      <td>79.0</td>\n",
       "      <td>2625</td>\n",
       "      <td>18.6</td>\n",
       "      <td>82</td>\n",
       "      <td>1</td>\n",
       "    </tr>\n",
       "    <tr>\n",
       "      <th>397</th>\n",
       "      <td>31.0</td>\n",
       "      <td>4</td>\n",
       "      <td>119.0</td>\n",
       "      <td>82.0</td>\n",
       "      <td>2720</td>\n",
       "      <td>19.4</td>\n",
       "      <td>82</td>\n",
       "      <td>1</td>\n",
       "    </tr>\n",
       "  </tbody>\n",
       "</table>\n",
       "</div>"
      ],
      "text/plain": [
       "      mpg  cylinders  displacement  horsepower  weight  acceleration  \\\n",
       "393  27.0          4         140.0        86.0    2790          15.6   \n",
       "394  44.0          4          97.0        52.0    2130          24.6   \n",
       "395  32.0          4         135.0        84.0    2295          11.6   \n",
       "396  28.0          4         120.0        79.0    2625          18.6   \n",
       "397  31.0          4         119.0        82.0    2720          19.4   \n",
       "\n",
       "     model year  origin  \n",
       "393          82       1  \n",
       "394          82       2  \n",
       "395          82       1  \n",
       "396          82       1  \n",
       "397          82       1  "
      ]
     },
     "execution_count": 3,
     "metadata": {},
     "output_type": "execute_result"
    }
   ],
   "source": [
    "df.tail()"
   ]
  },
  {
   "cell_type": "code",
   "execution_count": 4,
   "id": "61b9f8f2",
   "metadata": {},
   "outputs": [
    {
     "data": {
      "text/plain": [
       "(398, 8)"
      ]
     },
     "execution_count": 4,
     "metadata": {},
     "output_type": "execute_result"
    }
   ],
   "source": [
    "df.shape"
   ]
  },
  {
   "cell_type": "markdown",
   "id": "97de037a",
   "metadata": {},
   "source": [
    "- drop the NA rows"
   ]
  },
  {
   "cell_type": "code",
   "execution_count": 5,
   "id": "e6e7d988",
   "metadata": {},
   "outputs": [
    {
     "name": "stdout",
     "output_type": "stream",
     "text": [
      "mpg             0\n",
      "cylinders       0\n",
      "displacement    0\n",
      "horsepower      6\n",
      "weight          0\n",
      "acceleration    0\n",
      "model year      0\n",
      "origin          0\n",
      "dtype: int64\n"
     ]
    }
   ],
   "source": [
    "print(df.isna().sum())"
   ]
  },
  {
   "cell_type": "code",
   "execution_count": 6,
   "id": "fcecd619",
   "metadata": {},
   "outputs": [
    {
     "data": {
      "text/html": [
       "<div>\n",
       "<style scoped>\n",
       "    .dataframe tbody tr th:only-of-type {\n",
       "        vertical-align: middle;\n",
       "    }\n",
       "\n",
       "    .dataframe tbody tr th {\n",
       "        vertical-align: top;\n",
       "    }\n",
       "\n",
       "    .dataframe thead th {\n",
       "        text-align: right;\n",
       "    }\n",
       "</style>\n",
       "<table border=\"1\" class=\"dataframe\">\n",
       "  <thead>\n",
       "    <tr style=\"text-align: right;\">\n",
       "      <th></th>\n",
       "      <th>mpg</th>\n",
       "      <th>cylinders</th>\n",
       "      <th>displacement</th>\n",
       "      <th>horsepower</th>\n",
       "      <th>weight</th>\n",
       "      <th>acceleration</th>\n",
       "      <th>model year</th>\n",
       "      <th>origin</th>\n",
       "    </tr>\n",
       "  </thead>\n",
       "  <tbody>\n",
       "    <tr>\n",
       "      <th>387</th>\n",
       "      <td>27.0</td>\n",
       "      <td>4</td>\n",
       "      <td>140.0</td>\n",
       "      <td>86.0</td>\n",
       "      <td>2790</td>\n",
       "      <td>15.6</td>\n",
       "      <td>82</td>\n",
       "      <td>1</td>\n",
       "    </tr>\n",
       "    <tr>\n",
       "      <th>388</th>\n",
       "      <td>44.0</td>\n",
       "      <td>4</td>\n",
       "      <td>97.0</td>\n",
       "      <td>52.0</td>\n",
       "      <td>2130</td>\n",
       "      <td>24.6</td>\n",
       "      <td>82</td>\n",
       "      <td>2</td>\n",
       "    </tr>\n",
       "    <tr>\n",
       "      <th>389</th>\n",
       "      <td>32.0</td>\n",
       "      <td>4</td>\n",
       "      <td>135.0</td>\n",
       "      <td>84.0</td>\n",
       "      <td>2295</td>\n",
       "      <td>11.6</td>\n",
       "      <td>82</td>\n",
       "      <td>1</td>\n",
       "    </tr>\n",
       "    <tr>\n",
       "      <th>390</th>\n",
       "      <td>28.0</td>\n",
       "      <td>4</td>\n",
       "      <td>120.0</td>\n",
       "      <td>79.0</td>\n",
       "      <td>2625</td>\n",
       "      <td>18.6</td>\n",
       "      <td>82</td>\n",
       "      <td>1</td>\n",
       "    </tr>\n",
       "    <tr>\n",
       "      <th>391</th>\n",
       "      <td>31.0</td>\n",
       "      <td>4</td>\n",
       "      <td>119.0</td>\n",
       "      <td>82.0</td>\n",
       "      <td>2720</td>\n",
       "      <td>19.4</td>\n",
       "      <td>82</td>\n",
       "      <td>1</td>\n",
       "    </tr>\n",
       "  </tbody>\n",
       "</table>\n",
       "</div>"
      ],
      "text/plain": [
       "      mpg  cylinders  displacement  horsepower  weight  acceleration  \\\n",
       "387  27.0          4         140.0        86.0    2790          15.6   \n",
       "388  44.0          4          97.0        52.0    2130          24.6   \n",
       "389  32.0          4         135.0        84.0    2295          11.6   \n",
       "390  28.0          4         120.0        79.0    2625          18.6   \n",
       "391  31.0          4         119.0        82.0    2720          19.4   \n",
       "\n",
       "     model year  origin  \n",
       "387          82       1  \n",
       "388          82       2  \n",
       "389          82       1  \n",
       "390          82       1  \n",
       "391          82       1  "
      ]
     },
     "execution_count": 6,
     "metadata": {},
     "output_type": "execute_result"
    }
   ],
   "source": [
    "df = df.dropna()\n",
    "df = df.reset_index(drop=True)\n",
    "df.tail()"
   ]
  },
  {
   "cell_type": "markdown",
   "id": "d77966de",
   "metadata": {},
   "source": [
    "- Split into training and test datasets"
   ]
  },
  {
   "cell_type": "code",
   "execution_count": 7,
   "id": "a63ca5c1",
   "metadata": {},
   "outputs": [
    {
     "data": {
      "text/html": [
       "<div>\n",
       "<style scoped>\n",
       "    .dataframe tbody tr th:only-of-type {\n",
       "        vertical-align: middle;\n",
       "    }\n",
       "\n",
       "    .dataframe tbody tr th {\n",
       "        vertical-align: top;\n",
       "    }\n",
       "\n",
       "    .dataframe thead th {\n",
       "        text-align: right;\n",
       "    }\n",
       "</style>\n",
       "<table border=\"1\" class=\"dataframe\">\n",
       "  <thead>\n",
       "    <tr style=\"text-align: right;\">\n",
       "      <th></th>\n",
       "      <th>count</th>\n",
       "      <th>mean</th>\n",
       "      <th>std</th>\n",
       "      <th>min</th>\n",
       "      <th>25%</th>\n",
       "      <th>50%</th>\n",
       "      <th>75%</th>\n",
       "      <th>max</th>\n",
       "    </tr>\n",
       "  </thead>\n",
       "  <tbody>\n",
       "    <tr>\n",
       "      <th>mpg</th>\n",
       "      <td>313.0</td>\n",
       "      <td>23.404153</td>\n",
       "      <td>7.666909</td>\n",
       "      <td>9.0</td>\n",
       "      <td>17.5</td>\n",
       "      <td>23.0</td>\n",
       "      <td>29.0</td>\n",
       "      <td>46.6</td>\n",
       "    </tr>\n",
       "    <tr>\n",
       "      <th>cylinders</th>\n",
       "      <td>313.0</td>\n",
       "      <td>5.402556</td>\n",
       "      <td>1.701506</td>\n",
       "      <td>3.0</td>\n",
       "      <td>4.0</td>\n",
       "      <td>4.0</td>\n",
       "      <td>8.0</td>\n",
       "      <td>8.0</td>\n",
       "    </tr>\n",
       "    <tr>\n",
       "      <th>displacement</th>\n",
       "      <td>313.0</td>\n",
       "      <td>189.512780</td>\n",
       "      <td>102.675646</td>\n",
       "      <td>68.0</td>\n",
       "      <td>104.0</td>\n",
       "      <td>140.0</td>\n",
       "      <td>260.0</td>\n",
       "      <td>455.0</td>\n",
       "    </tr>\n",
       "    <tr>\n",
       "      <th>horsepower</th>\n",
       "      <td>313.0</td>\n",
       "      <td>102.929712</td>\n",
       "      <td>37.919046</td>\n",
       "      <td>46.0</td>\n",
       "      <td>75.0</td>\n",
       "      <td>92.0</td>\n",
       "      <td>120.0</td>\n",
       "      <td>230.0</td>\n",
       "    </tr>\n",
       "    <tr>\n",
       "      <th>weight</th>\n",
       "      <td>313.0</td>\n",
       "      <td>2961.198083</td>\n",
       "      <td>848.602146</td>\n",
       "      <td>1613.0</td>\n",
       "      <td>2219.0</td>\n",
       "      <td>2755.0</td>\n",
       "      <td>3574.0</td>\n",
       "      <td>5140.0</td>\n",
       "    </tr>\n",
       "    <tr>\n",
       "      <th>acceleration</th>\n",
       "      <td>313.0</td>\n",
       "      <td>15.704473</td>\n",
       "      <td>2.725399</td>\n",
       "      <td>8.5</td>\n",
       "      <td>14.0</td>\n",
       "      <td>15.5</td>\n",
       "      <td>17.3</td>\n",
       "      <td>24.8</td>\n",
       "    </tr>\n",
       "    <tr>\n",
       "      <th>model year</th>\n",
       "      <td>313.0</td>\n",
       "      <td>75.929712</td>\n",
       "      <td>3.675305</td>\n",
       "      <td>70.0</td>\n",
       "      <td>73.0</td>\n",
       "      <td>76.0</td>\n",
       "      <td>79.0</td>\n",
       "      <td>82.0</td>\n",
       "    </tr>\n",
       "    <tr>\n",
       "      <th>origin</th>\n",
       "      <td>313.0</td>\n",
       "      <td>1.591054</td>\n",
       "      <td>0.807923</td>\n",
       "      <td>1.0</td>\n",
       "      <td>1.0</td>\n",
       "      <td>1.0</td>\n",
       "      <td>2.0</td>\n",
       "      <td>3.0</td>\n",
       "    </tr>\n",
       "  </tbody>\n",
       "</table>\n",
       "</div>"
      ],
      "text/plain": [
       "              count         mean         std     min     25%     50%     75%  \\\n",
       "mpg           313.0    23.404153    7.666909     9.0    17.5    23.0    29.0   \n",
       "cylinders     313.0     5.402556    1.701506     3.0     4.0     4.0     8.0   \n",
       "displacement  313.0   189.512780  102.675646    68.0   104.0   140.0   260.0   \n",
       "horsepower    313.0   102.929712   37.919046    46.0    75.0    92.0   120.0   \n",
       "weight        313.0  2961.198083  848.602146  1613.0  2219.0  2755.0  3574.0   \n",
       "acceleration  313.0    15.704473    2.725399     8.5    14.0    15.5    17.3   \n",
       "model year    313.0    75.929712    3.675305    70.0    73.0    76.0    79.0   \n",
       "origin        313.0     1.591054    0.807923     1.0     1.0     1.0     2.0   \n",
       "\n",
       "                 max  \n",
       "mpg             46.6  \n",
       "cylinders        8.0  \n",
       "displacement   455.0  \n",
       "horsepower     230.0  \n",
       "weight        5140.0  \n",
       "acceleration    24.8  \n",
       "model year      82.0  \n",
       "origin           3.0  "
      ]
     },
     "execution_count": 7,
     "metadata": {},
     "output_type": "execute_result"
    }
   ],
   "source": [
    "import sklearn\n",
    "import sklearn.model_selection\n",
    "\n",
    "df_train, df_test = sklearn.model_selection.train_test_split(df, train_size=0.8, random_state=1)\n",
    "train_stats = df_train.describe().transpose()\n",
    "train_stats"
   ]
  },
  {
   "cell_type": "code",
   "execution_count": 8,
   "id": "89fa7016",
   "metadata": {},
   "outputs": [
    {
     "data": {
      "text/html": [
       "<div>\n",
       "<style scoped>\n",
       "    .dataframe tbody tr th:only-of-type {\n",
       "        vertical-align: middle;\n",
       "    }\n",
       "\n",
       "    .dataframe tbody tr th {\n",
       "        vertical-align: top;\n",
       "    }\n",
       "\n",
       "    .dataframe thead th {\n",
       "        text-align: right;\n",
       "    }\n",
       "</style>\n",
       "<table border=\"1\" class=\"dataframe\">\n",
       "  <thead>\n",
       "    <tr style=\"text-align: right;\">\n",
       "      <th></th>\n",
       "      <th>mpg</th>\n",
       "      <th>cylinders</th>\n",
       "      <th>displacement</th>\n",
       "      <th>horsepower</th>\n",
       "      <th>weight</th>\n",
       "      <th>acceleration</th>\n",
       "      <th>model year</th>\n",
       "      <th>origin</th>\n",
       "    </tr>\n",
       "  </thead>\n",
       "  <tbody>\n",
       "    <tr>\n",
       "      <th>count</th>\n",
       "      <td>313.000000</td>\n",
       "      <td>313.000000</td>\n",
       "      <td>313.000000</td>\n",
       "      <td>313.000000</td>\n",
       "      <td>313.000000</td>\n",
       "      <td>313.000000</td>\n",
       "      <td>313.000000</td>\n",
       "      <td>313.000000</td>\n",
       "    </tr>\n",
       "    <tr>\n",
       "      <th>mean</th>\n",
       "      <td>23.404153</td>\n",
       "      <td>5.402556</td>\n",
       "      <td>189.512780</td>\n",
       "      <td>102.929712</td>\n",
       "      <td>2961.198083</td>\n",
       "      <td>15.704473</td>\n",
       "      <td>75.929712</td>\n",
       "      <td>1.591054</td>\n",
       "    </tr>\n",
       "    <tr>\n",
       "      <th>std</th>\n",
       "      <td>7.666909</td>\n",
       "      <td>1.701506</td>\n",
       "      <td>102.675646</td>\n",
       "      <td>37.919046</td>\n",
       "      <td>848.602146</td>\n",
       "      <td>2.725399</td>\n",
       "      <td>3.675305</td>\n",
       "      <td>0.807923</td>\n",
       "    </tr>\n",
       "    <tr>\n",
       "      <th>min</th>\n",
       "      <td>9.000000</td>\n",
       "      <td>3.000000</td>\n",
       "      <td>68.000000</td>\n",
       "      <td>46.000000</td>\n",
       "      <td>1613.000000</td>\n",
       "      <td>8.500000</td>\n",
       "      <td>70.000000</td>\n",
       "      <td>1.000000</td>\n",
       "    </tr>\n",
       "    <tr>\n",
       "      <th>25%</th>\n",
       "      <td>17.500000</td>\n",
       "      <td>4.000000</td>\n",
       "      <td>104.000000</td>\n",
       "      <td>75.000000</td>\n",
       "      <td>2219.000000</td>\n",
       "      <td>14.000000</td>\n",
       "      <td>73.000000</td>\n",
       "      <td>1.000000</td>\n",
       "    </tr>\n",
       "    <tr>\n",
       "      <th>50%</th>\n",
       "      <td>23.000000</td>\n",
       "      <td>4.000000</td>\n",
       "      <td>140.000000</td>\n",
       "      <td>92.000000</td>\n",
       "      <td>2755.000000</td>\n",
       "      <td>15.500000</td>\n",
       "      <td>76.000000</td>\n",
       "      <td>1.000000</td>\n",
       "    </tr>\n",
       "    <tr>\n",
       "      <th>75%</th>\n",
       "      <td>29.000000</td>\n",
       "      <td>8.000000</td>\n",
       "      <td>260.000000</td>\n",
       "      <td>120.000000</td>\n",
       "      <td>3574.000000</td>\n",
       "      <td>17.300000</td>\n",
       "      <td>79.000000</td>\n",
       "      <td>2.000000</td>\n",
       "    </tr>\n",
       "    <tr>\n",
       "      <th>max</th>\n",
       "      <td>46.600000</td>\n",
       "      <td>8.000000</td>\n",
       "      <td>455.000000</td>\n",
       "      <td>230.000000</td>\n",
       "      <td>5140.000000</td>\n",
       "      <td>24.800000</td>\n",
       "      <td>82.000000</td>\n",
       "      <td>3.000000</td>\n",
       "    </tr>\n",
       "  </tbody>\n",
       "</table>\n",
       "</div>"
      ],
      "text/plain": [
       "              mpg   cylinders  displacement  horsepower       weight  \\\n",
       "count  313.000000  313.000000    313.000000  313.000000   313.000000   \n",
       "mean    23.404153    5.402556    189.512780  102.929712  2961.198083   \n",
       "std      7.666909    1.701506    102.675646   37.919046   848.602146   \n",
       "min      9.000000    3.000000     68.000000   46.000000  1613.000000   \n",
       "25%     17.500000    4.000000    104.000000   75.000000  2219.000000   \n",
       "50%     23.000000    4.000000    140.000000   92.000000  2755.000000   \n",
       "75%     29.000000    8.000000    260.000000  120.000000  3574.000000   \n",
       "max     46.600000    8.000000    455.000000  230.000000  5140.000000   \n",
       "\n",
       "       acceleration  model year      origin  \n",
       "count    313.000000  313.000000  313.000000  \n",
       "mean      15.704473   75.929712    1.591054  \n",
       "std        2.725399    3.675305    0.807923  \n",
       "min        8.500000   70.000000    1.000000  \n",
       "25%       14.000000   73.000000    1.000000  \n",
       "50%       15.500000   76.000000    1.000000  \n",
       "75%       17.300000   79.000000    2.000000  \n",
       "max       24.800000   82.000000    3.000000  "
      ]
     },
     "execution_count": 8,
     "metadata": {},
     "output_type": "execute_result"
    }
   ],
   "source": [
    "df_train.describe()"
   ]
  },
  {
   "cell_type": "code",
   "execution_count": 16,
   "id": "cda3dcdb",
   "metadata": {},
   "outputs": [
    {
     "data": {
      "text/html": [
       "<div>\n",
       "<style scoped>\n",
       "    .dataframe tbody tr th:only-of-type {\n",
       "        vertical-align: middle;\n",
       "    }\n",
       "\n",
       "    .dataframe tbody tr th {\n",
       "        vertical-align: top;\n",
       "    }\n",
       "\n",
       "    .dataframe thead th {\n",
       "        text-align: right;\n",
       "    }\n",
       "</style>\n",
       "<table border=\"1\" class=\"dataframe\">\n",
       "  <thead>\n",
       "    <tr style=\"text-align: right;\">\n",
       "      <th></th>\n",
       "      <th>mpg</th>\n",
       "      <th>cylinders</th>\n",
       "      <th>displacement</th>\n",
       "      <th>horsepower</th>\n",
       "      <th>weight</th>\n",
       "      <th>acceleration</th>\n",
       "      <th>model year</th>\n",
       "      <th>origin</th>\n",
       "    </tr>\n",
       "  </thead>\n",
       "  <tbody>\n",
       "    <tr>\n",
       "      <th>203</th>\n",
       "      <td>28.0</td>\n",
       "      <td>-0.824303</td>\n",
       "      <td>-0.901020</td>\n",
       "      <td>-0.736562</td>\n",
       "      <td>-0.950031</td>\n",
       "      <td>0.255202</td>\n",
       "      <td>76</td>\n",
       "      <td>3</td>\n",
       "    </tr>\n",
       "    <tr>\n",
       "      <th>255</th>\n",
       "      <td>19.4</td>\n",
       "      <td>0.351127</td>\n",
       "      <td>0.413800</td>\n",
       "      <td>-0.340982</td>\n",
       "      <td>0.293190</td>\n",
       "      <td>0.548737</td>\n",
       "      <td>78</td>\n",
       "      <td>1</td>\n",
       "    </tr>\n",
       "    <tr>\n",
       "      <th>72</th>\n",
       "      <td>13.0</td>\n",
       "      <td>1.526556</td>\n",
       "      <td>1.144256</td>\n",
       "      <td>0.713897</td>\n",
       "      <td>1.339617</td>\n",
       "      <td>-0.625403</td>\n",
       "      <td>72</td>\n",
       "      <td>1</td>\n",
       "    </tr>\n",
       "    <tr>\n",
       "      <th>235</th>\n",
       "      <td>30.5</td>\n",
       "      <td>-0.824303</td>\n",
       "      <td>-0.891280</td>\n",
       "      <td>-1.053025</td>\n",
       "      <td>-1.072585</td>\n",
       "      <td>0.475353</td>\n",
       "      <td>77</td>\n",
       "      <td>1</td>\n",
       "    </tr>\n",
       "    <tr>\n",
       "      <th>37</th>\n",
       "      <td>14.0</td>\n",
       "      <td>1.526556</td>\n",
       "      <td>1.563051</td>\n",
       "      <td>1.636916</td>\n",
       "      <td>1.470420</td>\n",
       "      <td>-1.359240</td>\n",
       "      <td>71</td>\n",
       "      <td>1</td>\n",
       "    </tr>\n",
       "  </tbody>\n",
       "</table>\n",
       "</div>"
      ],
      "text/plain": [
       "      mpg  cylinders  displacement  horsepower    weight  acceleration  \\\n",
       "203  28.0  -0.824303     -0.901020   -0.736562 -0.950031      0.255202   \n",
       "255  19.4   0.351127      0.413800   -0.340982  0.293190      0.548737   \n",
       "72   13.0   1.526556      1.144256    0.713897  1.339617     -0.625403   \n",
       "235  30.5  -0.824303     -0.891280   -1.053025 -1.072585      0.475353   \n",
       "37   14.0   1.526556      1.563051    1.636916  1.470420     -1.359240   \n",
       "\n",
       "     model year  origin  \n",
       "203          76       3  \n",
       "255          78       1  \n",
       "72           72       1  \n",
       "235          77       1  \n",
       "37           71       1  "
      ]
     },
     "execution_count": 16,
     "metadata": {},
     "output_type": "execute_result"
    }
   ],
   "source": [
    "from packaging import version\n",
    "\n",
    "\n",
    "numeric_column_names = ['cylinders', 'displacement', 'horsepower', 'weight', 'acceleration']\n",
    "\n",
    "df_train_norm, df_test_norm = df_train.copy(), df_test.copy()\n",
    "\n",
    "\n",
    "if version.parse(pd.__version__) >= version.parse(\"2.0.0\"):\n",
    "\n",
    "    for col_name in numeric_column_names:\n",
    "        mean = train_stats.loc[col_name, 'mean']\n",
    "        std = train_stats.loc[col_name, 'std']\n",
    "        df_train_norm[col_name] = (df_train_norm[col_name] - mean) / std\n",
    "        df_test_norm[col_name] = (df_test_norm[col_name] - mean) / std\n",
    "\n",
    "else:\n",
    "\n",
    "    for col_name in numeric_column_names:\n",
    "        mean = train_stats.loc[col_name, 'mean']\n",
    "        std  = train_stats.loc[col_name, 'std']\n",
    "        df_train_norm.loc[:, col_name] = (df_train_norm.loc[:, col_name] - mean) / std\n",
    "        df_test_norm.loc[:, col_name] = (df_test_norm.loc[:, col_name] - mean) / std\n",
    "        \n",
    "df_train_norm.tail()"
   ]
  },
  {
   "cell_type": "code",
   "execution_count": 18,
   "id": "0179eb3b",
   "metadata": {},
   "outputs": [
    {
     "data": {
      "text/plain": [
       "(np.float64(1.2485575229011345e-16), np.float64(1.0))"
      ]
     },
     "execution_count": 18,
     "metadata": {},
     "output_type": "execute_result"
    }
   ],
   "source": [
    "df_train_norm['displacement'].mean(), df_train_norm['displacement'].std()"
   ]
  },
  {
   "cell_type": "code",
   "execution_count": 20,
   "id": "812f5b51",
   "metadata": {},
   "outputs": [
    {
     "name": "stdout",
     "output_type": "stream",
     "text": [
      "<class 'pandas.core.frame.DataFrame'>\n",
      "Index: 313 entries, 334 to 37\n",
      "Data columns (total 8 columns):\n",
      " #   Column        Non-Null Count  Dtype  \n",
      "---  ------        --------------  -----  \n",
      " 0   mpg           313 non-null    float64\n",
      " 1   cylinders     313 non-null    float64\n",
      " 2   displacement  313 non-null    float64\n",
      " 3   horsepower    313 non-null    float64\n",
      " 4   weight        313 non-null    float64\n",
      " 5   acceleration  313 non-null    float64\n",
      " 6   model year    313 non-null    int64  \n",
      " 7   origin        313 non-null    int64  \n",
      "dtypes: float64(6), int64(2)\n",
      "memory usage: 22.0 KB\n"
     ]
    }
   ],
   "source": [
    "df_train_norm.info()"
   ]
  },
  {
   "cell_type": "code",
   "execution_count": 22,
   "id": "0e01440d",
   "metadata": {},
   "outputs": [
    {
     "data": {
      "text/plain": [
       "origin\n",
       "1    192\n",
       "3     64\n",
       "2     57\n",
       "Name: count, dtype: int64"
      ]
     },
     "execution_count": 22,
     "metadata": {},
     "output_type": "execute_result"
    }
   ],
   "source": [
    "df_train_norm['origin'].value_counts()"
   ]
  },
  {
   "cell_type": "code",
   "execution_count": 23,
   "id": "93a066db",
   "metadata": {},
   "outputs": [
    {
     "data": {
      "text/plain": [
       "model year\n",
       "73    32\n",
       "78    31\n",
       "76    27\n",
       "71    26\n",
       "81    25\n",
       "74    23\n",
       "75    23\n",
       "82    22\n",
       "79    21\n",
       "72    21\n",
       "77    21\n",
       "70    21\n",
       "80    20\n",
       "Name: count, dtype: int64"
      ]
     },
     "execution_count": 23,
     "metadata": {},
     "output_type": "execute_result"
    }
   ],
   "source": [
    "df_train_norm['model year'].value_counts()"
   ]
  },
  {
   "cell_type": "markdown",
   "id": "f8f6dea8",
   "metadata": {},
   "source": [
    "- Let's group the rather fine-grained model year `(model year)` information into buckets to simplify the learning task for the model that we are going to train later.\n",
    "- We are going to assign each car into one of `four year` buckets, as follows;\n",
    "\n",
    "$$ \n",
    "bucket = \\begin{cases}\n",
    "0 & \\text{if } year \\lt 73 \\\\\n",
    "1 & \\text{if } 73 \\le year \\lt 76 \\\\\n",
    "2 & \\text{if } 76 \\le year \\lt 79 \\\\\n",
    "3 & \\text{if } year \\ge 79\n",
    "\\end{cases}\n",
    "$$\n",
    "\n",
    "- The chosen intervals were selected arbitrarily to illustrate the concepts of \"bucketing\".\n",
    "\n",
    "- We need to group the cars into these buckets, first define three cut-off values `[73, 76, 79]` for the model year feature.\n",
    "\n",
    "- cut-off values are used to specify half-closed intervals, for instance, \n",
    "  - (-$\\infty$, 73),\n",
    "  - [73, 76),\n",
    "  - [76, 79), and\n",
    "  - [76, $\\infty$)\n",
    "\n",
    "- The original numeric features will be passed to the `torch.bucketize` function to generate the indices of the buckets."
   ]
  },
  {
   "cell_type": "code",
   "execution_count": 25,
   "id": "2ade871a",
   "metadata": {},
   "outputs": [],
   "source": [
    "boundaries = torch.tensor([73, 76, 79])\n",
    " \n",
    "v = torch.tensor(df_train_norm['model year'].values)\n",
    "df_train_norm['Model Year Bucketed'] = torch.bucketize(v, boundaries, right=True)\n",
    "\n",
    "v = torch.tensor(df_test_norm['model year'].values)\n",
    "df_test_norm['Model Year Bucketed'] = torch.bucketize(v, boundaries, right=True)\n",
    "\n",
    "numeric_column_names.append('Model Year Bucketed')"
   ]
  },
  {
   "cell_type": "code",
   "execution_count": 26,
   "id": "15967e69",
   "metadata": {},
   "outputs": [
    {
     "data": {
      "text/plain": [
       "['cylinders',\n",
       " 'displacement',\n",
       " 'horsepower',\n",
       " 'weight',\n",
       " 'acceleration',\n",
       " 'Model Year Bucketed']"
      ]
     },
     "execution_count": 26,
     "metadata": {},
     "output_type": "execute_result"
    }
   ],
   "source": [
    "numeric_column_names"
   ]
  },
  {
   "cell_type": "markdown",
   "id": "a4f035cd",
   "metadata": {},
   "source": [
    "- we added this `bucketized` feature column to the Python list numeric_column_names."
   ]
  },
  {
   "cell_type": "markdown",
   "id": "21f45eaa",
   "metadata": {},
   "source": [
    "- Next, we define a list for the unordered categorical feature, `origin`.\n",
    "\n",
    "- In PyTorch, two ways of working with a categorical feature:\n",
    "  - using an embedding layer via `nn.Embedding`, or\n",
    "  - using `one-hot-encoded` vectors (also called indicator)\n",
    "\n",
    "- In the encoding part, \n",
    "  - `index 0` will be encoded as `[1, 0, 0]`\n",
    "  - `index 1` will be encoded as `[0, 1, 0]`\n",
    "  - and so on.\n",
    "\n",
    "- On the other hand, the embedding layer maps each index to a vector of random numbers of the type float, which can be trained. (You can\n",
    "think of the embedding layer as a more efficient implementation of a one-hot encoding multiplied with a trainable weight matrix.)\n",
    "\n",
    "- When the number of categories is large, using the embedding layer with fewer dimensions than the number of categories can improve the performance."
   ]
  },
  {
   "cell_type": "code",
   "execution_count": 28,
   "id": "b1b0d1e1",
   "metadata": {},
   "outputs": [
    {
     "data": {
      "text/plain": [
       "origin\n",
       "1    245\n",
       "3     79\n",
       "2     68\n",
       "Name: count, dtype: int64"
      ]
     },
     "execution_count": 28,
     "metadata": {},
     "output_type": "execute_result"
    }
   ],
   "source": [
    "df['origin'].value_counts()"
   ]
  },
  {
   "cell_type": "markdown",
   "id": "88a2c5b8",
   "metadata": {},
   "source": [
    "- We will use the one-hot encoding approach on the categorical feature in order to convert it into the dense format:"
   ]
  },
  {
   "cell_type": "code",
   "execution_count": 29,
   "id": "f7287e1b",
   "metadata": {},
   "outputs": [],
   "source": [
    "from torch.nn.functional import one_hot\n",
    "\n",
    "total_origin = len(set(df_train_norm['origin']))\n",
    "\n",
    "origin_encoded = one_hot(torch.from_numpy(df_train_norm['origin'].values) % total_origin)\n",
    "x_train_numeric = torch.tensor(df_train_norm[numeric_column_names].values)\n",
    "x_train = torch.cat([x_train_numeric, origin_encoded], 1).float()\n",
    " \n",
    "origin_encoded = one_hot(torch.from_numpy(df_test_norm['origin'].values) % total_origin)\n",
    "x_test_numeric = torch.tensor(df_test_norm[numeric_column_names].values)\n",
    "x_test = torch.cat([x_test_numeric, origin_encoded], 1).float()"
   ]
  },
  {
   "cell_type": "code",
   "execution_count": 35,
   "id": "b0d54b43",
   "metadata": {},
   "outputs": [
    {
     "data": {
      "text/plain": [
       "torch.Size([313, 9])"
      ]
     },
     "execution_count": 35,
     "metadata": {},
     "output_type": "execute_result"
    }
   ],
   "source": [
    "x_train.shape"
   ]
  },
  {
   "cell_type": "code",
   "execution_count": 36,
   "id": "2d17c01c",
   "metadata": {},
   "outputs": [
    {
     "data": {
      "text/plain": [
       "torch.Size([79, 9])"
      ]
     },
     "execution_count": 36,
     "metadata": {},
     "output_type": "execute_result"
    }
   ],
   "source": [
    "x_test.shape"
   ]
  },
  {
   "cell_type": "code",
   "execution_count": 40,
   "id": "4a7c3ad0",
   "metadata": {},
   "outputs": [
    {
     "data": {
      "text/plain": [
       "(2, 2, 2, 2)"
      ]
     },
     "execution_count": 40,
     "metadata": {},
     "output_type": "execute_result"
    }
   ],
   "source": [
    "x_train.ndim, x_test.ndim, x_train_numeric.ndim, origin_encoded.ndim"
   ]
  },
  {
   "cell_type": "markdown",
   "id": "8633435c",
   "metadata": {},
   "source": [
    "- Create the label tensors from the ground truth `MPG` values as follows:"
   ]
  },
  {
   "cell_type": "code",
   "execution_count": 41,
   "id": "14dd2610",
   "metadata": {},
   "outputs": [],
   "source": [
    "y_train = torch.tensor(df_train_norm['mpg'].values).float()\n",
    "y_test = torch.tensor(df_test_norm['mpg'].values).float()"
   ]
  },
  {
   "cell_type": "code",
   "execution_count": 45,
   "id": "a40dae66",
   "metadata": {},
   "outputs": [
    {
     "data": {
      "text/plain": [
       "torch.Size([313])"
      ]
     },
     "execution_count": 45,
     "metadata": {},
     "output_type": "execute_result"
    }
   ],
   "source": [
    "y_train.shape"
   ]
  },
  {
   "cell_type": "markdown",
   "id": "9276a163",
   "metadata": {},
   "source": [
    "We convered the most common approaches for preprocessing and creating features in PyTorch."
   ]
  },
  {
   "cell_type": "markdown",
   "id": "7d575b3f",
   "metadata": {},
   "source": [
    "---"
   ]
  },
  {
   "cell_type": "markdown",
   "id": "b81f9f81",
   "metadata": {},
   "source": [
    "### **Training a DNN regression model**\n",
    "\n",
    "- create a data loader that uses a batch size of `8` for the train data:"
   ]
  },
  {
   "cell_type": "code",
   "execution_count": 46,
   "id": "6b0cb479",
   "metadata": {},
   "outputs": [],
   "source": [
    "from torch.utils.data import TensorDataset, DataLoader\n",
    "\n",
    "train_ds = TensorDataset(x_train, y_train)\n",
    "batch_size = 8\n",
    "torch.manual_seed(1)\n",
    "train_dl = DataLoader(train_ds, batch_size, shuffle=True)"
   ]
  },
  {
   "cell_type": "markdown",
   "id": "3bdd89a8",
   "metadata": {},
   "source": [
    "- Next, we will build a model with two fully connected layers where one has `8` hidden units and another has `4`:"
   ]
  },
  {
   "cell_type": "code",
   "execution_count": null,
   "id": "957c072b",
   "metadata": {},
   "outputs": [
    {
     "data": {
      "text/plain": [
       "Sequential(\n",
       "  (0): Linear(in_features=9, out_features=8, bias=True)\n",
       "  (1): ReLU()\n",
       "  (2): Linear(in_features=8, out_features=4, bias=True)\n",
       "  (3): ReLU()\n",
       "  (4): Linear(in_features=4, out_features=1, bias=True)\n",
       ")"
      ]
     },
     "execution_count": 47,
     "metadata": {},
     "output_type": "execute_result"
    }
   ],
   "source": [
    "# hidden_units = [8, 4]\n",
    "# input_size = x_train.shape[1]\n",
    "\n",
    "# all_layers = []\n",
    "# for hidden_unit in hidden_units:\n",
    "#     layer = nn.Linear(input_size, hidden_unit)\n",
    "#     all_layers.append(layer)\n",
    "#     all_layers.append(nn.ReLU())\n",
    "#     input_size = hidden_unit\n",
    "\n",
    "# all_layers.append(nn.Linear(hidden_units[-1], 1))\n",
    "\n",
    "# model = nn.Sequential(*all_layers)\n",
    "# model"
   ]
  },
  {
   "cell_type": "code",
   "execution_count": 54,
   "id": "81ab6757",
   "metadata": {},
   "outputs": [
    {
     "data": {
      "text/plain": [
       "MLP(\n",
       "  (net): Sequential(\n",
       "    (0): Linear(in_features=9, out_features=8, bias=True)\n",
       "    (1): ReLU()\n",
       "    (2): Linear(in_features=8, out_features=4, bias=True)\n",
       "    (3): ReLU()\n",
       "    (4): Linear(in_features=4, out_features=1, bias=True)\n",
       "  )\n",
       ")"
      ]
     },
     "execution_count": 54,
     "metadata": {},
     "output_type": "execute_result"
    }
   ],
   "source": [
    "import torch\n",
    "import torch.nn as nn\n",
    "\n",
    "class MLP(nn.Module):\n",
    "    def __init__(self, input_size, hidden_units):\n",
    "        super().__init__()\n",
    "        \n",
    "        layers = []\n",
    "        in_features = input_size\n",
    "        \n",
    "        for h in hidden_units:\n",
    "            layers.append(nn.Linear(in_features, h))\n",
    "            layers.append(nn.ReLU())\n",
    "            in_features = h\n",
    "        \n",
    "        layers.append(nn.Linear(in_features, 1))  # final layer\n",
    "        \n",
    "        self.net = nn.Sequential(*layers)\n",
    "\n",
    "    def forward(self, x):\n",
    "        return self.net(x)\n",
    "\n",
    "model = MLP(input_size=x_train.shape[1], hidden_units=[8, 4])\n",
    "model\n"
   ]
  },
  {
   "cell_type": "markdown",
   "id": "de3d4155",
   "metadata": {},
   "source": [
    "- Define the `MSE` loss function for regression and use `SGD` for optimization:"
   ]
  },
  {
   "cell_type": "code",
   "execution_count": 55,
   "id": "8f3e26ef",
   "metadata": {},
   "outputs": [],
   "source": [
    "loss_fn = nn.MSELoss()\n",
    "optimizer = torch.optim.SGD(model.parameters(), lr=1e-3)"
   ]
  },
  {
   "cell_type": "markdown",
   "id": "a575ee19",
   "metadata": {},
   "source": [
    "- Train the model for `200` epochs and display the train loss for every `20` epochs:"
   ]
  },
  {
   "cell_type": "code",
   "execution_count": 58,
   "id": "d26df9be",
   "metadata": {},
   "outputs": [
    {
     "name": "stdout",
     "output_type": "stream",
     "text": [
      "Epoch 0  Loss 5.7565\n",
      "Epoch 15  Loss 5.4374\n",
      "Epoch 30  Loss 5.6641\n",
      "Epoch 45  Loss 5.7004\n",
      "Epoch 60  Loss 5.4297\n",
      "Epoch 75  Loss 5.3291\n",
      "Epoch 90  Loss 5.3576\n",
      "Epoch 105  Loss 5.7076\n",
      "Epoch 120  Loss 5.3187\n",
      "Epoch 135  Loss 5.3564\n",
      "Epoch 150  Loss 6.2201\n",
      "Epoch 165  Loss 5.9075\n",
      "Epoch 180  Loss 5.3062\n",
      "Epoch 195  Loss 5.8284\n"
     ]
    }
   ],
   "source": [
    "torch.manual_seed(1)\n",
    "num_epochs = 200\n",
    "log_epochs = 15\n",
    "\n",
    "for epoch in range(num_epochs):\n",
    "    loss_hist_train = 0\n",
    "    for x_batch, y_batch in train_dl:\n",
    "        pred = model(x_batch)[:, 0]\n",
    "        loss = loss_fn(pred, y_batch)\n",
    "        loss.backward()\n",
    "        optimizer.step()\n",
    "        optimizer.zero_grad()\n",
    "        loss_hist_train += loss.item()\n",
    "    if epoch % log_epochs==0:\n",
    "        print(f'Epoch {epoch}  Loss {loss_hist_train/len(train_dl):.4f}')"
   ]
  },
  {
   "cell_type": "markdown",
   "id": "494f6630",
   "metadata": {},
   "source": [
    "- Let's evaluate the regression performance of the trained model on the test dataset.\n",
    "- To predict the target values on new data points, we can feed their features to the model:"
   ]
  },
  {
   "cell_type": "code",
   "execution_count": 59,
   "id": "c2947cce",
   "metadata": {},
   "outputs": [
    {
     "name": "stdout",
     "output_type": "stream",
     "text": [
      "Test MSE: 8.8530\n",
      "Test MAE: 1.9443\n"
     ]
    }
   ],
   "source": [
    "with torch.no_grad():\n",
    "    pred = model(x_test.float())[:, 0]\n",
    "    loss = loss_fn(pred, y_test)\n",
    "    print(f'Test MSE: {loss.item():.4f}')\n",
    "    print(f'Test MAE: {nn.L1Loss()(pred, y_test).item():.4f}')"
   ]
  },
  {
   "cell_type": "markdown",
   "id": "7a59b0c9",
   "metadata": {},
   "source": [
    "---"
   ]
  },
  {
   "cell_type": "markdown",
   "id": "3a7929eb",
   "metadata": {},
   "source": [
    "## **Project two - classifying MNIST hand-written digits**"
   ]
  },
  {
   "cell_type": "markdown",
   "id": "e8ecd99f",
   "metadata": {},
   "source": [
    "- Categorize `MNIST` handwritten digits."
   ]
  },
  {
   "cell_type": "markdown",
   "id": "381a20ff",
   "metadata": {},
   "source": [
    "**1.** The setup step includes loading the dataset and specifying hyperparameters (the size of the train set and test set, and the size of mini-batches):"
   ]
  },
  {
   "cell_type": "code",
   "execution_count": 60,
   "id": "d15a2ed2",
   "metadata": {},
   "outputs": [],
   "source": [
    "import torchvision\n",
    "from torchvision import transforms\n",
    "\n",
    "image_path = \"../data\"\n",
    "transform = transforms.Compose([\n",
    "    transforms.ToTensor()\n",
    "])\n",
    "\n",
    "mnist_train_dataset = torchvision.datasets.MNIST(\n",
    "    root=image_path, train=True,\n",
    "    transform=transform, download=False\n",
    ")\n",
    "\n",
    "mnist_test_dataset = torchvision.datasets.MNIST(\n",
    "    root=image_path, train=False,\n",
    "    transform=transform, download=False\n",
    ")"
   ]
  },
  {
   "cell_type": "code",
   "execution_count": 61,
   "id": "f27aff84",
   "metadata": {},
   "outputs": [],
   "source": [
    "batch_size = 64\n",
    "torch.manual_seed(1)\n",
    "train_dl = DataLoader(mnist_train_dataset, batch_size, shuffle=True)"
   ]
  },
  {
   "cell_type": "code",
   "execution_count": 67,
   "id": "7de36659",
   "metadata": {},
   "outputs": [
    {
     "data": {
      "text/plain": [
       "(torch.Size([60000, 28, 28]),\n",
       " ['0 - zero',\n",
       "  '1 - one',\n",
       "  '2 - two',\n",
       "  '3 - three',\n",
       "  '4 - four',\n",
       "  '5 - five',\n",
       "  '6 - six',\n",
       "  '7 - seven',\n",
       "  '8 - eight',\n",
       "  '9 - nine'])"
      ]
     },
     "execution_count": 67,
     "metadata": {},
     "output_type": "execute_result"
    }
   ],
   "source": [
    "mnist_train_dataset.data.shape, mnist_test_dataset.classes"
   ]
  },
  {
   "cell_type": "markdown",
   "id": "49ec03f1",
   "metadata": {},
   "source": [
    "- In the preceeding code, we constructed a data loader with batches of `64` samples."
   ]
  },
  {
   "cell_type": "markdown",
   "id": "b1d43437",
   "metadata": {},
   "source": [
    "**2.** We preprocess the input features and the labels. \n",
    "\n",
    "- The features are the pixels of the images we read from **Step 1**.\n",
    "- The `ToTensor()` method converts the pixel features into a floating type tensor and also normalizes the pixels from the `[0, 255]` to `[0, 1]` range.\n",
    "- The labels are integers from `0` to `9` representing ten digits.\n",
    "- We don't need to do any scaling or further conversion."
   ]
  },
  {
   "cell_type": "markdown",
   "id": "5eb76d12",
   "metadata": {},
   "source": [
    "**3.** Contruct the `NN` model:"
   ]
  },
  {
   "cell_type": "code",
   "execution_count": 68,
   "id": "56c97441",
   "metadata": {},
   "outputs": [
    {
     "data": {
      "text/plain": [
       "torch.Size([1, 28, 28])"
      ]
     },
     "execution_count": 68,
     "metadata": {},
     "output_type": "execute_result"
    }
   ],
   "source": [
    "mnist_train_dataset[0][0].shape"
   ]
  },
  {
   "cell_type": "code",
   "execution_count": 69,
   "id": "3b411580",
   "metadata": {},
   "outputs": [
    {
     "data": {
      "text/plain": [
       "MLPClassifier(\n",
       "  (net): Sequential(\n",
       "    (0): Flatten(start_dim=1, end_dim=-1)\n",
       "    (1): Linear(in_features=784, out_features=32, bias=True)\n",
       "    (2): ReLU()\n",
       "    (3): Linear(in_features=32, out_features=16, bias=True)\n",
       "    (4): ReLU()\n",
       "    (5): Linear(in_features=16, out_features=10, bias=True)\n",
       "  )\n",
       ")"
      ]
     },
     "execution_count": 69,
     "metadata": {},
     "output_type": "execute_result"
    }
   ],
   "source": [
    "import torch\n",
    "import torch.nn as nn\n",
    "\n",
    "class MLPClassifier(nn.Module):\n",
    "    def __init__(self, image_shape, hidden_units):\n",
    "        super().__init__()\n",
    "        \n",
    "        c, h, w = image_shape\n",
    "        input_size = c * h * w\n",
    "        \n",
    "        layers = [nn.Flatten()]\n",
    "        \n",
    "        in_features = input_size\n",
    "        for units in hidden_units:\n",
    "            layers.append(nn.Linear(in_features, units))\n",
    "            layers.append(nn.ReLU())\n",
    "            in_features = units\n",
    "        \n",
    "        layers.append(nn.Linear(in_features, 10))  # output logits\n",
    "        \n",
    "        self.net = nn.Sequential(*layers)\n",
    "\n",
    "    def forward(self, x):\n",
    "        return self.net(x)\n",
    "\n",
    "image_shape = mnist_train_dataset[0][0].shape\n",
    "model = MLPClassifier(image_shape, hidden_units=[32, 16])\n",
    "model"
   ]
  },
  {
   "cell_type": "markdown",
   "id": "8646be65",
   "metadata": {},
   "source": [
    "- The model starts with a flatten layer that flattens an input image into a one-dimensional tensor.\n",
    "- The input images are in the shape of `[1, 28, 28]`.\n",
    "- Model has two hidden layers, with `32` and `16` units respectively.\n",
    "- Ends with an output layer of ten units representing ten classes, activated by a softmax function."
   ]
  },
  {
   "cell_type": "markdown",
   "id": "b1a96625",
   "metadata": {},
   "source": [
    "**4.** Use the model for training, evaluation, and prediction:"
   ]
  },
  {
   "cell_type": "code",
   "execution_count": 72,
   "id": "7829dec1",
   "metadata": {},
   "outputs": [],
   "source": [
    "loss_fn = nn.CrossEntropyLoss()\n",
    "optimizer = torch.optim.Adam(model.parameters(), lr=1e-3)"
   ]
  },
  {
   "cell_type": "code",
   "execution_count": 73,
   "id": "be73a30a",
   "metadata": {},
   "outputs": [
    {
     "name": "stdout",
     "output_type": "stream",
     "text": [
      "Epoch 0  Accuracy 0.8531\n",
      "Epoch 1  Accuracy 0.9287\n",
      "Epoch 2  Accuracy 0.9413\n",
      "Epoch 3  Accuracy 0.9506\n",
      "Epoch 4  Accuracy 0.9558\n",
      "Epoch 5  Accuracy 0.9592\n",
      "Epoch 6  Accuracy 0.9627\n",
      "Epoch 7  Accuracy 0.9650\n",
      "Epoch 8  Accuracy 0.9674\n",
      "Epoch 9  Accuracy 0.9690\n",
      "Epoch 10  Accuracy 0.9710\n",
      "Epoch 11  Accuracy 0.9729\n",
      "Epoch 12  Accuracy 0.9739\n",
      "Epoch 13  Accuracy 0.9750\n",
      "Epoch 14  Accuracy 0.9765\n",
      "Epoch 15  Accuracy 0.9778\n",
      "Epoch 16  Accuracy 0.9778\n",
      "Epoch 17  Accuracy 0.9798\n",
      "Epoch 18  Accuracy 0.9806\n",
      "Epoch 19  Accuracy 0.9811\n"
     ]
    }
   ],
   "source": [
    "torch.manual_seed(1)\n",
    "num_epochs = 20\n",
    "\n",
    "for epoch in range(num_epochs):\n",
    "    accuracy_hist_train = 0\n",
    "    for x_batch, y_batch in train_dl:\n",
    "        pred = model(x_batch)\n",
    "        loss = loss_fn(pred, y_batch)\n",
    "        loss.backward()\n",
    "        optimizer.step()\n",
    "        optimizer.zero_grad()\n",
    "        is_correct = (torch.argmax(pred, dim=1) == y_batch).float()\n",
    "        accuracy_hist_train += is_correct.sum()\n",
    "        \n",
    "    accuracy_hist_train /= len(train_dl.dataset)\n",
    "    print(f'Epoch {epoch}  Accuracy {accuracy_hist_train:.4f}')"
   ]
  },
  {
   "cell_type": "markdown",
   "id": "71a1b83b",
   "metadata": {},
   "source": [
    "- We used the `cross-entropy` loss function for `multiclass` classification and the `Adam optimizer` for gradient descent. \n",
    "- Trained on `20` epochs and displayed the train accuracy for every epoch."
   ]
  },
  {
   "cell_type": "markdown",
   "id": "852e84f0",
   "metadata": {},
   "source": [
    "- Evaluate on the testing set:"
   ]
  },
  {
   "cell_type": "code",
   "execution_count": 74,
   "id": "22671fb0",
   "metadata": {},
   "outputs": [
    {
     "name": "stdout",
     "output_type": "stream",
     "text": [
      "Test accuracy: 0.9649\n"
     ]
    }
   ],
   "source": [
    "pred = model(mnist_test_dataset.data / 255.)\n",
    "is_correct = (torch.argmax(pred, dim=1) == mnist_test_dataset.targets).float()\n",
    "print(f'Test accuracy: {is_correct.mean():.4f}') "
   ]
  },
  {
   "cell_type": "markdown",
   "id": "2b6208f8",
   "metadata": {},
   "source": [
    "- `96` percent test accuracy."
   ]
  }
 ],
 "metadata": {
  "kernelspec": {
   "display_name": "venv (3.9.12)",
   "language": "python",
   "name": "python3"
  },
  "language_info": {
   "codemirror_mode": {
    "name": "ipython",
    "version": 3
   },
   "file_extension": ".py",
   "mimetype": "text/x-python",
   "name": "python",
   "nbconvert_exporter": "python",
   "pygments_lexer": "ipython3",
   "version": "3.9.12"
  }
 },
 "nbformat": 4,
 "nbformat_minor": 5
}
