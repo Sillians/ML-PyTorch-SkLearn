{
 "cells": [
  {
   "cell_type": "markdown",
   "id": "2c688bef",
   "metadata": {},
   "source": [
    "# **Implementing a Multilayer Artificial Neural Network from Scratch**\n",
    "\n",
    "\n",
    "### **Outline**\n",
    "\n",
    "- Modeling complex functions with artificial neural networks\n",
    "    - Single-layer neural network recap\n",
    "    - Introducing the multilayer neural network architecture\n",
    "    - Activating a neural network via forward propagation\n",
    "\n",
    "- Classifying handwritten digits\n",
    "    - Obtaining the MNIST dataset\n",
    "    - Implementing a multilayer perceptron\n",
    "    - Coding the neural network training loop\n",
    "    - Evaluating the neural network performance\n",
    "\n",
    "- Training an artificial neural network\n",
    "    - Computing the loss function\n",
    "    - Developing your intuition for backpropagation\n",
    "    - Training neural networks via backpropagation\n",
    "\n",
    "- About the convergence in neural networks\n",
    "\n",
    "- A few last words about the neural network implementation\n",
    "\n",
    "- Summary"
   ]
  },
  {
   "cell_type": "code",
   "execution_count": 1,
   "id": "af2da7e7",
   "metadata": {},
   "outputs": [],
   "source": [
    "from IPython.display import Image\n",
    "%matplotlib inline"
   ]
  },
  {
   "cell_type": "markdown",
   "id": "67ee8660",
   "metadata": {},
   "source": [
    "## **Modeling complex functions with artificial neural networks**\n",
    "\n",
    "Artificial neurons represent the building blocks of the multilayer artificial NNs."
   ]
  },
  {
   "cell_type": "markdown",
   "id": "29b38b7e",
   "metadata": {},
   "source": [
    "### **Single-layer neural network recap**\n",
    "\n",
    "\n",
    "##### **1. Core Concept**\n",
    "\n",
    "A **single-layer neural network** is the simplest form of an artificial neural network (ANN).\n",
    "It consists of:\n",
    "\n",
    "* An **input layer** (features),\n",
    "* A **single output layer** (neurons),\n",
    "* **No hidden layers**.\n",
    "\n",
    "Despite its simplicity, it forms the mathematical and conceptual foundation for deeper networks.\n",
    "\n",
    "\n",
    "\n",
    "##### **2. Network Structure**\n",
    "\n",
    "If there are $`n`$ input features and $`m`$ output neurons, then:\n",
    "\n",
    "* Input vector: $`x = [x_1, x_2, ..., x_n]^{\\mathrm{T}}`$\n",
    "* Weight matrix: $`W = [w_{ij}] \\in \\mathbb{R}^{m \\times n}`$\n",
    "* Bias vector: $`b = [b_1, b_2, ..., b_m]^{\\mathrm{T}}`$\n",
    "* Output vector (pre-activation):\n",
    "  $`z = W x + b`$\n",
    "\n",
    "After applying an activation function $`\\phi(\\cdot)`$, the final output becomes:\n",
    "$`y = \\phi(z) = \\phi(Wx + b)`$\n",
    "\n",
    "\n",
    "\n",
    "##### **3. Forward Propagation**\n",
    "\n",
    "For a single neuron (unit):\n",
    "\n",
    "$$y = \\phi\\left(\\sum_{i=1}^{n} w_i x_i + b\\right)$$\n",
    "\n",
    "Here:\n",
    "\n",
    "* $`x_i`$ = input feature,\n",
    "* $`w_i`$ = corresponding weight,\n",
    "* $`b`$ = bias term,\n",
    "* $`\\phi(\\cdot)`$ = activation function.\n",
    "\n",
    "The activation function introduces **non-linearity**, enabling the model to learn non-linear relationships between inputs and outputs.\n",
    "\n",
    "\n",
    "\n",
    "##### **4. Common Activation Functions**\n",
    "\n",
    "| Function     | Formula                                             | Range               | Purpose                                 |\n",
    "| ------------ | --------------------------------------------------- | ------------------- | --------------------------------------- |\n",
    "| **Identity** | $`\\phi(z) = z`$                                     | $(-\\infty, \\infty)$ | Used in linear regression.              |\n",
    "| **Sigmoid**  | $`\\phi(z) = \\frac{1}{1 + e^{-z}}`$                  | $(0, 1)$            | For binary classification.              |\n",
    "| **Tanh**     | $`\\phi(z) = \\frac{e^{z} - e^{-z}}{e^{z} + e^{-z}}`$ | $(-1, 1)$           | Zero-centered, smoother gradients.      |\n",
    "| **ReLU**     | $`\\phi(z) = \\max(0, z)`$                            | $[0, \\infty)$       | Sparse activations, faster convergence. |\n",
    "\n",
    "\n",
    "\n",
    "##### **5. Loss Function**\n",
    "\n",
    "The choice of loss function depends on the task:\n",
    "\n",
    "| Task                          | Common Loss Function      | Formula                                                                                 |\n",
    "| ----------------------------- | ------------------------- | --------------------------------------------------------------------------------------- |\n",
    "| **Regression**                | Mean Squared Error (MSE)  | $`L = \\frac{1}{N}\\sum_{i=1}^{N} (y_i - \\hat{y}_i)^2`$                                   |\n",
    "| **Binary Classification**     | Binary Cross-Entropy      | $`L = -\\frac{1}{N}\\sum_{i=1}^{N} [y_i \\log(\\hat{y}_i) + (1 - y_i)\\log(1 - \\hat{y}_i)]`$ |\n",
    "| **Multiclass Classification** | Categorical Cross-Entropy | $`L = -\\sum_{i=1}^{N} y_i \\log(\\hat{y}_i)`$                                             |\n",
    "\n",
    "\n",
    "\n",
    "##### **6. Learning — Gradient Descent**\n",
    "\n",
    "The learning process involves **optimizing weights and biases** to minimize the loss.\n",
    "For each parameter $`\\theta \\in \\{W, b\\}`$, update using gradient descent:\n",
    "\n",
    "$$\\theta \\leftarrow \\theta - \\eta \\frac{\\partial L}{\\partial \\theta}$$\n",
    "\n",
    "where:\n",
    "\n",
    "* $`\\eta`$ = learning rate,\n",
    "* $`\\frac{\\partial L}{\\partial \\theta}`$ = gradient of the loss function.\n",
    "\n",
    "Gradients are computed using the **chain rule** (backpropagation).\n",
    "\n",
    "\n",
    "\n",
    "##### **7. Example: Binary Classification**\n",
    "\n",
    "For one neuron with sigmoid activation:\n",
    "\n",
    "1. Forward pass:\n",
    "   $`\\hat{y} = \\frac{1}{1 + e^{-(w^{\\mathrm{T}}x + b)}}`$\n",
    "\n",
    "2. Loss:\n",
    "   $`L = -[y \\log(\\hat{y}) + (1 - y)\\log(1 - \\hat{y})]`$\n",
    "\n",
    "3. Gradient updates:\n",
    "   $`\\begin{aligned}\n",
    "   \\frac{\\partial L}{\\partial w} &= (\\hat{y} - y)x \\\\\n",
    "   \\frac{\\partial L}{\\partial b} &= (\\hat{y} - y)\n",
    "   \\end{aligned}`$\n",
    "\n",
    "4. Update rule:\n",
    "   $`\\begin{aligned}\n",
    "   w &\\leftarrow w - \\eta (\\hat{y} - y)x \\\\\n",
    "   b &\\leftarrow b - \\eta (\\hat{y} - y)\n",
    "   \\end{aligned}`$\n",
    "\n",
    "\n",
    "\n",
    "##### **8. Relationship to Other Models**\n",
    "\n",
    "| Model                   | Equivalent Neural Network                                  |\n",
    "| ----------------------- | ---------------------------------------------------------- |\n",
    "| **Linear Regression**   | No activation function (identity).                         |\n",
    "| **Logistic Regression** | Single neuron with sigmoid activation.                     |\n",
    "| **Softmax Regression**  | Single layer with multiple outputs and softmax activation. |\n",
    "\n",
    "Thus, linear and logistic regressions are **special cases** of single-layer networks.\n",
    "\n",
    "\n",
    "\n",
    "##### **9. Limitations**\n",
    "\n",
    "* Cannot model **non-linear relationships** effectively (without non-linear activations).\n",
    "* Limited representational power — only **linear separability**.\n",
    "* Sensitive to **feature scaling**.\n",
    "\n",
    "\n",
    "\n",
    "##### **10. Summary**\n",
    "\n",
    "| Concept                | Formula / Idea                                                         |\n",
    "| ---------------------- | ---------------------------------------------------------------------- |\n",
    "| Forward pass           | $`y = \\phi(Wx + b)`$                                                   |\n",
    "| Loss function          | Depends on task (MSE or Cross-Entropy)                                 |\n",
    "| Learning rule          | $`\\theta \\leftarrow \\theta - \\eta \\frac{\\partial L}{\\partial \\theta}`$ |\n",
    "| Gradient (binary case) | $`\\frac{\\partial L}{\\partial w} = (\\hat{y} - y)x`$                     |\n",
    "| Activation (sigmoid)   | $`\\phi(z) = \\frac{1}{1 + e^{-z}}`$                                     |\n",
    "\n",
    "\n",
    "\n",
    "**In essence:**\n",
    "A **single-layer neural network** performs a weighted linear combination of inputs, applies a non-linear activation, and adjusts its parameters via gradient descent to minimize loss. It’s the mathematical foundation upon which **multi-layer (deep) neural networks** are built.\n"
   ]
  },
  {
   "cell_type": "markdown",
   "id": "ce38adb7",
   "metadata": {},
   "source": [
    "---"
   ]
  },
  {
   "cell_type": "markdown",
   "id": "b529267e",
   "metadata": {},
   "source": [
    "### **Introducing the multi-layer neural network architecture**\n",
    "\n",
    "\n",
    "![Two Layer MLP](./figures/two-layer-MLP.png)\n",
    "\n",
    "\n",
    "##### **1. Core Idea**\n",
    "\n",
    "A **multi-layer neural network (MLP — Multi-Layer Perceptron)** extends the single-layer architecture by introducing one or more **hidden layers** between input and output layers.\n",
    "These hidden layers enable the network to model **non-linear, complex functions**, overcoming the linear limitations of single-layer networks.\n",
    "\n",
    "\n",
    "\n",
    "##### **2. Mathematical Structure**\n",
    "\n",
    "For a neural network with $`L`$ layers (excluding the input layer):\n",
    "\n",
    "* Input: $`x \\in \\mathbb{R}^{d}`$\n",
    "\n",
    "* For each layer $`\\ell = 1, 2, ..., L`$:\n",
    "\n",
    "  $`\\begin{aligned}\n",
    "  z^{(\\ell)} &= W^{(\\ell)} a^{(\\ell-1)} + b^{(\\ell)} \\\\\n",
    "  a^{(\\ell)} &= \\phi^{(\\ell)}(z^{(\\ell)})\n",
    "  \\end{aligned}`$\n",
    "\n",
    "where:\n",
    "\n",
    "* $`a^{(0)} = x`$ (input features),\n",
    "  \n",
    "* $`W^{(\\ell)} \\in \\mathbb{R}^{n_\\ell \\times n_{\\ell-1}}`$ = weight matrix,\n",
    "  \n",
    "* $`b^{(\\ell)} \\in \\mathbb{R}^{n_\\ell}`$ = bias vector,\n",
    "  \n",
    "* $`\\phi^{(\\ell)}(\\cdot)`$ = activation function at layer $`\\ell`$,\n",
    "  \n",
    "* $`a^{(L)}`$ = final network output.\n",
    "\n",
    "\n",
    "The entire network defines a composite function:\n",
    "\n",
    "$$f(x; \\theta) = \\phi^{(L)}(W^{(L)} \\phi^{(L-1)}(... \\phi^{(1)}(W^{(1)}x + b^{(1)}) ... ) + b^{(L)})$$\n",
    "\n",
    "where $`\\theta = \\{W^{(\\ell)}, b^{(\\ell)}\\}_{\\ell=1}^{L}`$ represents all learnable parameters.\n",
    "\n",
    "\n",
    "\n",
    "##### **3. Role of Hidden Layers**\n",
    "\n",
    "Hidden layers enable **hierarchical feature representation**:\n",
    "\n",
    "* Early layers learn **simple patterns** (e.g., edges, local features).\n",
    "\n",
    "* Deeper layers learn **complex abstractions** (e.g., shapes, semantic structures).\n",
    "\n",
    "This hierarchical learning is what gives neural networks their **representational depth** and **generalization power**.\n",
    "\n",
    "\n",
    "\n",
    "##### **4. Universal Approximation Theorem**\n",
    "\n",
    "The **Universal Approximation Theorem** states that:\n",
    "\n",
    "> A feedforward neural network with one hidden layer containing a finite number of neurons and a non-linear activation function can approximate any continuous function on compact subsets of ℝⁿ.\n",
    "\n",
    "Mathematically:\n",
    "For any continuous function $`f`$ and tolerance $`\\epsilon > 0`$, there exists an MLP such that:\n",
    "\n",
    "$$|f(x) - \\hat{f}(x)| < \\epsilon, \\quad \\forall x \\in \\mathbb{R}^n$$\n",
    "\n",
    "This establishes **theoretical sufficiency** of neural networks as universal function approximators.\n",
    "\n",
    "\n",
    "\n",
    "##### **5. Activation Functions and Non-linearity**\n",
    "\n",
    "Hidden layers employ **non-linear activation functions** to introduce **non-linear transformations**, crucial for learning complex mappings.\n",
    "\n",
    "| Activation     | Formula                                         | Purpose                                               |\n",
    "| -------------- | ----------------------------------------------- | ----------------------------------------------------- |\n",
    "| **ReLU**       | $`\\phi(z) = \\max(0, z)`$                        | Prevents vanishing gradients; fast convergence.       |\n",
    "| **Leaky ReLU** | $`\\phi(z) = \\max(0.01z, z)`$                    | Allows small gradient when inactive.                  |\n",
    "| **Sigmoid**    | $`\\phi(z) = \\frac{1}{1 + e^{-z}}`$              | Smooth probability outputs (used in output layer).    |\n",
    "| **Tanh**       | $`\\phi(z) = \\frac{e^z - e^{-z}}{e^z + e^{-z}}`$ | Zero-centered, smooth transitions.                    |\n",
    "| **Softmax**    | $`\\phi_j(z) = \\frac{e^{z_j}}{\\sum_k e^{z_k}}`$  | Converts outputs to probabilities (multiclass tasks). |\n",
    "\n",
    "\n",
    "\n",
    "##### **6. Loss Function and Optimization**\n",
    "\n",
    "The network parameters $`\\theta`$ are optimized to minimize a loss function $`L(y, \\hat{y})`$, typically using **stochastic gradient descent (SGD)** or its variants (Adam, RMSProp).\n",
    "\n",
    "Update rule for each parameter:\n",
    "\n",
    "$$\\theta^{(t+1)} = \\theta^{(t)} - \\eta \\frac{\\partial L}{\\partial \\theta}$$\n",
    "\n",
    "where:\n",
    "\n",
    "* $`\\eta`$ = learning rate,\n",
    "\n",
    "* $`\\frac{\\partial L}{\\partial \\theta}`$ computed via **backpropagation**.\n",
    "\n",
    "\n",
    "\n",
    "##### **7. Backpropagation (Gradient Flow)**\n",
    "\n",
    "Backpropagation computes gradients layer-by-layer using the **chain rule**:\n",
    "\n",
    "$$\\delta^{(\\ell)} = ((W^{(\\ell+1)})^{\\mathrm{T}}\\delta^{(\\ell+1)}) \\odot \\phi'^{(\\ell)}(z^{(\\ell)})$$\n",
    "\n",
    "where:\n",
    "\n",
    "* $`\\delta^{(\\ell)}`$ = error term for layer $`\\ell`$,\n",
    "\n",
    "* $`\\phi'^{(\\ell)}(z^{(\\ell)})`$ = derivative of activation,\n",
    "\n",
    "* Gradients:\n",
    "  $`\\frac{\\partial L}{\\partial W^{(\\ell)}} = \\delta^{(\\ell)} (a^{(\\ell-1)})^{\\mathrm{T}}`$\n",
    "\n",
    "This mechanism enables **efficient computation** of gradients in deep networks.\n",
    "\n",
    "\n",
    "\n",
    "##### **8. Regularization and Generalization**\n",
    "\n",
    "To prevent overfitting, MLPs use **regularization** techniques:\n",
    "\n",
    "| Technique               | Description                                             |\n",
    "| ----------------------- | ------------------------------------------------------- |\n",
    "| **L2 (Weight Decay)**   | Penalizes large weights: $`L_{reg} = \\lambda \\sum W^2`$ |\n",
    "| **Dropout**             | Randomly deactivates neurons during training.           |\n",
    "| **Batch Normalization** | Normalizes activations to stabilize learning.           |\n",
    "| **Early Stopping**      | Stops training when validation loss stops improving.    |\n",
    "\n",
    "\n",
    "\n",
    "##### **9. Interpretation in Matrix Form**\n",
    "\n",
    "For two hidden layers:\n",
    "\n",
    "$$\\begin{aligned}\n",
    "a^{(1)} &= \\phi^{(1)}(W^{(1)}x + b^{(1)}) \\\\\n",
    "a^{(2)} &= \\phi^{(2)}(W^{(2)}a^{(1)} + b^{(2)}) \\\\\n",
    "\\hat{y} &= \\phi^{(3)}(W^{(3)}a^{(2)} + b^{(3)})\n",
    "\\end{aligned}$$\n",
    "\n",
    "Each layer successively transforms the input space into a new **feature subspace**, leading to more abstract representations.\n",
    "\n",
    "\n",
    "\n",
    "##### **10. Summary Table**\n",
    "\n",
    "| Concept                  | Description                        | Mathematical Representation                                                              |\n",
    "| ------------------------ | ---------------------------------- | ---------------------------------------------------------------------------------------- |\n",
    "| **Layer computation**    | Linear transformation + activation | $`a^{(\\ell)} = \\phi(W^{(\\ell)}a^{(\\ell-1)} + b^{(\\ell)})`$                               |\n",
    "| **Learning objective**   | Minimize loss                      | $`\\min_\\theta L(y, f(x; \\theta))`$                                                       |\n",
    "| **Gradient flow**        | Chain rule backward                | $`\\frac{\\partial L}{\\partial W^{(\\ell)}} = \\delta^{(\\ell)} (a^{(\\ell-1)})^{\\mathrm{T}}`$ |\n",
    "| **Representation power** | Non-linear hierarchical mapping    | Deep composition of functions                                                            |\n",
    "\n",
    "\n",
    "\n",
    "##### **In essence:**\n",
    "\n",
    "A **multi-layer neural network** is a composition of affine and non-linear transformations that progressively map input data into higher-level feature spaces.\n",
    "By stacking layers, it captures complex patterns and dependencies, forming the mathematical backbone of **deep learning architectures** such as CNNs, RNNs, and Transformers.\n"
   ]
  },
  {
   "cell_type": "markdown",
   "id": "d21b1519",
   "metadata": {},
   "source": [
    "---"
   ]
  },
  {
   "cell_type": "markdown",
   "id": "3a4c0807",
   "metadata": {},
   "source": [
    "### **Activating a neural network via forward propagation**\n",
    "\n",
    "MLP learning procedure in three simple steps:\n",
    "\n",
    "- Starting at the input layer, we forward propagate the patterns of the training data through the network to generate an output.\n",
    "- Based on the network's output, we calculate the loss that we want to minimize using a loss function.\n",
    "- We backpropagate the loss, find its derivative with respect to each weight and bias unit in the network, and update the model.\n",
    "\n",
    "![Sigmoid Activation Function](./figures/sigmoid.png)"
   ]
  },
  {
   "cell_type": "markdown",
   "id": "21ad3571",
   "metadata": {},
   "source": [
    "##### **1. Concept Overview**\n",
    "\n",
    "Forward propagation is the process by which input data moves **forward through the layers** of a neural network to generate an output.\n",
    "It’s the computational mechanism that connects **input features**, **weights**, **biases**, and **activation functions** to produce predictions.\n",
    "\n",
    "The goal is to compute the output $`\\hat{y}`$ from the input $`x`$, given the network’s parameters.\n",
    "\n",
    "\n",
    "\n",
    "##### **2. Core Mathematical Framework**\n",
    "\n",
    "For a multi-layer network with $`L`$ layers:\n",
    "\n",
    "* $`x`$: input vector\n",
    "* $`W^{[l]}`$: weight matrix at layer $`l`$\n",
    "* $`b^{[l]}`$: bias vector at layer $`l`$\n",
    "* $`a^{[l]}`$: activation (output) of layer $`l`$\n",
    "* $`z^{[l]}`$: linear combination before activation\n",
    "\n",
    "The forward propagation equations are:\n",
    "\n",
    "1. **Linear transformation (affine mapping):**\n",
    "\n",
    "   $`z^{[l]} = W^{[l]} a^{[l-1]} + b^{[l]}`$\n",
    "\n",
    "   where $`a^{[0]} = x`$ (input features).\n",
    "\n",
    "2. **Nonlinear activation:**\n",
    "\n",
    "   $`a^{[l]} = g^{[l]}(z^{[l]})`$\n",
    "\n",
    "   where $`g^{[l]}`$ is the activation function (e.g., sigmoid, ReLU, tanh).\n",
    "\n",
    "3. **Final output:**\n",
    "\n",
    "   For regression tasks:\n",
    "   $`\\hat{y} = a^{[L]}`$\n",
    "\n",
    "   For classification tasks:\n",
    "   $`\\hat{y} = \\mathrm{softmax}(z^{[L]})`$ or $`\\sigma(z^{[L]})`$ (for binary).\n",
    "\n",
    "\n",
    "\n",
    "##### **3. Matrix Dimensions**\n",
    "\n",
    "If layer $`l-1`$ has $`n_{l-1}`$ units and layer $`l`$ has $`n_l`$ units:\n",
    "\n",
    "* $`W^{[l]}`$: shape $`(n_l, n_{l-1})`$\n",
    "* $`b^{[l]}`$: shape $`(n_l, 1)`$\n",
    "* $`a^{[l]}`$: shape $`(n_l, 1)`$\n",
    "\n",
    "This ensures each layer’s output becomes the next layer’s input.\n",
    "\n",
    "\n",
    "\n",
    "##### **4. Activation Functions**\n",
    "\n",
    "Each layer applies a nonlinearity that enables complex mappings:\n",
    "\n",
    "| Activation | Formula                                                  | Gradient                    | Use Case                      |\n",
    "| ---------- | -------------------------------------------------------- | --------------------------- | ----------------------------- |\n",
    "| Sigmoid    | $`\\sigma(z)=\\frac{1}{1+e^{-z}}`$                         | $`\\sigma(z)(1-\\sigma(z))`$  | Binary classification         |\n",
    "| Tanh       | $`\\tanh(z)=\\frac{e^z-e^{-z}}{e^z+e^{-z}}`$               | $`1-\\tanh^2(z)`$            | Hidden layers (centered at 0) |\n",
    "| ReLU       | $`\\max(0,z)`$                                            | $`1`$ if $`z>0`$ else $`0`$ | Deep nets, sparse activations |\n",
    "| Softmax    | $`\\mathrm{softmax}(z_i)=\\frac{e^{z_i}}{\\sum_j e^{z_j}}`$ | Used in output layer        | Multi-class classification    |\n",
    "\n",
    "\n",
    "\n",
    "##### **5. Example — Two-Layer Network**\n",
    "\n",
    "Given input $`x`$:\n",
    "\n",
    "1. Hidden layer:\n",
    "   $`z^{[1]} = W^{[1]}x + b^{[1]}`$\n",
    "   $`a^{[1]} = \\mathrm{ReLU}(z^{[1]})`$\n",
    "\n",
    "2. Output layer:\n",
    "   $`z^{[2]} = W^{[2]}a^{[1]} + b^{[2]}`$\n",
    "   $`\\hat{y} = \\sigma(z^{[2]})`$  (binary classification)\n",
    "\n",
    "\n",
    "\n",
    "##### **6. Computational Flow Summary**\n",
    "\n",
    "| Step | Operation                                          | Purpose                     |\n",
    "| ---- | -------------------------------------------------- | --------------------------- |\n",
    "| 1    | $`x \\rightarrow z^{[1]} = W^{[1]}x + b^{[1]}`$     | Linear transformation       |\n",
    "| 2    | $`z^{[1]} \\rightarrow a^{[1]} = g^{[1]}(z^{[1]})`$ | Introduce nonlinearity      |\n",
    "| 3    | Repeat for layers 2...L                            | Deep feature transformation |\n",
    "| 4    | $`a^{[L]} \\rightarrow \\hat{y}`$                    | Compute final prediction    |\n",
    "\n",
    "\n",
    "\n",
    "##### **7. Key Insights**\n",
    "\n",
    "* Forward propagation is **differentiable**, enabling **backpropagation** later.\n",
    "* It defines the **hypothesis function** $`\\hat{y} = f(x; W, b)`$ learned from data.\n",
    "* The **depth and choice of activations** determine the expressive power of the network.\n",
    "* Nonlinear activations allow the network to **model complex, non-linear relationships**.\n"
   ]
  },
  {
   "cell_type": "markdown",
   "id": "b3422668",
   "metadata": {},
   "source": [
    "---"
   ]
  },
  {
   "cell_type": "markdown",
   "id": "5a8fba41",
   "metadata": {},
   "source": [
    "## **Classifying handwritten digits**\n",
    "\n",
    "- implement and train our first multilayer `NN` to classify handwritten digits from the popular `Mixed National Institute of Standards and Technology (MNIST)` dataset."
   ]
  },
  {
   "cell_type": "markdown",
   "id": "a68a7a07",
   "metadata": {},
   "source": [
    "**Obtaining and preparing the MNIST dataset**\n",
    "\n",
    "The MNIST dataset is publicly available at http://yann.lecun.com/exdb/mnist/ and consists of the following four parts:\n",
    "\n",
    "- Training set images: train-images-idx3-ubyte.gz (9.9 MB, 47 MB unzipped, 60,000 examples)\n",
    "\n",
    "- Training set labels: train-labels-idx1-ubyte.gz (29 KB, 60 KB unzipped, 60,000 labels)\n",
    "\n",
    "- Test set images: t10k-images-idx3-ubyte.gz (1.6 MB, 7.8 MB, 10,000 examples)\n",
    "\n",
    "- Test set labels: t10k-labels-idx1-ubyte.gz (5 KB, 10 KB unzipped, 10,000 labels)"
   ]
  },
  {
   "cell_type": "code",
   "execution_count": 4,
   "id": "a2b0f886",
   "metadata": {},
   "outputs": [],
   "source": [
    "import ssl\n",
    "from sklearn.datasets import fetch_openml\n",
    "\n",
    "ssl._create_default_https_context = ssl._create_unverified_context\n",
    "\n",
    "X, y = fetch_openml('mnist_784', \n",
    "                    version=1, \n",
    "                    return_X_y=True)\n",
    "X = X.values\n",
    "y = y.astype(int).values\n"
   ]
  },
  {
   "cell_type": "code",
   "execution_count": 7,
   "id": "9c9c7957",
   "metadata": {},
   "outputs": [
    {
     "name": "stdout",
     "output_type": "stream",
     "text": [
      "(70000, 784)\n"
     ]
    }
   ],
   "source": [
    "print(X.shape)"
   ]
  },
  {
   "cell_type": "code",
   "execution_count": 8,
   "id": "74d50869",
   "metadata": {},
   "outputs": [
    {
     "name": "stdout",
     "output_type": "stream",
     "text": [
      "(70000,)\n"
     ]
    }
   ],
   "source": [
    "print(y.shape)"
   ]
  },
  {
   "cell_type": "code",
   "execution_count": 12,
   "id": "d7543675",
   "metadata": {},
   "outputs": [
    {
     "data": {
      "text/plain": [
       "array([[0, 0, 0, ..., 0, 0, 0],\n",
       "       [0, 0, 0, ..., 0, 0, 0],\n",
       "       [0, 0, 0, ..., 0, 0, 0],\n",
       "       ...,\n",
       "       [0, 0, 0, ..., 0, 0, 0],\n",
       "       [0, 0, 0, ..., 0, 0, 0],\n",
       "       [0, 0, 0, ..., 0, 0, 0]])"
      ]
     },
     "execution_count": 12,
     "metadata": {},
     "output_type": "execute_result"
    }
   ],
   "source": [
    "X"
   ]
  },
  {
   "cell_type": "markdown",
   "id": "39ca0014",
   "metadata": {},
   "source": [
    "- **Normalize to [-1, 1] range:**\n",
    "\n",
    "scaled the images on a pixel-by-pixel basis, which is different from the feature-scaling approach discuss earlier."
   ]
  },
  {
   "cell_type": "code",
   "execution_count": 14,
   "id": "34098c69",
   "metadata": {},
   "outputs": [
    {
     "data": {
      "text/plain": [
       "array([[-1.00784314, -1.00784314, -1.00784314, ..., -1.00784314,\n",
       "        -1.00784314, -1.00784314],\n",
       "       [-1.00784314, -1.00784314, -1.00784314, ..., -1.00784314,\n",
       "        -1.00784314, -1.00784314],\n",
       "       [-1.00784314, -1.00784314, -1.00784314, ..., -1.00784314,\n",
       "        -1.00784314, -1.00784314],\n",
       "       ...,\n",
       "       [-1.00784314, -1.00784314, -1.00784314, ..., -1.00784314,\n",
       "        -1.00784314, -1.00784314],\n",
       "       [-1.00784314, -1.00784314, -1.00784314, ..., -1.00784314,\n",
       "        -1.00784314, -1.00784314],\n",
       "       [-1.00784314, -1.00784314, -1.00784314, ..., -1.00784314,\n",
       "        -1.00784314, -1.00784314]])"
      ]
     },
     "execution_count": 14,
     "metadata": {},
     "output_type": "execute_result"
    }
   ],
   "source": [
    "X = ((X / 255.) - .5) * 2\n",
    "X"
   ]
  },
  {
   "cell_type": "markdown",
   "id": "5b6ef510",
   "metadata": {},
   "source": [
    "**Best Practices for Scaling Image Data in Deep Learning**\n",
    "\n",
    "1. **Normalization:**\n",
    "   Scale pixel values from `[0, 255]` to `[0, 1]` by dividing by 255. Improves convergence and stability.\n",
    "\n",
    "2. **Standardization:**\n",
    "   Subtract the dataset mean and divide by the standard deviation — especially for pretrained models expecting normalized inputs (e.g., ImageNet).\n",
    "\n",
    "3. **Consistent Scaling:**\n",
    "   Apply the same scaling transformation to both training and test data.\n",
    "\n",
    "4. **Avoid Data Leakage:**\n",
    "   Fit scaling parameters (mean, std) only on the training set, then apply to validation/test sets.\n",
    "\n",
    "5. **Use Framework Utilities:**\n",
    "   Prefer built-in preprocessors (e.g., `tf.keras.applications.*.preprocess_input` or `torchvision.transforms.Normalize`) for compatibility with pretrained models.\n"
   ]
  },
  {
   "cell_type": "markdown",
   "id": "d5d22546",
   "metadata": {},
   "source": [
    "- **Visualize the first digit of each class:**"
   ]
  },
  {
   "cell_type": "code",
   "execution_count": 16,
   "id": "6dc6e48c",
   "metadata": {},
   "outputs": [
    {
     "data": {
      "image/png": "[encoded data removed]",
      "text/plain": [
       "<Figure size 640x480 with 10 Axes>"
      ]
     },
     "metadata": {},
     "output_type": "display_data"
    }
   ],
   "source": [
    "import matplotlib.pyplot as plt\n",
    "\n",
    "fig, ax = plt.subplots(nrows=2,\n",
    "                       ncols=5,\n",
    "                       sharex=True,\n",
    "                       sharey=True)\n",
    "ax = ax.flatten()\n",
    "for i in range(10):\n",
    "    img = X[y == i][0].reshape(28, 28)\n",
    "    ax[i].imshow(img, cmap='Greys')\n",
    "ax[0].set_xticks([])\n",
    "ax[0].set_yticks([])\n",
    "plt.tight_layout()\n",
    "plt.show()"
   ]
  },
  {
   "cell_type": "markdown",
   "id": "a44e85a4",
   "metadata": {},
   "source": [
    "- **Plot example of the same digit to see how different the handwriting for each really is:**"
   ]
  },
  {
   "cell_type": "code",
   "execution_count": 17,
   "id": "675a4620",
   "metadata": {},
   "outputs": [
    {
     "data": {
      "image/png": "[encoded data removed]",
      "text/plain": [
       "<Figure size 640x480 with 25 Axes>"
      ]
     },
     "metadata": {},
     "output_type": "display_data"
    }
   ],
   "source": [
    "fig, ax = plt.subplots(nrows=5,\n",
    "                       ncols=5,\n",
    "                       sharex=True,\n",
    "                       sharey=True\n",
    "                       )\n",
    "ax = ax.flatten()\n",
    "for i in range(25):\n",
    "    img = X[y == 7][i].reshape(28, 28)\n",
    "    ax[i].imshow(img, cmap='Greys')\n",
    "ax[0].set_xticks([])\n",
    "ax[0].set_yticks([])\n",
    "plt.tight_layout()\n",
    "plt.show()"
   ]
  },
  {
   "cell_type": "markdown",
   "id": "d8c61752",
   "metadata": {},
   "source": [
    "- **Split into training, validation, and test set:**"
   ]
  },
  {
   "cell_type": "code",
   "execution_count": 18,
   "id": "bf758cf0",
   "metadata": {},
   "outputs": [],
   "source": [
    "from sklearn.model_selection import train_test_split\n",
    "\n",
    "X_temp, X_test, y_temp, y_test = train_test_split(\n",
    "    X, y, test_size=10000, random_state=123,\n",
    "    stratify=y\n",
    ")\n",
    "X_train, X_valid, y_train, y_valid = train_test_split(\n",
    "    X_temp, y_temp, test_size=5000,\n",
    "    random_state=123, stratify=y_temp\n",
    ")\n",
    "# optional to free up some memory by deleting non-used arrays:\n",
    "del X_temp, y_temp, X, y"
   ]
  },
  {
   "cell_type": "code",
   "execution_count": 19,
   "id": "c6fb89e6",
   "metadata": {},
   "outputs": [
    {
     "data": {
      "text/plain": [
       "((55000, 784), (5000, 784), (10000, 784))"
      ]
     },
     "execution_count": 19,
     "metadata": {},
     "output_type": "execute_result"
    }
   ],
   "source": [
    "X_train.shape, X_valid.shape, X_test.shape"
   ]
  },
  {
   "cell_type": "markdown",
   "id": "81d41232",
   "metadata": {},
   "source": [
    "### **Implementing a multi-layer perceptron**\n",
    "\n",
    "- Implememt a MLP from scratch to classify the images in the `MNIST` dataset.\n",
    "- MLP with only one hidden layer."
   ]
  },
  {
   "cell_type": "code",
   "execution_count": 20,
   "id": "13cd45f9",
   "metadata": {},
   "outputs": [],
   "source": [
    "import numpy as np\n",
    "\n",
    "##########################\n",
    "### MODEL\n",
    "##########################\n",
    "\n",
    "def sigmoid(z):\n",
    "    return 1. / (1. + np.exp(-z))\n",
    "\n",
    "\n",
    "def int_to_onehot(y, num_labels):\n",
    "    ary = np.zeros((y.shape[0], num_labels))\n",
    "    for i, val in enumerate(y):\n",
    "        ary[i, val] = 1\n",
    "    return ary\n",
    "\n",
    "\n",
    "class NeuralNetMLP:\n",
    "    \n",
    "    def __init__(self, num_features, num_hidden, num_classes, random_seed=123):\n",
    "        super().__init__()\n",
    "        \n",
    "        self.num_classes = num_classes\n",
    "        \n",
    "        # hidden\n",
    "        rng = np.random.RandomState(random_seed)\n",
    "        \n",
    "        self.weight_h = rng.normal(\n",
    "            loc=0.0, scale=0.1, size=(num_hidden, num_features)\n",
    "        )\n",
    "        self.bias_h = np.zeros(num_hidden)\n",
    "        \n",
    "        # output\n",
    "        self.weight_out = rng.normal(\n",
    "            loc=0.0, scale=0.1, size=(num_classes, num_hidden)\n",
    "        )\n",
    "        self.bias_out = np.zeros(num_classes)\n",
    "        \n",
    "    def forward(self, x):\n",
    "        # Hidden layer\n",
    "        # input dim: [n_examples, n_features] dot [n_hidden, n_features].T\n",
    "        # output dim: [n_examples, n_hidden]\n",
    "        z_h = np.dot(x, self.weight_h.T) + self.bias_h\n",
    "        a_h = sigmoid(z_h)\n",
    "\n",
    "        # Output layer\n",
    "        # input dim: [n_examples, n_hidden] dot [n_classes, n_hidden].T \n",
    "        # output dim: [n_examples, n_classes]\n",
    "        z_out = np.dot(a_h, self.weight_out.T) + self.bias_out\n",
    "        a_out = sigmoid(z_out)\n",
    "        return a_h, a_out\n",
    "    \n",
    "    def backward(self, x, a_h, a_out, y):\n",
    "        \n",
    "        #########################\n",
    "        ### Output layer weights\n",
    "        #########################\n",
    "        \n",
    "        # onehot encoding\n",
    "        y_onehot = int_to_onehot(y, self.num_classes)\n",
    "        \n",
    "        # Part 1: dLoss/dOutWeights\n",
    "        ## = dLoss/dOutAct * dOutAct/dOutNet * dOutNet/dOutWeight\n",
    "        ## where DeltaOut = dLoss/dOutAct * dOutAct/dOutNet\n",
    "        ## for convenient re-use\n",
    "        \n",
    "        # input/output dim: [n_examples, n_classes]\n",
    "        d_loss__d_a_out = 2.*(a_out - y_onehot) / y.shape[0]\n",
    "\n",
    "        # input/output dim: [n_examples, n_classes]\n",
    "        d_a_out__d_z_out = a_out * (1. - a_out) # sigmoid derivative\n",
    "\n",
    "        # output dim: [n_examples, n_classes]\n",
    "        delta_out = d_loss__d_a_out * d_a_out__d_z_out # \"delta (rule) placeholder\"\n",
    "\n",
    "        # gradient for output weights\n",
    "        \n",
    "        # [n_examples, n_hidden]\n",
    "        d_z_out__dw_out = a_h\n",
    "        \n",
    "        # input dim: [n_classes, n_examples] dot [n_examples, n_hidden]\n",
    "        # output dim: [n_classes, n_hidden]\n",
    "        d_loss__dw_out = np.dot(delta_out.T, d_z_out__dw_out)\n",
    "        d_loss__db_out = np.sum(delta_out, axis=0)\n",
    "        \n",
    "        \n",
    "        \n",
    "        #################################        \n",
    "        # Part 2: dLoss/dHiddenWeights\n",
    "        ## = DeltaOut * dOutNet/dHiddenAct * dHiddenAct/dHiddenNet * dHiddenNet/dWeight\n",
    "        \n",
    "        # [n_classes, n_hidden]\n",
    "        d_z_out__a_h = self.weight_out\n",
    "        \n",
    "        # output dim: [n_examples, n_hidden]\n",
    "        d_loss__a_h = np.dot(delta_out, d_z_out__a_h)\n",
    "        \n",
    "        # [n_examples, n_hidden]\n",
    "        d_a_h__d_z_h = a_h * (1. - a_h) # sigmoid derivative\n",
    "        \n",
    "        # [n_examples, n_features]\n",
    "        d_z_h__d_w_h = x\n",
    "        \n",
    "        # output dim: [n_hidden, n_features]\n",
    "        d_loss__d_w_h = np.dot((d_loss__a_h * d_a_h__d_z_h).T, d_z_h__d_w_h)\n",
    "        d_loss__d_b_h = np.sum((d_loss__a_h * d_a_h__d_z_h), axis=0)\n",
    "\n",
    "        return (d_loss__dw_out, d_loss__db_out, \n",
    "                d_loss__d_w_h, d_loss__d_b_h)"
   ]
  },
  {
   "cell_type": "markdown",
   "id": "67dc6325",
   "metadata": {},
   "source": [
    "- The `backward` method implements the so-called `backpropagation algorithm`, which calculates the gradients of the loss with respect to the weight and bias parameters. Similar to Adaline, these gradients are then used to update these parameters via gradient descent.\n",
    "\n",
    "- Looking at this code implementation of the `NeuralNetMLP` class, you may have noticed that this object-oriented implementation differs from the familiar scikit-learn API that is centered around the `.fit()` and `.predict()` methods. \n",
    "\n",
    "- The main methods of the `NeuralNetMLP` class are the `.forward()` and `.backward()` methods. One of the reasons behind this is that it makes a complex neural network a bit easier to understand in terms of how the information flows through the networks."
   ]
  },
  {
   "cell_type": "code",
   "execution_count": 22,
   "id": "c8deec6b",
   "metadata": {},
   "outputs": [],
   "source": [
    "# Instantiate a new `NeuralNetMLP` object:\n",
    "model = NeuralNetMLP(num_features=28*28,\n",
    "                     num_hidden=50,\n",
    "                     num_classes=10)"
   ]
  },
  {
   "cell_type": "code",
   "execution_count": 32,
   "id": "04b045f5",
   "metadata": {},
   "outputs": [
    {
     "data": {
      "text/plain": [
       "((50, 784), (50,))"
      ]
     },
     "execution_count": 32,
     "metadata": {},
     "output_type": "execute_result"
    }
   ],
   "source": [
    "model.weight_h.shape, model.bias_h.shape"
   ]
  },
  {
   "cell_type": "markdown",
   "id": "e32f27e2",
   "metadata": {},
   "source": [
    "- The model accepts `MNIST` images reshaped into `784-dimensional` vectors (in the format of `X_train`, `X_valid`, or `X_test`, which we defined previously) for the 10 integer classes (digits 0-9). The hidden layer consists of 50 nodes.\n",
    "\n",
    "- Also, as you may be able to tell from looking at the previously defined `.forward()` method, we use a sigmoid activation function after the first hidden layer and output layer to keep things simple.\n",
    "\n",
    "\n",
    "![NN Architecture](./figures/NN-Architecture.png)"
   ]
  },
  {
   "cell_type": "markdown",
   "id": "b1de18ad",
   "metadata": {},
   "source": [
    "### **Coding the neural network training loop**\n",
    "\n",
    "- Defining data loaders:\n",
    "  - mini-batch generator\n",
    "  - takes dataset and divides it into mini-batches of a desired size for stochastic gradient descent training"
   ]
  },
  {
   "cell_type": "code",
   "execution_count": null,
   "id": "04bb35ce",
   "metadata": {},
   "outputs": [
    {
     "name": "stdout",
     "output_type": "stream",
     "text": [
      "(100, 784)\n"
     ]
    }
   ],
   "source": [
    "import numpy as np\n",
    "\n",
    "num_epochs = 50\n",
    "minibatch_size = 100\n",
    "\n",
    "def minibatch_generator(X, y, minibatch_size):\n",
    "    indices = np.arange(X.shape[0])\n",
    "    np.random.shuffle(indices)\n",
    "    for start_idx in range(0, indices.shape[0] - minibatch_size + 1, minibatch_size):\n",
    "        batch_idx = indices[start_idx:start_idx + minibatch_size]\n",
    "        \n",
    "        yield X[batch_idx], y[batch_idx]\n",
    "\n",
    "# Iterate over training epochs\n",
    "for i in range(num_epochs):\n",
    "    # iterate over minibatches\n",
    "    minibatch_gen = minibatch_generator(\n",
    "        X_train, y_train, minibatch_size\n",
    "    )\n",
    "    for X_train_mini, y_train_mini in minibatch_gen:\n",
    "        break\n",
    "    break\n",
    "\n",
    "print(X_train_mini.shape)"
   ]
  },
  {
   "cell_type": "code",
   "execution_count": 34,
   "id": "df9eb854",
   "metadata": {},
   "outputs": [
    {
     "name": "stdout",
     "output_type": "stream",
     "text": [
      "(100,)\n"
     ]
    }
   ],
   "source": [
    "print(y_train_mini.shape)"
   ]
  },
  {
   "cell_type": "markdown",
   "id": "ad0d8f0f",
   "metadata": {},
   "source": [
    "- **Defining a function to compute the loss and accuracy**"
   ]
  },
  {
   "cell_type": "code",
   "execution_count": 42,
   "id": "b3ac9403",
   "metadata": {},
   "outputs": [
    {
     "name": "stdout",
     "output_type": "stream",
     "text": [
      "Initial validation MSE: 0.3\n",
      "Initial validation accuracy: 9.8%\n"
     ]
    }
   ],
   "source": [
    "def mse_loss(targets, probas, num_labels=10):\n",
    "    onehot_targets = int_to_onehot(targets, num_labels=num_labels)\n",
    "    return np.mean((onehot_targets - probas)**2)\n",
    "\n",
    "\n",
    "def accuracy(targets, predicted_labels):\n",
    "    return np.mean(predicted_labels == targets) \n",
    "\n",
    "\n",
    "_, probas = model.forward(X_valid)\n",
    "mse = mse_loss(y_valid, probas)\n",
    "\n",
    "predicted_labels = np.argmax(probas, axis=1)\n",
    "acc = accuracy(y_valid, predicted_labels)\n",
    "\n",
    "print(f'Initial validation MSE: {mse:.1f}')\n",
    "print(f'Initial validation accuracy: {acc*100:.1f}%')"
   ]
  },
  {
   "cell_type": "code",
   "execution_count": null,
   "id": "72b7b077",
   "metadata": {},
   "outputs": [],
   "source": []
  },
  {
   "cell_type": "code",
   "execution_count": null,
   "id": "71cb7b6b",
   "metadata": {},
   "outputs": [],
   "source": []
  },
  {
   "cell_type": "code",
   "execution_count": null,
   "id": "53672555",
   "metadata": {},
   "outputs": [],
   "source": []
  },
  {
   "cell_type": "code",
   "execution_count": null,
   "id": "44ab4d37",
   "metadata": {},
   "outputs": [],
   "source": []
  },
  {
   "cell_type": "code",
   "execution_count": null,
   "id": "a64bb339",
   "metadata": {},
   "outputs": [],
   "source": []
  },
  {
   "cell_type": "code",
   "execution_count": null,
   "id": "7a12fe20",
   "metadata": {},
   "outputs": [],
   "source": []
  },
  {
   "cell_type": "code",
   "execution_count": null,
   "id": "03b20216",
   "metadata": {},
   "outputs": [],
   "source": []
  },
  {
   "cell_type": "code",
   "execution_count": null,
   "id": "a84866f4",
   "metadata": {},
   "outputs": [],
   "source": []
  },
  {
   "cell_type": "code",
   "execution_count": null,
   "id": "a8f1f407",
   "metadata": {},
   "outputs": [],
   "source": []
  },
  {
   "cell_type": "code",
   "execution_count": null,
   "id": "30cf21e7",
   "metadata": {},
   "outputs": [],
   "source": []
  },
  {
   "cell_type": "code",
   "execution_count": null,
   "id": "5a4ff534",
   "metadata": {},
   "outputs": [],
   "source": []
  },
  {
   "cell_type": "code",
   "execution_count": null,
   "id": "4c75f78f",
   "metadata": {},
   "outputs": [],
   "source": []
  },
  {
   "cell_type": "code",
   "execution_count": null,
   "id": "7508a73c",
   "metadata": {},
   "outputs": [],
   "source": []
  },
  {
   "cell_type": "code",
   "execution_count": null,
   "id": "90396c0c",
   "metadata": {},
   "outputs": [],
   "source": []
  },
  {
   "cell_type": "code",
   "execution_count": null,
   "id": "a4016b2c",
   "metadata": {},
   "outputs": [],
   "source": []
  },
  {
   "cell_type": "code",
   "execution_count": null,
   "id": "8b9b53d8",
   "metadata": {},
   "outputs": [],
   "source": []
  }
 ],
 "metadata": {
  "kernelspec": {
   "display_name": "venv (3.9.12)",
   "language": "python",
   "name": "python3"
  },
  "language_info": {
   "codemirror_mode": {
    "name": "ipython",
    "version": 3
   },
   "file_extension": ".py",
   "mimetype": "text/x-python",
   "name": "python",
   "nbconvert_exporter": "python",
   "pygments_lexer": "ipython3",
   "version": "3.9.12"
  }
 },
 "nbformat": 4,
 "nbformat_minor": 5
}
