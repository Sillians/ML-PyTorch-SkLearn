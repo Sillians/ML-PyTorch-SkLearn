{
 "cells": [
  {
   "cell_type": "markdown",
   "id": "db3e32d5",
   "metadata": {},
   "source": [
    "# **Parallelizing Neural Network Training with PyTorch (2)**"
   ]
  },
  {
   "cell_type": "markdown",
   "id": "cc7560cd",
   "metadata": {},
   "source": [
    "## **Building an NN model in PyTorch**\n",
    "\n",
    "- Basic utility components of PyTorch for manipulating tensors and organizing data into formats that we can iterate over during training."
   ]
  },
  {
   "cell_type": "markdown",
   "id": "689259f7",
   "metadata": {},
   "source": [
    "#### **The PyTorch neural network module (torch.nn)**\n",
    "\n",
    "- `torch.nn` is an elegantly designed module developed to help create and train NNs. It allows easy prototyping and the building of complex models in just a few lines of code.\n",
    "- `torch.nn` and `torch.optim`\n",
    "- `Dataset` and `DataLoader`\n",
    "- `nn.Module` class"
   ]
  },
  {
   "cell_type": "markdown",
   "id": "a7fedd63",
   "metadata": {},
   "source": [
    "#### **Building a linear regression model**\n",
    "\n",
    "- Build a simple model to solve a linear regression problem."
   ]
  },
  {
   "cell_type": "code",
   "execution_count": 1,
   "id": "85c52cbf",
   "metadata": {},
   "outputs": [],
   "source": [
    "import torch\n",
    "import numpy as np\n",
    "import matplotlib.pyplot as plt"
   ]
  },
  {
   "cell_type": "code",
   "execution_count": 2,
   "id": "d22d513c",
   "metadata": {},
   "outputs": [
    {
     "data": {
      "text/plain": [
       "((10, 1), (10,))"
      ]
     },
     "execution_count": 2,
     "metadata": {},
     "output_type": "execute_result"
    }
   ],
   "source": [
    "X_train = np.arange(10, dtype='float32').reshape((10, 1))\n",
    "y_train = np.array([1.0, 1.3, 3.1, 2.0, 5.0, 6.3, 6.6, \n",
    "                    7.4, 8.0, 9.0], dtype='float32')\n",
    "\n",
    "X_train.shape, y_train.shape"
   ]
  },
  {
   "cell_type": "code",
   "execution_count": 3,
   "id": "cc55149c",
   "metadata": {},
   "outputs": [
    {
     "data": {
      "image/png": "[encoded data removed]",
      "text/plain": [
       "<Figure size 640x480 with 1 Axes>"
      ]
     },
     "metadata": {},
     "output_type": "display_data"
    }
   ],
   "source": [
    "plt.plot(X_train, y_train, 'o', markersize=10)\n",
    "plt.xlabel('x')\n",
    "plt.ylabel('y')\n",
    "\n",
    "#plt.savefig('figures/12_07.pdf')\n",
    "plt.show()"
   ]
  },
  {
   "cell_type": "markdown",
   "id": "40cffcc6",
   "metadata": {},
   "source": [
    "- Standardize the features (mean centering and dividing by the standard deviation)\n",
    "- Create a PyTorch Dataset for the training set and a corresponding DataLoader"
   ]
  },
  {
   "cell_type": "code",
   "execution_count": 4,
   "id": "34979793",
   "metadata": {},
   "outputs": [],
   "source": [
    "from torch.utils.data import TensorDataset, DataLoader\n",
    "\n",
    "X_train_norm = (X_train - np.mean(X_train)) / np.std(X_train)\n",
    "X_train_norm = torch.from_numpy(X_train_norm)\n",
    "y_train = torch.from_numpy(y_train)\n",
    "\n",
    "train_ds = TensorDataset(X_train_norm, y_train)\n",
    "batch_size = 1\n",
    "train_dl = DataLoader(train_ds, batch_size, shuffle=True)"
   ]
  },
  {
   "cell_type": "code",
   "execution_count": 5,
   "id": "2363008f",
   "metadata": {},
   "outputs": [
    {
     "data": {
      "text/plain": [
       "<torch.utils.data.dataloader.DataLoader at 0x13ca608e0>"
      ]
     },
     "execution_count": 5,
     "metadata": {},
     "output_type": "execute_result"
    }
   ],
   "source": [
    "train_dl"
   ]
  },
  {
   "cell_type": "markdown",
   "id": "e9e307b7",
   "metadata": {},
   "source": [
    "**Linear regression from scratch**\n",
    "\n",
    "- model for linear regression as $z = wx + b$\n",
    "- define parameters of our model, weight and bias\n",
    "- define the model() function to determine how this model uses the input data to generate its output."
   ]
  },
  {
   "cell_type": "code",
   "execution_count": 6,
   "id": "98a6856d",
   "metadata": {},
   "outputs": [],
   "source": [
    "torch.manual_seed(1)\n",
    "weight = torch.randn(1)\n",
    "weight.requires_grad_()\n",
    "bias = torch.zeros(1, requires_grad=True)\n",
    "\n",
    "def model(xb):\n",
    "    return xb @ weight + bias"
   ]
  },
  {
   "cell_type": "markdown",
   "id": "550531a1",
   "metadata": {},
   "source": [
    "- define loss function that we want to minimize to find the optimal model weights\n",
    "- `mean squared error (MSE)` as our loss function:"
   ]
  },
  {
   "cell_type": "code",
   "execution_count": 7,
   "id": "7162a827",
   "metadata": {},
   "outputs": [],
   "source": [
    "def loss_fn(input, target):\n",
    "    return (input-target).pow(2).mean()"
   ]
  },
  {
   "cell_type": "markdown",
   "id": "36906e62",
   "metadata": {},
   "source": [
    "- `stochastic gradient descent` optimization algorithm\n",
    "- compute the gradients"
   ]
  },
  {
   "cell_type": "code",
   "execution_count": 10,
   "id": "832fc277",
   "metadata": {},
   "outputs": [
    {
     "name": "stdout",
     "output_type": "stream",
     "text": [
      "Epoch 0  Loss 26.1645\n",
      "Epoch 10  Loss 9.5615\n",
      "Epoch 20  Loss 20.9817\n",
      "Epoch 30  Loss 9.1085\n",
      "Epoch 40  Loss 9.3489\n",
      "Epoch 50  Loss 2.7146\n",
      "Epoch 60  Loss 5.9711\n",
      "Epoch 70  Loss 2.9416\n",
      "Epoch 80  Loss 2.0046\n",
      "Epoch 90  Loss 1.5627\n",
      "Epoch 100  Loss 1.2390\n",
      "Epoch 110  Loss 0.2136\n",
      "Epoch 120  Loss 0.8276\n",
      "Epoch 130  Loss 0.3162\n",
      "Epoch 140  Loss 0.1408\n",
      "Epoch 150  Loss 0.0634\n",
      "Epoch 160  Loss 1.9667\n",
      "Epoch 170  Loss 0.1075\n",
      "Epoch 180  Loss 0.3250\n",
      "Epoch 190  Loss 0.9476\n"
     ]
    }
   ],
   "source": [
    "learning_rate = 1e-3\n",
    "num_epochs = 200\n",
    "log_epochs = 10\n",
    "\n",
    "for epoch in range(num_epochs):\n",
    "    for x_batch, y_batch in train_dl:\n",
    "        pred = model(x_batch)\n",
    "        loss = loss_fn(pred, y_batch)\n",
    "        loss.backward()\n",
    "    \n",
    "    with torch.no_grad():\n",
    "        weight -= weight.grad * learning_rate\n",
    "        bias -= bias.grad * learning_rate\n",
    "        weight.grad.zero_()\n",
    "        bias.grad.zero_()\n",
    "    \n",
    "    if epoch % log_epochs==0:\n",
    "        print(f'Epoch {epoch}  Loss {loss.item():.4f}')"
   ]
  },
  {
   "cell_type": "markdown",
   "id": "a22d38ed",
   "metadata": {},
   "source": [
    "- Let's look at the trained model and plot it.\n",
    "- Apply same standardization to our test data."
   ]
  },
  {
   "cell_type": "code",
   "execution_count": 15,
   "id": "8b50421d",
   "metadata": {},
   "outputs": [
    {
     "name": "stdout",
     "output_type": "stream",
     "text": [
      "Final Parameters: 2.670930862426758 4.88258695602417\n"
     ]
    },
    {
     "data": {
      "image/png": "[encoded data removed]",
      "text/plain": [
       "<Figure size 1300x500 with 1 Axes>"
      ]
     },
     "metadata": {},
     "output_type": "display_data"
    }
   ],
   "source": [
    "print('Final Parameters:', weight.item(), bias.item())\n",
    " \n",
    "X_test = np.linspace(0, 9, num=100, dtype='float32').reshape(-1, 1)\n",
    "X_test_norm = (X_test - np.mean(X_train)) / np.std(X_train)\n",
    "X_test_norm = torch.from_numpy(X_test_norm)\n",
    "y_pred = model(X_test_norm).detach().numpy()\n",
    "\n",
    "\n",
    "fig = plt.figure(figsize=(13, 5))\n",
    "ax = fig.add_subplot(1, 2, 1)\n",
    "plt.plot(X_train_norm, y_train, 'o', markersize=10)\n",
    "plt.plot(X_test_norm, y_pred, '--', lw=3)\n",
    "plt.legend(['Training examples', 'Linear Reg.'], fontsize=15)\n",
    "ax.set_xlabel('x', size=15)\n",
    "ax.set_ylabel('y', size=15)\n",
    "ax.tick_params(axis='both', which='major', labelsize=15)\n",
    " \n",
    "#plt.savefig('figures/12_08.pdf')\n",
    "\n",
    "plt.show()"
   ]
  },
  {
   "cell_type": "markdown",
   "id": "07864ee8",
   "metadata": {},
   "source": [
    "#### **Model training via the torch.nn and torch.optim modules**\n",
    "\n",
    "- `torch.nn` module provides a set of loss fucntions.\n",
    "- `torch.optim` supports most commonly used optimization algorithms"
   ]
  },
  {
   "cell_type": "code",
   "execution_count": 16,
   "id": "8fd198c8",
   "metadata": {},
   "outputs": [],
   "source": [
    "import torch.nn as nn \n",
    "\n",
    "input_size = 1\n",
    "output_size = 1\n",
    "model = nn.Linear(input_size, output_size)\n",
    "\n",
    "loss_fn = nn.MSELoss(reduction='mean')\n",
    "optimizer = torch.optim.SGD(model.parameters(), lr=learning_rate)"
   ]
  },
  {
   "cell_type": "markdown",
   "id": "56ff2b82",
   "metadata": {},
   "source": [
    "- Call the `step()` method of the optimizer to train the model."
   ]
  },
  {
   "cell_type": "code",
   "execution_count": 17,
   "id": "22a441b1",
   "metadata": {},
   "outputs": [
    {
     "name": "stdout",
     "output_type": "stream",
     "text": [
      "Epoch 0  Loss 27.5217\n",
      "Epoch 10  Loss 5.4938\n",
      "Epoch 20  Loss 25.5754\n",
      "Epoch 30  Loss 22.2742\n",
      "Epoch 40  Loss 11.9622\n",
      "Epoch 50  Loss 0.0745\n",
      "Epoch 60  Loss 7.0669\n",
      "Epoch 70  Loss 4.6566\n",
      "Epoch 80  Loss 2.1235\n",
      "Epoch 90  Loss 0.7432\n",
      "Epoch 100  Loss 0.0600\n",
      "Epoch 110  Loss 1.0181\n",
      "Epoch 120  Loss 0.7559\n",
      "Epoch 130  Loss 0.2016\n",
      "Epoch 140  Loss 0.3912\n",
      "Epoch 150  Loss 0.1100\n",
      "Epoch 160  Loss 0.2599\n",
      "Epoch 170  Loss 0.4352\n",
      "Epoch 180  Loss 0.1192\n",
      "Epoch 190  Loss 0.0689\n"
     ]
    }
   ],
   "source": [
    "for epoch in range(num_epochs):\n",
    "    for x_batch, y_batch in train_dl:\n",
    "        # 1. Generate predictions\n",
    "        pred = model(x_batch)[:, 0]\n",
    "        \n",
    "        # 2. Calculate loss\n",
    "        loss = loss_fn(pred, y_batch)\n",
    "        \n",
    "        # 3. Compute gradients\n",
    "        loss.backward()\n",
    "        \n",
    "        # 4. Update parameters using gradients\n",
    "        optimizer.step()\n",
    "        \n",
    "        # 5. Reset the gradients to zero\n",
    "        optimizer.zero_grad()\n",
    "        \n",
    "    if epoch % log_epochs==0:\n",
    "        print(f'Epoch {epoch}  Loss {loss.item():.4f}')"
   ]
  },
  {
   "cell_type": "markdown",
   "id": "86b28fb9",
   "metadata": {},
   "source": [
    "- visualize results and make sure that they are similar to the results of the previous method"
   ]
  },
  {
   "cell_type": "code",
   "execution_count": 18,
   "id": "1ec83bc2",
   "metadata": {},
   "outputs": [
    {
     "name": "stdout",
     "output_type": "stream",
     "text": [
      "Final Parameters: 2.6411759853363037 4.87037992477417\n"
     ]
    },
    {
     "data": {
      "image/png": "[encoded data removed]",
      "text/plain": [
       "<Figure size 1300x500 with 1 Axes>"
      ]
     },
     "metadata": {},
     "output_type": "display_data"
    }
   ],
   "source": [
    "print('Final Parameters:', model.weight.item(), model.bias.item())\n",
    " \n",
    "X_test = np.linspace(0, 9, num=100, dtype='float32').reshape(-1, 1)\n",
    "X_test_norm = (X_test - np.mean(X_train)) / np.std(X_train)\n",
    "X_test_norm = torch.from_numpy(X_test_norm)\n",
    "y_pred = model(X_test_norm)\n",
    "\n",
    "\n",
    "fig = plt.figure(figsize=(13, 5))\n",
    "ax = fig.add_subplot(1, 2, 1)\n",
    "plt.plot(X_train_norm.detach().numpy(), y_train.detach().numpy(), 'o', markersize=10)\n",
    "plt.plot(X_test_norm.detach().numpy(), y_pred.detach().numpy(), '--', lw=3)\n",
    "plt.legend(['Training examples', 'Linear reg.'], fontsize=15)\n",
    "ax.set_xlabel('x', size=15)\n",
    "ax.set_ylabel('y', size=15)\n",
    "ax.tick_params(axis='both', which='major', labelsize=15)\n",
    " \n",
    "#plt.savefig('ch12-linreg-2.pdf')\n",
    "\n",
    "plt.show()"
   ]
  },
  {
   "cell_type": "markdown",
   "id": "4035a77b",
   "metadata": {},
   "source": [
    "#### **Building a multilayer perceptron for classifying flowers in the Iris dataset**\n",
    "\n",
    "- Classification task using the `Iris` flower dataset\n",
    "- Two layer perceptron using the `torch.nn` module"
   ]
  },
  {
   "cell_type": "code",
   "execution_count": 38,
   "id": "508d3681",
   "metadata": {},
   "outputs": [],
   "source": [
    "from sklearn.datasets import load_iris\n",
    "from sklearn.model_selection import train_test_split \n",
    "\n",
    "iris = load_iris()\n",
    "X = iris['data']\n",
    "y = iris['target']\n",
    " \n",
    "X_train, X_test, y_train, y_test = train_test_split(\n",
    "    X, y, test_size=1./3, random_state=1)"
   ]
  },
  {
   "cell_type": "code",
   "execution_count": 39,
   "id": "af044234",
   "metadata": {},
   "outputs": [
    {
     "data": {
      "text/plain": [
       "((100, 4), (50, 4))"
      ]
     },
     "execution_count": 39,
     "metadata": {},
     "output_type": "execute_result"
    }
   ],
   "source": [
    "X_train.shape, X_test.shape"
   ]
  },
  {
   "cell_type": "markdown",
   "id": "9e584787",
   "metadata": {},
   "source": [
    "- Standardize the features (mean centering and dividing by the standard deviation) and create a PyTorch `Dataset` for the training set and a corresponding `DataLoader`:"
   ]
  },
  {
   "cell_type": "code",
   "execution_count": 40,
   "id": "b6f695ae",
   "metadata": {},
   "outputs": [],
   "source": [
    "from torch.utils.data import DataLoader, TensorDataset\n",
    "\n",
    "X_train_norm = (X_train - np.mean(X_train)) / np.std(X_train)\n",
    "X_train_norm = torch.from_numpy(X_train_norm).float()\n",
    "y_train = torch.from_numpy(y_train)\n",
    "\n",
    "train_ds = TensorDataset(X_train_norm, y_train)\n",
    "\n",
    "torch.manual_seed(1)\n",
    "batch_size = 2\n",
    "train_dl = DataLoader(train_ds, batch_size, shuffle=True)"
   ]
  },
  {
   "cell_type": "markdown",
   "id": "b33a4f6c",
   "metadata": {},
   "source": [
    "- use the `torch.nn` module to build a model efficiently\n",
    "- `nn.Module` class\n",
    "- use the `Linear Layer` (fully connected layer or dense layer)\n",
    "  - `nn.Linear` applies an affine linear transformation to the incoming data: $y = xA^{T} + b$\n",
    "  \n",
    "- Two hidden layers"
   ]
  },
  {
   "cell_type": "code",
   "execution_count": null,
   "id": "5f23c37f",
   "metadata": {},
   "outputs": [],
   "source": [
    "class Model(nn.Module):\n",
    "    def __init__(self, input_size, hidden_size, output_size):\n",
    "        super().__init__()\n",
    "        self.layer1 = nn.Linear(input_size, hidden_size)  \n",
    "        self.layer2 = nn.Linear(hidden_size, output_size)  \n",
    "\n",
    "    def forward(self, x):\n",
    "        x = self.layer1(x)\n",
    "        x = nn.Sigmoid()(x)\n",
    "        x = self.layer2(x)\n",
    "        x = nn.Softmax(dim=1)(x)\n",
    "        return x\n",
    "    \n",
    "input_size = X_train_norm.shape[1]\n",
    "hidden_size = 16\n",
    "output_size = 3\n",
    " \n",
    "model = Model(input_size, hidden_size, output_size)\n",
    "\n",
    "learning_rate = 0.001\n",
    "\n",
    "loss_fn = nn.CrossEntropyLoss()\n",
    " \n",
    "optimizer = torch.optim.Adam(model.parameters(), lr=learning_rate)"
   ]
  },
  {
   "cell_type": "code",
   "execution_count": 42,
   "id": "f81b911f",
   "metadata": {},
   "outputs": [
    {
     "data": {
      "text/plain": [
       "100"
      ]
     },
     "execution_count": 42,
     "metadata": {},
     "output_type": "execute_result"
    }
   ],
   "source": [
    "X_train_norm.shape[0]"
   ]
  },
  {
   "cell_type": "markdown",
   "id": "8541193d",
   "metadata": {},
   "source": [
    "- Here, we used the sigmoid activation function for the first layer and softmax activation for the last (output) layer. \n",
    "-  Softmax activation in the last layer is used to support multiclass classification since we have three class labels here (which is why we have three neurons in the output layer)."
   ]
  },
  {
   "cell_type": "markdown",
   "id": "3ef4f801",
   "metadata": {},
   "source": [
    "**Specify the loss function as cross-entropy loss and the optimizer as Adam**"
   ]
  },
  {
   "cell_type": "code",
   "execution_count": 43,
   "id": "98cea96f",
   "metadata": {},
   "outputs": [],
   "source": [
    "learning_rate = 1e-3\n",
    "loss_fn = nn.CrossEntropyLoss()\n",
    "optimizer = torch.optim.Adam(model.parameters(), lr=learning_rate)"
   ]
  },
  {
   "cell_type": "markdown",
   "id": "ac47ebe3",
   "metadata": {},
   "source": [
    "- Train the model, and specify the number of epochs to be 100."
   ]
  },
  {
   "cell_type": "code",
   "execution_count": null,
   "id": "ab3a057d",
   "metadata": {},
   "outputs": [],
   "source": [
    "num_epochs = 100\n",
    "loss_hist = [0] * num_epochs\n",
    "accuracy_hist = [0] * num_epochs\n",
    "\n",
    "for epoch in range(num_epochs):\n",
    "\n",
    "    for x_batch, y_batch in train_dl:\n",
    "        pred = model(x_batch)\n",
    "        loss = loss_fn(pred, y_batch.long())\n",
    "        loss.backward()\n",
    "        optimizer.step()\n",
    "        optimizer.zero_grad()\n",
    "    \n",
    "        loss_hist[epoch] += loss.item()*y_batch.size(0)\n",
    "        is_correct = (torch.argmax(pred, dim=1) == y_batch).float()\n",
    "        accuracy_hist[epoch] += is_correct.sum()\n",
    "        \n",
    "    loss_hist[epoch] /= len(train_dl.dataset)\n",
    "    accuracy_hist[epoch] /= len(train_dl.dataset)"
   ]
  },
  {
   "cell_type": "markdown",
   "id": "c2a8cdbe",
   "metadata": {},
   "source": [
    "- The `loss_hist` and `accuracy_hist` lists keep the training loss and the training accuracy after each epoch. "
   ]
  },
  {
   "cell_type": "code",
   "execution_count": 47,
   "id": "4b7d9ad7",
   "metadata": {},
   "outputs": [
    {
     "data": {
      "image/png": "[encoded data removed]",
      "text/plain": [
       "<Figure size 1200x500 with 2 Axes>"
      ]
     },
     "metadata": {},
     "output_type": "display_data"
    }
   ],
   "source": [
    "fig = plt.figure(figsize=(12, 5))\n",
    "ax = fig.add_subplot(1, 2, 1)\n",
    "ax.plot(loss_hist, lw=3)\n",
    "ax.set_title('Training loss', size=15)\n",
    "ax.set_xlabel('Epoch', size=15)\n",
    "ax.tick_params(axis='both', which='major', labelsize=15)\n",
    "\n",
    "ax = fig.add_subplot(1, 2, 2)\n",
    "ax.plot(accuracy_hist, lw=3)\n",
    "ax.set_title('Training accuracy', size=15)\n",
    "ax.set_xlabel('Epoch', size=15)\n",
    "ax.tick_params(axis='both', which='major', labelsize=15)\n",
    "plt.tight_layout()\n",
    "\n",
    "#plt.savefig('figures/12_09.pdf')\n",
    " \n",
    "plt.show()"
   ]
  },
  {
   "cell_type": "markdown",
   "id": "958d1739",
   "metadata": {},
   "source": [
    "#### **Evaluating the trained model on the test dataset**\n",
    "\n",
    "- evaluate the classification accuracy of the trained model on the test dataset.\n",
    "- Apply same standardization to the test data."
   ]
  },
  {
   "cell_type": "code",
   "execution_count": null,
   "id": "c270a9f6",
   "metadata": {},
   "outputs": [
    {
     "name": "stdout",
     "output_type": "stream",
     "text": [
      "Test Acc.: 0.9800\n"
     ]
    }
   ],
   "source": [
    "X_test_norm = (X_test - np.mean(X_train)) / np.std(X_train)\n",
    "X_test_norm = torch.from_numpy(X_test_norm).float()\n",
    "y_test    = torch.from_numpy(y_test) \n",
    "pred_test = model(X_test_norm)\n",
    "\n",
    "correct = (torch.argmax(pred_test, dim=1) == y_test).float()\n",
    "accuracy = correct.mean()\n",
    " \n",
    "print(f'Test Acc.: {accuracy:.4f}')"
   ]
  },
  {
   "cell_type": "markdown",
   "id": "92d03796",
   "metadata": {},
   "source": [
    "**Saving and reloading the trained model**"
   ]
  },
  {
   "cell_type": "markdown",
   "id": "d3df31e7",
   "metadata": {},
   "source": [
    "- Trained models can be saved on disk for future use.\n",
    "- saves the model architecture and all the learned parameters.\n",
    "- `pt` or `pth` file extension."
   ]
  },
  {
   "cell_type": "code",
   "execution_count": 49,
   "id": "3f7fc0b8",
   "metadata": {},
   "outputs": [],
   "source": [
    "path = 'iris_classifier.pt'\n",
    "torch.save(model, path)"
   ]
  },
  {
   "cell_type": "markdown",
   "id": "39bb63e1",
   "metadata": {},
   "source": [
    "- Reload the saved model.\n",
    "- easily rebuild and reload the parameters in just one line."
   ]
  },
  {
   "cell_type": "code",
   "execution_count": null,
   "id": "4e29e82c",
   "metadata": {},
   "outputs": [],
   "source": [
    "# Load with weights_only=False — this allows loading the model class object:\n",
    "model_new = torch.load(path, weights_only=False)"
   ]
  },
  {
   "cell_type": "code",
   "execution_count": 54,
   "id": "753ce52c",
   "metadata": {},
   "outputs": [
    {
     "data": {
      "text/plain": [
       "Model(\n",
       "  (layer1): Linear(in_features=4, out_features=16, bias=True)\n",
       "  (layer2): Linear(in_features=16, out_features=3, bias=True)\n",
       ")"
      ]
     },
     "execution_count": 54,
     "metadata": {},
     "output_type": "execute_result"
    }
   ],
   "source": [
    "# verify the model architecture\n",
    "model_new.eval()"
   ]
  },
  {
   "cell_type": "markdown",
   "id": "f81a9763",
   "metadata": {},
   "source": [
    "- Let's evaluate this new model that is reloaded on the test dataset to verify that the results are the same;"
   ]
  },
  {
   "cell_type": "code",
   "execution_count": 55,
   "id": "34578bb1",
   "metadata": {},
   "outputs": [
    {
     "name": "stdout",
     "output_type": "stream",
     "text": [
      "Test Acc.: 0.9800\n"
     ]
    }
   ],
   "source": [
    "pred_test = model_new(X_test_norm)\n",
    "\n",
    "correct = (torch.argmax(pred_test, dim=1) == y_test).float()\n",
    "accuracy = correct.mean()\n",
    " \n",
    "print(f'Test Acc.: {accuracy:.4f}')"
   ]
  },
  {
   "cell_type": "markdown",
   "id": "f4173668",
   "metadata": {},
   "source": [
    "- If you want to save only the learned parameters, you can use `save(model.state_dict())` as follows:"
   ]
  },
  {
   "cell_type": "code",
   "execution_count": 56,
   "id": "7ec400d4",
   "metadata": {},
   "outputs": [],
   "source": [
    "path = 'iris_classifier_state.pt'\n",
    "torch.save(model.state_dict(), path)"
   ]
  },
  {
   "cell_type": "markdown",
   "id": "5c8dc5de",
   "metadata": {},
   "source": [
    "- reload the saved parameters"
   ]
  },
  {
   "cell_type": "code",
   "execution_count": 57,
   "id": "ad0383a0",
   "metadata": {},
   "outputs": [
    {
     "data": {
      "text/plain": [
       "<All keys matched successfully>"
      ]
     },
     "execution_count": 57,
     "metadata": {},
     "output_type": "execute_result"
    }
   ],
   "source": [
    "model_new = Model(input_size, hidden_size, output_size)\n",
    "model_new.load_state_dict(torch.load(path))"
   ]
  },
  {
   "cell_type": "markdown",
   "id": "60b3160c",
   "metadata": {},
   "source": [
    "### **Choosing activation functions for multilayer neural networks**\n",
    "\n",
    "- The logistic (sigmoid) activation function mimics the concept of a neuron in a brain most closely - we can think of it as the probability of whether a neuron fires.\n",
    "- If the sigmoid function returns output that is close to zero, the NN will learn very slowly, and it will be more likely to get trapped in the local minima of the loss landscape during training.\n",
    "- hyperbolic tangent as an activation function in hidden layers are always preferred."
   ]
  },
  {
   "cell_type": "markdown",
   "id": "5a2483df",
   "metadata": {},
   "source": [
    "##### **Logistic function recap**\n",
    "\n",
    "The logistic (sigmoid) function computes the following; \n",
    "\n",
    "$$\\sigma_{logistic}(z) = \\frac {1}{ 1 + e^{-z}}$$"
   ]
  },
  {
   "cell_type": "code",
   "execution_count": 58,
   "id": "74e10aeb",
   "metadata": {},
   "outputs": [
    {
     "name": "stdout",
     "output_type": "stream",
     "text": [
      "P(y=1|x) = 0.888\n"
     ]
    }
   ],
   "source": [
    "import numpy as np\n",
    "\n",
    "X = np.array([1, 1.4, 2.5]) ## first value must be 1\n",
    "w = np.array([0.4, 0.3, 0.5])\n",
    "\n",
    "def net_input(X, w):\n",
    "    return np.dot(X, w)\n",
    "\n",
    "def logistic(z):\n",
    "    return 1.0 / (1.0 + np.exp(-z))\n",
    "\n",
    "def logistic_activation(X, w):\n",
    "    z = net_input(X, w)\n",
    "    return logistic(z)\n",
    "\n",
    "print(f'P(y=1|x) = {logistic_activation(X, w):.3f}')"
   ]
  },
  {
   "cell_type": "markdown",
   "id": "00c14949",
   "metadata": {},
   "source": [
    "- `88.8%` probability that this particular sample, `x`, belongs to the positive class.\n",
    "- An output layer consisting of multiple logistic activation units does not produce meaningful, interpretable probability values."
   ]
  },
  {
   "cell_type": "code",
   "execution_count": null,
   "id": "cbe9ee0f",
   "metadata": {},
   "outputs": [
    {
     "name": "stdout",
     "output_type": "stream",
     "text": [
      "Net Input: \n",
      " [1.78 0.76 1.65]\n"
     ]
    }
   ],
   "source": [
    "# W : array with shape = (n_output_units, n_hidden_units+1)\n",
    "# note that the first column are the bias units\n",
    "\n",
    "W = np.array([[1.1, 1.2, 0.8, 0.4],\n",
    "              [0.2, 0.4, 1.0, 0.2],\n",
    "              [0.6, 1.5, 1.2, 0.7]])\n",
    "\n",
    "# A : data array with shape = (n_hidden_units + 1, n_samples)\n",
    "# note that the first column of this array must be 1\n",
    "\n",
    "A = np.array([[1, 0.1, 0.4, 0.6]])\n",
    "Z = np.dot(W, A[0])\n",
    "\n",
    "y_probas = logistic(Z)\n",
    "print('Net Input: \\n', Z)"
   ]
  },
  {
   "cell_type": "code",
   "execution_count": 60,
   "id": "b1e70e19",
   "metadata": {},
   "outputs": [
    {
     "name": "stdout",
     "output_type": "stream",
     "text": [
      "Output Units:\n",
      " [0.85569687 0.68135373 0.83889105]\n"
     ]
    }
   ],
   "source": [
    "print('Output Units:\\n', y_probas)"
   ]
  },
  {
   "cell_type": "markdown",
   "id": "529fb272",
   "metadata": {},
   "source": [
    "- One way to predict the class label from the output units obtained earlier is to use the maximum value:"
   ]
  },
  {
   "cell_type": "code",
   "execution_count": 61,
   "id": "6b433d09",
   "metadata": {},
   "outputs": [
    {
     "name": "stdout",
     "output_type": "stream",
     "text": [
      "Predicted class label: 0\n"
     ]
    }
   ],
   "source": [
    "y_class = np.argmax(Z, axis=0)\n",
    "print('Predicted class label:', y_class) "
   ]
  },
  {
   "cell_type": "markdown",
   "id": "03a13f43",
   "metadata": {},
   "source": [
    "- it can be useful to compute meaningful class probabilities for multiclass predictions."
   ]
  },
  {
   "cell_type": "markdown",
   "id": "754b1cd8",
   "metadata": {},
   "source": [
    "#### **Estimating class probabilities in multiclass classification via the softmax function**\n",
    "\n",
    "- `softmax` activation function is a soft form of the `argmax` function.\n",
    "- `softmax` provides the probability of each class in multiclass settings (multinomial logistic regression)\n",
    "- In `softmax`, the probability of a particular sample with net input `z` belonging to the ith class can be computed with a normalization term in the denominator, that is, the sum of the exponentially weighted linear functions:\n",
    "\n",
    "\n",
    "$$p(z) = \\sigma(z) = \\frac {e^{z_{i}}}{\\sum^{M}_{j = 1} e^{z_{j}}}$$"
   ]
  },
  {
   "cell_type": "code",
   "execution_count": 62,
   "id": "d62c005e",
   "metadata": {},
   "outputs": [],
   "source": [
    "def softmax(z):\n",
    "    return np.exp(z) / np.sum(np.exp(z))\n",
    "\n",
    "y_probas = softmax(Z)"
   ]
  },
  {
   "cell_type": "code",
   "execution_count": 63,
   "id": "d9197498",
   "metadata": {},
   "outputs": [
    {
     "name": "stdout",
     "output_type": "stream",
     "text": [
      "Probabilities:\n",
      " [0.44668973 0.16107406 0.39223621]\n"
     ]
    }
   ],
   "source": [
    "print('Probabilities:\\n', y_probas)"
   ]
  },
  {
   "cell_type": "code",
   "execution_count": 64,
   "id": "8f8cde9b",
   "metadata": {},
   "outputs": [
    {
     "data": {
      "text/plain": [
       "np.float64(1.0)"
      ]
     },
     "execution_count": 64,
     "metadata": {},
     "output_type": "execute_result"
    }
   ],
   "source": [
    "np.sum(y_probas)"
   ]
  },
  {
   "cell_type": "markdown",
   "id": "92bb988a",
   "metadata": {},
   "source": [
    "- The predicted class probabilities now sum to `1`.\n",
    "- It may help to think of the result of the `softmax function` as a `normalized` output that is useful for obtaining meaningful class-membership predictions in multiclass settings.\n"
   ]
  },
  {
   "cell_type": "code",
   "execution_count": 65,
   "id": "7174027b",
   "metadata": {},
   "outputs": [
    {
     "data": {
      "text/plain": [
       "tensor([0.4467, 0.1611, 0.3922], dtype=torch.float64)"
      ]
     },
     "execution_count": 65,
     "metadata": {},
     "output_type": "execute_result"
    }
   ],
   "source": [
    "# convert Z into a tensor, to see how to use the torch.softmax() activation function\n",
    "torch.softmax(torch.from_numpy(Z), dim=0)"
   ]
  },
  {
   "cell_type": "markdown",
   "id": "4fe30c11",
   "metadata": {},
   "source": [
    "#### **Broadening the output spectrum using a hyperbolic tangent**\n",
    "\n",
    "- `Hyperbolic tangent` (commonly known as tanh), interpreted as a rescaled version of the logistic function.\n",
    "- It has a broader output spectrum ranging in the open interval `(-1, 1)`, which can improve the convergence of the backpropagation algorithm.\n",
    "\n",
    "\n",
    "$$\\sigma_{logistic}(z) = \\frac {1}{ 1 + e^{-z}}$$\n",
    "\n",
    "$$\\sigma_{tanh}(z) = 2 \\times \\sigma_{logistic}(2z) - 1 = \\frac{e^{z} - e^{-z}}{e^{z} + e^{-z}}$$"
   ]
  },
  {
   "cell_type": "markdown",
   "id": "ca8e52dd",
   "metadata": {},
   "source": [
    "- In contrast, the logistic function returns an output signal ranging in the open interval `(0, 1)`.\n",
    "- Simple comparison of the logistic function and the hyperbolic tangent, let's plot the two sigmoidal functions:"
   ]
  },
  {
   "cell_type": "code",
   "execution_count": 67,
   "id": "de49d9fc",
   "metadata": {},
   "outputs": [],
   "source": [
    "import matplotlib.pyplot as plt\n",
    "%matplotlib inline\n",
    "\n",
    "def tanh(z):\n",
    "    e_p = np.exp(z)\n",
    "    e_m = np.exp(-z)\n",
    "    return (e_p - e_m) / (e_p + e_m)"
   ]
  },
  {
   "cell_type": "code",
   "execution_count": 68,
   "id": "134c93e2",
   "metadata": {},
   "outputs": [
    {
     "data": {
      "image/png": "[encoded data removed]",
      "text/plain": [
       "<Figure size 640x480 with 1 Axes>"
      ]
     },
     "metadata": {},
     "output_type": "display_data"
    }
   ],
   "source": [
    "z = np.arange(-5, 5, 0.005)\n",
    "log_act = logistic(z)\n",
    "tanh_act = tanh(z)\n",
    "\n",
    "\n",
    "plt.ylim([-1.5, 1.5])\n",
    "plt.xlabel('Net input $z$')\n",
    "plt.ylabel('Activation $\\phi(z)$')\n",
    "plt.axhline(1, color='black', linestyle=':')\n",
    "plt.axhline(0.5, color='black', linestyle=':')\n",
    "plt.axhline(0, color='black', linestyle=':')\n",
    "plt.axhline(-0.5, color='black', linestyle=':')\n",
    "plt.axhline(-1, color='black', linestyle=':')\n",
    "\n",
    "plt.plot(z, tanh_act,\n",
    "    linewidth=3, linestyle='--',\n",
    "    label='Tanh')\n",
    "plt.plot(z, log_act,\n",
    "    linewidth=3,\n",
    "    label='Logistic')\n",
    "plt.legend(loc='lower right')\n",
    "plt.tight_layout()\n",
    "\n",
    "#plt.savefig('figures/12_10.pdf')\n",
    "plt.show()"
   ]
  },
  {
   "cell_type": "markdown",
   "id": "40defbbf",
   "metadata": {},
   "source": [
    "- Alternatively, when building an `NN` model, we can use `torch.tanh(x)` in PyTorch to achieve the same results:"
   ]
  },
  {
   "cell_type": "code",
   "execution_count": 69,
   "id": "2f656b42",
   "metadata": {},
   "outputs": [
    {
     "data": {
      "text/plain": [
       "array([-0.9999092 , -0.99990829, -0.99990737, ...,  0.99990644,\n",
       "        0.99990737,  0.99990829])"
      ]
     },
     "execution_count": 69,
     "metadata": {},
     "output_type": "execute_result"
    }
   ],
   "source": [
    "np.tanh(z)"
   ]
  },
  {
   "cell_type": "code",
   "execution_count": 70,
   "id": "cd52b89c",
   "metadata": {},
   "outputs": [
    {
     "data": {
      "text/plain": [
       "tensor([-0.9999, -0.9999, -0.9999,  ...,  0.9999,  0.9999,  0.9999],\n",
       "       dtype=torch.float64)"
      ]
     },
     "execution_count": 70,
     "metadata": {},
     "output_type": "execute_result"
    }
   ],
   "source": [
    "torch.tanh(torch.from_numpy(z))"
   ]
  },
  {
   "cell_type": "code",
   "execution_count": 73,
   "id": "bab69522",
   "metadata": {},
   "outputs": [
    {
     "data": {
      "text/plain": [
       "array([0.00669285, 0.00672617, 0.00675966, ..., 0.99320669, 0.99324034,\n",
       "       0.99327383])"
      ]
     },
     "execution_count": 73,
     "metadata": {},
     "output_type": "execute_result"
    }
   ],
   "source": [
    "from scipy.special import expit\n",
    "expit(z)"
   ]
  },
  {
   "cell_type": "code",
   "execution_count": 74,
   "id": "bf32f4ba",
   "metadata": {},
   "outputs": [
    {
     "data": {
      "text/plain": [
       "tensor([0.0067, 0.0067, 0.0068,  ..., 0.9932, 0.9932, 0.9933],\n",
       "       dtype=torch.float64)"
      ]
     },
     "execution_count": 74,
     "metadata": {},
     "output_type": "execute_result"
    }
   ],
   "source": [
    "torch.sigmoid(torch.from_numpy(z))"
   ]
  },
  {
   "cell_type": "markdown",
   "id": "b4bc0a48",
   "metadata": {},
   "source": [
    "#### **Rectified linear unit activation**\n",
    "\n",
    "- `ReLU` is another activation function that is often used in deep `NNs`.\n",
    "- `ReLU` activation addresses the vanishing gradient problem of `tanh` and `logistic`(sigmoid) activations.\n",
    "\n",
    "\n",
    "$$\\sigma(z) = max(0, z)$$\n",
    "\n",
    "- `ReLU` is a nonlinear activation that is good for learning complex functions with `NNs`.\n",
    "- The derivative of `ReLU`, with respect to its input, is always `1` for positive input values. Therefore, it solves the problem of vanishing gradients, making it suitable for deep `NNs`."
   ]
  },
  {
   "cell_type": "code",
   "execution_count": 75,
   "id": "4bb2b5b5",
   "metadata": {},
   "outputs": [
    {
     "data": {
      "text/plain": [
       "tensor([0.0000, 0.0000, 0.0000,  ..., 4.9850, 4.9900, 4.9950],\n",
       "       dtype=torch.float64)"
      ]
     },
     "execution_count": 75,
     "metadata": {},
     "output_type": "execute_result"
    }
   ],
   "source": [
    "torch.relu(torch.from_numpy(z))"
   ]
  },
  {
   "cell_type": "code",
   "execution_count": 91,
   "id": "42e3aefb",
   "metadata": {},
   "outputs": [
    {
     "data": {
      "text/plain": [
       "array([0.   , 0.   , 0.   , ..., 4.985, 4.99 , 4.995])"
      ]
     },
     "execution_count": 91,
     "metadata": {},
     "output_type": "execute_result"
    }
   ],
   "source": [
    "def relu(z):\n",
    "    return np.maximum(0.0, z)\n",
    "\n",
    "relu(z)"
   ]
  },
  {
   "cell_type": "markdown",
   "id": "1b08d704",
   "metadata": {},
   "source": [
    "![Activation functions block](./figures/activation-block.png)"
   ]
  }
 ],
 "metadata": {
  "kernelspec": {
   "display_name": "venv (3.9.12)",
   "language": "python",
   "name": "python3"
  },
  "language_info": {
   "codemirror_mode": {
    "name": "ipython",
    "version": 3
   },
   "file_extension": ".py",
   "mimetype": "text/x-python",
   "name": "python",
   "nbconvert_exporter": "python",
   "pygments_lexer": "ipython3",
   "version": "3.9.12"
  }
 },
 "nbformat": 4,
 "nbformat_minor": 5
}
